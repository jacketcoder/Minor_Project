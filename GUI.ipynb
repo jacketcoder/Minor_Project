{
 "cells": [
  {
   "cell_type": "code",
   "execution_count": 4,
   "metadata": {
    "collapsed": false
   },
   "outputs": [
    {
     "name": "stdout",
     "output_type": "stream",
     "text": [
      "C:/Users/sagar/Downloads/Video\n",
      "Files =  C:/Users/sagar/Downloads/Video\n",
      "\n",
      "\n"
     ]
    }
   ],
   "source": [
    "from tkinter import*\n",
    "import tkinter.filedialog \n",
    "from tkinter.filedialog import askopenfilename\n",
    "from tkinter.messagebox import showerror\n",
    "\n",
    "root = Tk()\n",
    "def pathAdd():\n",
    "    directoryPath=filedialog.askdirectory()\n",
    "    #fname = askopenfilename(filetypes=((\"Template files\", \"*.tplate\"),(\"HTML files\", \"*.html;*.htm\"),(\"All files\", \"*.*\") ))\n",
    "    #InputFileList = root.tk.splitlist(fname)\n",
    "    entry1.insert(0, directoryPath)\n",
    "    #initUI()\n",
    "    print(directoryPath)\n",
    "    if directoryPath:\n",
    "            try:\n",
    "                print('Files = ', directoryPath)\n",
    "            except:                     # <- naked except is a bad idea\n",
    "                showerror(\"Open Source File\", \"Failed to read file\\n'%s'\" % directoryPath)\n",
    "            return\n",
    "\n",
    "    \n",
    "    return\n",
    "def processExe():\n",
    "    #fname=filedialog.askdirectory()\n",
    "\n",
    "    #fname = askopenfilename(filetypes=((\"Template files\", \"*.tplate\"),(\"HTML files\", \"*.html;*.htm\"),(\"All files\", \"*.*\") ))\n",
    "    #InputFileList = root.tk.splitlist(fname)\n",
    "    #one = Label(root, text =txt1)\n",
    "    #one.pack()\n",
    "    #initUI()\n",
    "    result=txt1.get(1.0, END)\n",
    "    print(result)\n",
    "\n",
    "    \n",
    "\n",
    "    \n",
    "    return\n",
    "\n",
    "\n",
    "one = Label(root, text =\"One\")\n",
    "one.pack()\n",
    "\n",
    "#entry1 = Entry(root,width=50)\n",
    "#entry1.pack(side=LEFT)\n",
    "#entry2 =Entry(root)\n",
    "#entry2.pack()\n",
    "#one.grid(row=0)\n",
    "#two.grid(row=1)\n",
    "#entry1.grid(row=0,column=1)\n",
    "#entry2.grid(row=1,column=1)\n",
    "\n",
    "\n",
    "frame1 = Frame()\n",
    "frame1.pack(fill=X)\n",
    "\n",
    "\n",
    "\n",
    "lbl1 = Label(frame1,text=\"Path\",  width=10)\n",
    "lbl1.pack(side=LEFT)\n",
    "entry1 = Entry(frame1,width=100)\n",
    "entry1.pack(side=LEFT, padx=0,pady=10 ,expand=True)\n",
    "\n",
    "\n",
    "addDirectoryButton = Button(root, text =\"     Add    \",command=pathAdd)\n",
    "addDirectoryButton.pack(padx=5,pady=10)\n",
    "\n",
    "\n",
    "\n",
    "\n",
    "frame2 = Frame()\n",
    "frame2.pack(side=LEFT,fill=X)\n",
    "        \n",
    "lbl2 = Label(frame2, text=\"Jobs Requirements\", width=50)\n",
    "lbl2.pack(expand=True, padx=5, pady=5)     \n",
    "\n",
    "\n",
    "\n",
    "#entry2 = Entry(frame2,width=50)\n",
    "#entry2.pack(fill=X, padx=5, expand=True)\n",
    "\n",
    "txt1 = Text(frame2,width=40,height=15)\n",
    "txt1.pack( side=LEFT,pady=5, padx=5)\n",
    "\n",
    "processButton = Button(frame2, text =\"    Process    \",command=processExe)\n",
    "processButton.pack(side=LEFT,padx=10,pady=10)\n",
    "        \n",
    "frame3 = Frame()\n",
    "frame3.pack(fill=BOTH, expand=True)\n",
    "        \n",
    "lbl3 = Label(frame3, text=\"Selected Candidates\", width=50)\n",
    "lbl3.pack( anchor=N, padx=5, pady=5)        \n",
    "\n",
    "txt = Text(frame3)\n",
    "txt.pack(fill=BOTH, pady=5, padx=5, expand=True)\n",
    "\n",
    "\n",
    "\n",
    "\n",
    "\n",
    "root.geometry(\"700x600\")\n",
    "root.mainloop()\n",
    "\n"
   ]
  },
  {
   "cell_type": "code",
   "execution_count": null,
   "metadata": {
    "collapsed": true
   },
   "outputs": [],
   "source": []
  },
  {
   "cell_type": "code",
   "execution_count": null,
   "metadata": {
    "collapsed": true
   },
   "outputs": [],
   "source": []
  },
  {
   "cell_type": "code",
   "execution_count": null,
   "metadata": {
    "collapsed": true
   },
   "outputs": [],
   "source": []
  }
 ],
 "metadata": {
  "kernelspec": {
   "display_name": "Python 3",
   "language": "python",
   "name": "python3"
  },
  "language_info": {
   "codemirror_mode": {
    "name": "ipython",
    "version": 3
   },
   "file_extension": ".py",
   "mimetype": "text/x-python",
   "name": "python",
   "nbconvert_exporter": "python",
   "pygments_lexer": "ipython3",
   "version": "3.6.0"
  }
 },
 "nbformat": 4,
 "nbformat_minor": 2
}
