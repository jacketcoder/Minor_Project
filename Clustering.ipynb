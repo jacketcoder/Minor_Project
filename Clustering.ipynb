{
 "cells": [
  {
   "cell_type": "code",
   "execution_count": 1,
   "metadata": {
    "collapsed": true
   },
   "outputs": [],
   "source": [
    "from sklearn.metrics import silhouette_score\n",
    "from sklearn.cluster import KMeans\n",
    "class Clustering:\n",
    "    @staticmethod\n",
    "    def findclusterInfo(data):\n",
    "        clusterInfo={}\n",
    "        for n_cluster in range(2, 11):\n",
    "            kmeans = KMeans(n_clusters=n_cluster).fit(data)\n",
    "            label = kmeans.labels_\n",
    "            sil_coeff = silhouette_score(data, label, metric='euclidean')\n",
    "            #print(\"For n_clusters={}, The Silhouette Coefficient is {}\".format(n_cluster, sil_coeff))\n",
    "            clusterInfo.update({n_cluster:float(sil_coeff)})\n",
    "        return clusterInfo\n",
    "    def clusterData(clusterNumber,data):\n",
    "        kmeans = KMeans(n_clusters=clusterNumber).fit(data)\n",
    "        return kmeans;"
   ]
  },
  {
   "cell_type": "code",
   "execution_count": null,
   "metadata": {
    "collapsed": true
   },
   "outputs": [],
   "source": []
  }
 ],
 "metadata": {
  "kernelspec": {
   "display_name": "Python 3",
   "language": "python",
   "name": "python3"
  },
  "language_info": {
   "codemirror_mode": {
    "name": "ipython",
    "version": 3
   },
   "file_extension": ".py",
   "mimetype": "text/x-python",
   "name": "python",
   "nbconvert_exporter": "python",
   "pygments_lexer": "ipython3",
   "version": "3.6.0"
  }
 },
 "nbformat": 4,
 "nbformat_minor": 2
}
