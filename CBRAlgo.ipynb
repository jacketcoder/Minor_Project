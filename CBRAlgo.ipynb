{
 "cells": [
  {
   "cell_type": "code",
   "execution_count": 1,
   "metadata": {
    "collapsed": true
   },
   "outputs": [],
   "source": [
    "class CBRAlgo:\n",
    "    @staticmethod    \n",
    "    def calculateCVScore(documentMatrix,topWords):\n",
    "        scoreList=[]\n",
    "        featureVector=documentMatrix.toarray()\n",
    "        for cvNumber,clusterNumber in enumerate(manager.kMeans.labels_):\n",
    "            score=0\n",
    "            for wordFrequency,weight in zip(featureVector[cvNumber],topWords.scoreList[clusterNumber]):\n",
    "                score+=wordFrequency*weight\n",
    "            scoreList.append(score)    \n",
    "        return scoreList\n",
    "    def calculateCVScore(documentMatrix,overAllWeight):\n",
    "        scoreList=[]\n",
    "        featureVector=documentMatrix.toarray()\n",
    "        for cvNumber,clusterNumber in enumerate(manager.kMeans.labels_):\n",
    "            score=0\n",
    "            for wordFrequency,weight in zip(featureVector[cvNumber],overAllWeight):\n",
    "                score+=wordFrequency*weight\n",
    "            scoreList.append(score)    \n",
    "        return scoreList\n",
    "        "
   ]
  },
  {
   "cell_type": "code",
   "execution_count": null,
   "metadata": {
    "collapsed": true
   },
   "outputs": [],
   "source": []
  }
 ],
 "metadata": {
  "kernelspec": {
   "display_name": "Python 3",
   "language": "python",
   "name": "python3"
  },
  "language_info": {
   "codemirror_mode": {
    "name": "ipython",
    "version": 3
   },
   "file_extension": ".py",
   "mimetype": "text/x-python",
   "name": "python",
   "nbconvert_exporter": "python",
   "pygments_lexer": "ipython3",
   "version": "3.6.0"
  }
 },
 "nbformat": 4,
 "nbformat_minor": 2
}
