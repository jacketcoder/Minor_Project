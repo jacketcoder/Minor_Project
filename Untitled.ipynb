{
 "cells": [
  {
   "cell_type": "code",
   "execution_count": 75,
   "metadata": {
    "collapsed": true
   },
   "outputs": [],
   "source": [
    "class communicationInformation:\n",
    "    def __init__(self):\n",
    "        self.directoryPath=\"\"\n",
    "        self.relevantWords=\"\"\n",
    "        self.jobSelected=\"\"\n",
    "    "
   ]
  },
  {
   "cell_type": "code",
   "execution_count": 76,
   "metadata": {
    "collapsed": false
   },
   "outputs": [],
   "source": [
    "from tkinter import*\n",
    "import tkinter.filedialog \n",
    "from tkinter.filedialog import askopenfilename\n",
    "from tkinter import Tk, StringVar, ttk\n",
    "import webbrowser\n",
    "\n",
    "class GUI:\n",
    "    def __init__(self,root):\n",
    "        self.passingInfo=communicationInformation()\n",
    "        self.root=root\n",
    "        self.frame = Frame()\n",
    "        self.frame.pack(fill=X)\n",
    "        self.directoryLabel = Label(self.frame,text=\"Path\",  width=10)\n",
    "        self.directoryLabel.pack(side=LEFT)\n",
    "        self.directoryEntry = Entry(self.frame,width=100)\n",
    "        self.directoryEntry.pack(side=LEFT, padx=0,pady=10 ,expand=True)\n",
    "        self.addDirectoryButton = Button(self.root, text =\"     Add    \",command=self.pathAdd)\n",
    "        self.addDirectoryButton.pack(padx=5,pady=10)\n",
    "        \n",
    "        self.jobReqFrame = Frame()\n",
    "        self.jobReqFrame.pack(side=LEFT,fill=X)        \n",
    "        self.jobRequirementLabel  = Label(self.jobReqFrame, text=\"Jobs Requirements\", width=50)\n",
    "        self.jobRequirementLabel.pack(expand=True, padx=5, pady=5)     \n",
    "        self.relevantWordsText = Text(self.jobReqFrame,width=40,height=15)\n",
    "        self.relevantWordsText.pack( side=LEFT,pady=5, padx=5)\n",
    "        \n",
    "        self.CVTitleFrame=Frame()\n",
    "        self.CVTitleFrame.pack(fill=X)\n",
    "        self.CVTitleLabel = Label(self.CVTitleFrame, text=\"Selecte Post\", width=50)\n",
    "        self.CVTitleLabel.pack( anchor=N, padx=0, pady=0)\n",
    "        \n",
    "        self.topCVDisplay = Frame()\n",
    "        self.topCVDisplay.pack(fill=X,padx=50)\n",
    "        self.box_value = StringVar()\n",
    "        self.box = ttk.Combobox(self.topCVDisplay, textvariable=self.box_value,state='readonly')\n",
    "        self.box['values'] = ('game developer', 'B', 'C')\n",
    "        self.box.grid(column=0, row=0)\n",
    "        \n",
    "        #process button\n",
    "        self.processButton = Button(self.jobReqFrame, text =\"    Process    \",command=self.processExe)\n",
    "        self.processButton.pack(side=LEFT,padx=10,pady=10)\n",
    "\n",
    "    def pathAdd(self):\n",
    "        directoryPath=filedialog.askdirectory()\n",
    "        self.directoryEntry.insert(0, directoryPath)\n",
    "        self.passingInfo.directoryPath=self.directoryEntry.get()\n",
    "    def getSelectedJob(self):\n",
    "        print(self.box.get())\n",
    "        self.passingInfo.jobSelected=self.box.get()\n",
    "    def processExe(self):\n",
    "        \n",
    "        return\n",
    "    def getRelevantWords(self):\n",
    "        self.passingInfo.relevantWords=self.relevantWordsText.get()\n"
   ]
  },
  {
   "cell_type": "code",
   "execution_count": 77,
   "metadata": {
    "collapsed": false
   },
   "outputs": [],
   "source": [
    "root=Tk()\n",
    "graphics=GUI(root)\n",
    "root.geometry(\"700x600\")\n",
    "root.mainloop()"
   ]
  },
  {
   "cell_type": "code",
   "execution_count": null,
   "metadata": {
    "collapsed": false
   },
   "outputs": [],
   "source": []
  },
  {
   "cell_type": "code",
   "execution_count": null,
   "metadata": {
    "collapsed": true
   },
   "outputs": [],
   "source": []
  }
 ],
 "metadata": {
  "kernelspec": {
   "display_name": "Python 3",
   "language": "python",
   "name": "python3"
  },
  "language_info": {
   "codemirror_mode": {
    "name": "ipython",
    "version": 3
   },
   "file_extension": ".py",
   "mimetype": "text/x-python",
   "name": "python",
   "nbconvert_exporter": "python",
   "pygments_lexer": "ipython3",
   "version": "3.6.0"
  }
 },
 "nbformat": 4,
 "nbformat_minor": 2
}
