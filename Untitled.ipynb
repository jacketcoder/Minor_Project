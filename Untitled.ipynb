{
 "cells": [
  {
   "cell_type": "code",
   "execution_count": 1,
   "metadata": {
    "collapsed": false
   },
   "outputs": [
    {
     "ename": "ModuleNotFoundError",
     "evalue": "No module named 'gensim'",
     "output_type": "error",
     "traceback": [
      "\u001b[0;31m---------------------------------------------------------------------------\u001b[0m",
      "\u001b[0;31mModuleNotFoundError\u001b[0m                       Traceback (most recent call last)",
      "\u001b[0;32m<ipython-input-1-67319b9504cb>\u001b[0m in \u001b[0;36m<module>\u001b[0;34m()\u001b[0m\n\u001b[0;32m----> 1\u001b[0;31m \u001b[1;32mfrom\u001b[0m \u001b[0mgensim\u001b[0m\u001b[1;33m.\u001b[0m\u001b[0mmodels\u001b[0m \u001b[1;32mimport\u001b[0m \u001b[0mWord2Vec\u001b[0m\u001b[1;33m\u001b[0m\u001b[0m\n\u001b[0m\u001b[1;32m      2\u001b[0m \u001b[0mmodel\u001b[0m \u001b[1;33m=\u001b[0m \u001b[0mWord2Vec\u001b[0m\u001b[1;33m.\u001b[0m\u001b[0mload\u001b[0m\u001b[1;33m(\u001b[0m\u001b[1;34m\"300features_40minwords_10context\"\u001b[0m\u001b[1;33m)\u001b[0m\u001b[1;33m\u001b[0m\u001b[0m\n",
      "\u001b[0;31mModuleNotFoundError\u001b[0m: No module named 'gensim'"
     ]
    }
   ],
   "source": [
    "from gensim.models import Word2Vec\n",
    "model = Word2Vec.load(\"300features_40minwords_10context\")"
   ]
  },
  {
   "cell_type": "code",
   "execution_count": null,
   "metadata": {
    "collapsed": false
   },
   "outputs": [],
   "source": [
    "class relevantWords:\n",
    "    def __init__(self):\n",
    "        self.category=[\"role\",\"language\",\"softwarePackage\",\"experienceSkill\",\"os\"]\n",
    "        self.jobs=[\"database Engineer\",\"network engineer\",\"software tester\",\"web designer\"]\n",
    "        self.role=[]\n",
    "        self.language=[]\n",
    "        self.softwarePackage=[]\n",
    "        self.experienceSkill=[]\n",
    "        self.os=[]\n",
    "        self.categoryDictionary={}\n",
    "        self.relevantDictionary={}\n",
    "        self.relevantWordList=[]\n",
    "    def enterWords(self,category,words):\n",
    "        if (category in self.category):\n",
    "            if(category==self.category[0]):\n",
    "                for word in words:\n",
    "                    self.role.append(word)\n",
    "            elif(category==self.category[1]):\n",
    "                for word in words:\n",
    "                    self.language.append(word)\n",
    "            elif(category==self.category[2]):\n",
    "                for word in words:\n",
    "                    self.softwarePackage.append(word)\n",
    "            elif(category==self.category[3]):\n",
    "                for word in words:\n",
    "                    self.experienceSkill.append(word)\n",
    "            elif(category==self.category[4]):\n",
    "                for word in words:\n",
    "                    self.os.append(word)\n",
    "        else:\n",
    "            print(\"category not matched\")\n",
    "    def updateDict(self,jobName):\n",
    "        tempDict={}\n",
    "        tempDict.update({self.category[0]:self.role})\n",
    "        tempDict.update({self.category[1]:self.language})\n",
    "        tempDict.update({self.category[2]:self.softwarePackage})\n",
    "        tempDict.update({self.category[3]:self.experienceSkill})\n",
    "        tempDict.update({self.category[4]:self.os})\n",
    "        self.role=[]\n",
    "        self.language=[]\n",
    "        self.softwarePackage=[]\n",
    "        self.experienceSkill=[]\n",
    "        self.os=[]\n",
    "#         if(not(self.readfileMode(\"relevantDictionary\")) is None):\n",
    "#             self.relevantDictionary=self.readfileMode(\"relevantDictionary\")\n",
    "        self.relevantDictionary.update({jobName:tempDict})\n",
    "#         self.writefileMode(\"relevantDictionary\",self.relevantDictionary)\n",
    "    def readfileMode(self,fileName):\n",
    "        try:\n",
    "            with open(fileName+\".json\",\"r\") as file:\n",
    "                data=json.load(file)\n",
    "            file.close()\n",
    "            return data\n",
    "        except Exception as e:\n",
    "            print(\"error in filemode.\\n Error is\"+str(e))\n",
    "            return None\n",
    "    def writefileMode(self,fileName,data):\n",
    "        try:\n",
    "            with open(fileName+\".json\",\"w\") as file:\n",
    "                json.dump(data,file)\n",
    "            file.close()\n",
    "        except Exception as e:\n",
    "            print(\"error in filemode.\\n Error is\"+str(e))\n",
    "    def getRelevantWords(self,source=None):\n",
    "        relevantWords=[]\n",
    "        if(source is None):\n",
    "            source=self.relevantDictionary\n",
    "        for key,value in source.items():\n",
    "            for key1,value1 in value.items():\n",
    "                for word in value1:\n",
    "                    relevantWords.append(word)\n",
    "        return set(relevantWords)\n",
    "        "
   ]
  },
  {
   "cell_type": "code",
   "execution_count": null,
   "metadata": {
    "collapsed": true
   },
   "outputs": [],
   "source": [
    "rv=relevantWords()\n",
    "rv.enterWords(\"role\",[\"communication\",\"network\",\"server\",\"client\"])\n",
    "rv.enterWords(\"language\",[\"python\",\"bash\",\"php\",\"c++\",\"c\"])\n",
    "rv.enterWords(\"softwarePackage\",[])\n",
    "rv.enterWords(\"experienceSkill\",[\"lan\",\"cloud\",\"wan\",\"man\",\"gan\",\"cyber\",\"security\",\"dns\",\"iot\",\"virtulization\"])\n",
    "rv.enterWords(\"os\",[\"unix\",\"windows\",\"linux\"])\n",
    "rv.updateDict(\"network enginer\")"
   ]
  },
  {
   "cell_type": "code",
   "execution_count": 11,
   "metadata": {
    "collapsed": false
   },
   "outputs": [
    {
     "data": {
      "image/png": "[encoded data removed]",
      "text/plain": [
       "<matplotlib.figure.Figure at 0xef5f08a898>"
      ]
     },
     "metadata": {},
     "output_type": "display_data"
    }
   ],
   "source": [
    "import pandas as pd\n",
    "import numpy as np\n",
    "import matplotlib.pyplot as plt\n",
    "%matplotlib inline\n",
    "\n",
    "df = pd.DataFrame({\n",
    "    'x': [12, 20, 28, 18, 29, 33, 24, 45, 45, 52, 51, 52, 55, 53, 55, 61, 64, 69, 72],\n",
    "    'y': [39, 36, 30, 52, 54, 46, 55, 59, 63, 70, 66, 63, 58, 23, 14, 8, 19, 7, 24]\n",
    "})\n",
    "\n",
    "\n",
    "np.random.seed(200)\n",
    "k = 3\n",
    "# centroids[i] = [x, y]\n",
    "centroids = {\n",
    "    i+1: [np.random.randint(0, 80), np.random.randint(0, 80)]\n",
    "    for i in range(k)\n",
    "}\n",
    "    \n",
    "fig = plt.figure(figsize=(5, 5))\n",
    "plt.scatter(df['x'], df['y'], color='k')\n",
    "colmap = {1: 'r', 2: 'g', 3: 'b'}\n",
    "for i in centroids.keys():\n",
    "    plt.scatter(*centroids[i], color=colmap[i])\n",
    "plt.xlim(0, 80)\n",
    "plt.ylim(0, 80)\n",
    "plt.show()"
   ]
  },
  {
   "cell_type": "code",
   "execution_count": 16,
   "metadata": {
    "collapsed": false
   },
   "outputs": [
    {
     "data": {
      "text/plain": [
       "KMeans(algorithm='auto', copy_x=True, init='k-means++', max_iter=300,\n",
       "    n_clusters=3, n_init=10, n_jobs=1, precompute_distances='auto',\n",
       "    random_state=None, tol=0.0001, verbose=0)"
      ]
     },
     "execution_count": 16,
     "metadata": {},
     "output_type": "execute_result"
    }
   ],
   "source": [
    "df = pd.DataFrame({\n",
    "    'x': [12, 20, 28, 18, 29, 33, 24, 45, 45, 52, 51, 52, 55, 53, 55, 61, 64, 69, 72],\n",
    "    'y': [39, 36, 30, 52, 54, 46, 55, 59, 63, 70, 66, 63, 58, 23, 14, 8, 19, 7, 24]\n",
    "})\n",
    "\n",
    "from sklearn.cluster import KMeans\n",
    "\n",
    "kmeans = KMeans(n_clusters=3)\n",
    "kmeans.fit(df)"
   ]
  },
  {
   "cell_type": "code",
   "execution_count": 19,
   "metadata": {
    "collapsed": false
   },
   "outputs": [
    {
     "name": "stdout",
     "output_type": "stream",
     "text": [
      "3\n",
      "19\n"
     ]
    }
   ],
   "source": [
    "print(len(kmeans.cluster_centers_))\n",
    "print(len(kmeans.labels_))"
   ]
  },
  {
   "cell_type": "code",
   "execution_count": 20,
   "metadata": {
    "collapsed": false
   },
   "outputs": [
    {
     "name": "stdout",
     "output_type": "stream",
     "text": [
      "[ 62.33333333  15.83333333]\n",
      "[1 1 1 1 1 1 1 2 2 2 2 2 2 0 0 0 0 0 0]\n"
     ]
    }
   ],
   "source": [
    "print(kmeans.cluster_centers_[0])\n",
    "print(kmeans.labels_)"
   ]
  },
  {
   "cell_type": "code",
   "execution_count": null,
   "metadata": {
    "collapsed": true
   },
   "outputs": [],
   "source": [
    "# relevantWords=['adobe',\n",
    "# 'advertising',\n",
    "# 'art',\n",
    "# 'campaigns',\n",
    "# 'graphic',\n",
    "# 'creative',\n",
    "# 'client',\n",
    "# 'designer',\n",
    "# 'commucnications',\n",
    "# 'graphics',\n",
    "# 'marketing',\n",
    "# 'microsoft',\n",
    "# 'photography',\n",
    "# 'photoshop',\n",
    "# 'social',\n",
    "# 'visual',\n",
    "# 'adobe',\n",
    "# 'game',\n",
    "# 'design',\n",
    "# 'development',\n",
    "# 'android',\n",
    "# 'creative',\n",
    "# 'app',\n",
    "# 'engine',\n",
    "# 'computer',\n",
    "# 'css',\n",
    "# 'engine',\n",
    "# 'mobile',\n",
    "# 'excel',\n",
    "# 'java',\n",
    "# 'javascript',\n",
    "# 'sql',\n",
    "# 'linux',\n",
    "# 'maya',\n",
    "# 'microsoft',\n",
    "# 'office',\n",
    "# 'photoshop',\n",
    "# 'python',\n",
    "# 'studio',\n",
    "# 'unity',\n",
    "# 'xml',\n",
    "# 'analysis',\n",
    "# 'administration',\n",
    "# 'client',\n",
    "# 'communication',\n",
    "# 'company',\n",
    "# 'corporate',\n",
    "# 'director',\n",
    "# 'database',\n",
    "# 'employees',\n",
    "# 'leadership',\n",
    "# 'excel',\n",
    "# 'java',\n",
    "# 'hiring',\n",
    "# 'interviewing',\n",
    "# 'manage',\n",
    "# 'ms',\n",
    "# 'interviews',\n",
    "# 'issues',\n",
    "# 'manager',\n",
    "# 'meetings',\n",
    "# 'marketing',\n",
    "# 'resource',\n",
    "# 'office',\n",
    "# 'orientation',\n",
    "# 'recruiter',\n",
    "# 'recruitment',\n",
    "# 'policies',\n",
    "# 'strategics',\n",
    "# 'web',\n",
    "# 'executie',\n",
    "# 'compliance',\n",
    "# 'administration',\n",
    "# 'tracking',\n",
    "# 'analysis',\n",
    "# 'agile',\n",
    "# 'coordination',\n",
    "# 'corporation',\n",
    "# 'computer',\n",
    "# 'database',\n",
    "# 'business',\n",
    "# 'documenation',\n",
    "# 'html',\n",
    "# 'sales',\n",
    "# 'specifications',\n",
    "# 'maintainance',\n",
    "# 'equipment',\n",
    "# 'design',\n",
    "# 'director',\n",
    "# 'database',\n",
    "# 'development',\n",
    "# 'engineer',\n",
    "# 'excel',\n",
    "# 'integration',\n",
    "# 'leadership',\n",
    "# 'professional',\n",
    "# 'scheduling',\n",
    "# 'microsoft',\n",
    "# 'management',\n",
    "# 'office',\n",
    "# 'technical',\n",
    "# 'technology',\n",
    "# 'systems',\n",
    "# 'analysis',\n",
    "# 'computer',\n",
    "# 'data',\n",
    "# 'design',\n",
    "# 'excel',\n",
    "# 'inspection',\n",
    "# 'inspector',\n",
    "# 'office',\n",
    "# 'technical',\n",
    "# 'programming',\n",
    "# 'information',\n",
    "# 'java',\n",
    "# 'microsoft',\n",
    "# 'testing',\n",
    "# 'test',\n",
    "# 'technical',\n",
    "# 'visual',\n",
    "# 'management',\n",
    "# 'responsible',\n",
    "# 'training',\n",
    "# 'quality',\n",
    "# 'skills',\n",
    "# 'web',\n",
    "# 'software'\n",
    "#  'agile','ajax','angularjs','ant','apache','api','asp','aws','bootstrap','cloud','css'\n",
    "# 'dhtml','eclipse','dreamweaver','ejb','excel','github','java','javascript','jquery','json',\n",
    "# 'linkedin','mvc','mysql','netbeans','nodejs','oracle','perl','php','photoshop','pvt','reactjs',\n",
    "# 'ruby','scrum','solaris','sublime','svn','wcf','websphere','wpf','xsl','wsdl','vb','uat','analysis','authorized','client',\n",
    "# 'database','excel','information','javascript','project','services','sql','web','manager','visual','css','database',\n",
    "# 'engineering','framework','html','java','javascript','jquery','project','sql','studio','technical','visual','web','server','net',\n",
    "# 'adobe','agile','ajax','android','angularjs','apache','api','asp','aws',\n",
    "# 'backend','bootstrap','cloud','css','database','dhtml',\n",
    "# 'dreamweaver','eclipse','ejb','excel','github','gui','hibernate',\n",
    "# 'html','http','ibm','ios','ip','java','javascript','jquery','json','junit','linkedin',\n",
    "# 'mongodb','mvc','mysql','net','nodejs','oracle','php','pvt','python','ruby','scrum',\n",
    "# 'sdlc','soap','sql','swift','svn','tfs','tomcat','ui','ux','wcf','xml','xhtml','xslt'\n",
    "# 'adobe','css','html','http','illustrator','indesign','interface','graphic',\n",
    "# 'photoshop','invision','mobile','mockups','sketch','software','suite','ui',\n",
    "# 'ux','website'\n",
    "# ]\n",
    "# print(len(relevantWords))\n",
    "# print(len(set(relevantWords)))"
   ]
  }
 ],
 "metadata": {
  "kernelspec": {
   "display_name": "Python 3",
   "language": "python",
   "name": "python3"
  },
  "language_info": {
   "codemirror_mode": {
    "name": "ipython",
    "version": 3
   },
   "file_extension": ".py",
   "mimetype": "text/x-python",
   "name": "python",
   "nbconvert_exporter": "python",
   "pygments_lexer": "ipython3",
   "version": "3.6.0"
  }
 },
 "nbformat": 4,
 "nbformat_minor": 2
}
