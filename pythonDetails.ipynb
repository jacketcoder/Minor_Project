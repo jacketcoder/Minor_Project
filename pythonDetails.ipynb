{
 "cells": [
  {
   "cell_type": "code",
   "execution_count": 44,
   "metadata": {
    "collapsed": false
   },
   "outputs": [],
   "source": [
    "class pdfToText:\n",
    "    def __init__(self,fileName):\n",
    "        self.fileName=fileName\n",
    "        #holds regrexed text\n",
    "        self.text=\"\"\n",
    "        #holds string of pdf data directly\n",
    "        self.rawtext=\"\"\n",
    "        self.refinedText=\"\"\n",
    "        self.refinedWordWholeList=[]\n",
    "        self.lineList=[]\n",
    "        self.wordListEachLine=[]\n",
    "        self.totalWordList=[]\n",
    "        self.tagList=[]\n",
    "    def convertPDFtoText(self):\n",
    "        import PyPDF2\n",
    "        pdfFileObj = open(self.fileName,'rb')     #'rb' for read binary mode\n",
    "        pdfReader = PyPDF2.PdfFileReader(pdfFileObj)\n",
    "        noOfPages=pdfReader.numPages\n",
    "        for pages in range(0,pdfReader.numPages):\n",
    "            pageObj = pdfReader.getPage(pages)          #'9' is the page number\n",
    "            self.rawtext+=pageObj.extractText()\n",
    "        self.normalizeText()\n",
    "        self.sizeOfText()\n",
    "    def normalizeText(self):\n",
    "        import nltk\n",
    "        self.removeSpecialrefinedTextCharacterFromString()\n",
    "        self.tokenizeToLine()\n",
    "        self.tokenizeToWords()\n",
    "        self.tokenizeToWordsEachLine()\n",
    "        stopwords=nltk.corpus.stopwords.words('english')\n",
    "        self.refinedWordWholeList=[word for word in self.totalWordList if word not in stopwords]\n",
    "        wnl = nltk.WordNetLemmatizer()\n",
    "        self.refinedWordWholeList=[wnl.lemmatize(word) for word in self.refinedWordWholeList]\n",
    "        self.refinedText=' '.join(self.refinedWordWholeList)\n",
    "    def removeSpecialrefinedTextCharacterFromString(self):\n",
    "        import re\n",
    "        self.text+= re.sub(r'[^a-zA-Z ]',r'',self.rawtext)\n",
    "        \n",
    "    def printAllVariables(self):\n",
    "        print(\"\\nself.text:\\n\"+self.text)\n",
    "        print(\"\\nself.rawtext:\\n\"+self.rawtext)\n",
    "        print(\"\\nself.lineList:\\n\")\n",
    "        for line in self.lineList:\n",
    "            print(line)\n",
    "        print(\"\\nself.wordListEachLine:\\n\")\n",
    "        for line in self.wordListEachLine:\n",
    "            print(line)\n",
    "        print(\"\\nself.tagList:\\n\")\n",
    "        for line in self.tagList:\n",
    "            print(line)\n",
    "        print(\"\\nself.refinedWordWholeList:\\n\")\n",
    "        print(self.refinedWordWholeList)\n",
    "        print(\"\\nself.totalWordList:\\n\")\n",
    "        print(self.totalWordList)\n",
    "       \n",
    "      \n",
    "    def sizeOfText(self):\n",
    "        return len(self.text)\n",
    "    \n",
    "    def tokenizeToLine(self):\n",
    "        import nltk\n",
    "        self.lineList=nltk.sent_tokenize(self.rawtext)\n",
    "        \n",
    "    def tokenizeToWordsEachLine(self):\n",
    "        import nltk\n",
    "        for line in self.lineList:\n",
    "            self.wordListEachLine.append(nltk.word_tokenize(line))\n",
    "            \n",
    "    def tokenizeToWords(self):\n",
    "        import nltk\n",
    "        self.totalWordList=nltk.word_tokenize(self.text)\n",
    "            \n",
    "    def textVsWordGraph(self,listName=None):\n",
    "        import nltk\n",
    "        if listName is None:\n",
    "            listName=self.totalWordList\n",
    "        FDIST=nltk.FreqDist(listName)\n",
    "        FDIST.plot(10,linewidth=1.0)\n",
    "        print(\"comparing top 20 word occurance in whole text\")\n",
    "        \n",
    "   \n",
    "    def categorizePOSTag(self,listName=None):\n",
    "        import nltk\n",
    "        if listName is None:\n",
    "            listName=self.totalWordList\n",
    "        self.tagList=nltk.pos_tag(listName)\n",
    "        "
   ]
  },
  {
   "cell_type": "code",
   "execution_count": 45,
   "metadata": {
    "collapsed": false
   },
   "outputs": [],
   "source": [
    "class databaseHandler:\n",
    "    def __init__(self,password=\"ST.xavier51\",databaseName=\"cvRanking\"):\n",
    "        import pymysql\n",
    "        try:\n",
    "            self.database=pymysql.connect(\"localhost\",\"root\",\"ST.xavier51\",\"cvRanking\")\n",
    "            self.cursor = self.database.cursor()\n",
    "        except Exception as e:\n",
    "            print(\"error info %s\"%e)\n",
    "    def entryTheCV(self,data_CV):\n",
    "        try:\n",
    "            dataReturned=self.checkDuplication(data_CV[1])\n",
    "            if(len(dataReturned)==0):\n",
    "                add_CV=\"\"\"insert into recordentry1\n",
    "                    (checkRecord,recordname)\n",
    "                    values(%s,%s)\"\"\"\n",
    "    #             add_CV=\"\"\"insert into recordentry\n",
    "    #                 (idrecordEntry,checkRecord,recordname)\n",
    "    #                 values(%s,%s,%s)\"\"\"\n",
    "                #data_CV=(\"yes\",\"ram\")\n",
    "                print(data_CV)\n",
    "                self.cursor.execute(add_CV,data_CV)\n",
    "                self.database.commit()\n",
    "                print(\"CV is entered\")\n",
    "                return True;\n",
    "            else:\n",
    "                print(\"CV already present\\n location at %s\"%str(dataReturned))\n",
    "                return False\n",
    "        except Exception as e:\n",
    "            print(\"in entryTheCV\\t\"+str(e))\n",
    "            return False\n",
    "    def checkDuplication(self,name_CV):\n",
    "        try:\n",
    "            check_CV=\"\"\"select* from recordentry as re where re.recordname=%s\"\"\"\n",
    "            self.cursor.execute(check_CV,name_CV)\n",
    "            result = self.cursor.fetchall()\n",
    "        except Exception as e:\n",
    "            print(\"in process checkDuplication\\t\"+str(e))\n",
    "        return result\n",
    "            \n",
    "\n",
    "        \n",
    "    def closeConnection(self):\n",
    "        self.database.close()\n"
   ]
  },
  {
   "cell_type": "code",
   "execution_count": 46,
   "metadata": {
    "collapsed": false
   },
   "outputs": [],
   "source": [
    "class CV_manager:\n",
    "    def __init__(self):\n",
    "        self.database=databaseHandler()\n",
    "        from sklearn.feature_extraction.text import CountVectorizer\n",
    "        self.vectorizer=CountVectorizer()\n",
    "        self.CVList=[]\n",
    "        #refined word coll\n",
    "        self.textCollectionForDM=[]\n",
    "        self.wordCollection=[]\n",
    "        self.tagCollection=[]\n",
    "        self.documentMatrix=[]\n",
    "        self.featureVectorDict={}\n",
    "        self.normalizedVectorValue=[]\n",
    "        self.fileNamesWithPath=[]\n",
    "\n",
    "    def list_CVs(self,rootPath):\n",
    "        import os\n",
    "        for root, dirs, files in os.walk(rootPath):\n",
    "            for name in files:\n",
    "                self.fileNamesWithPath.append(os.path.join(root, name))\n",
    "    def addCVFromSavedList(self):\n",
    "        for file in self.fileNamesWithPath:\n",
    "            if(self.database.entryTheCV((\"yes\",file))):\n",
    "                pdf=pdfToText(file)\n",
    "                self.CVList.append(pdf)\n",
    "    def doConversion(self):\n",
    "        for cv in self.CVList:\n",
    "            cv.convertPDFtoText();\n",
    "    def size(self):\n",
    "        return len(self.CVList)\n",
    "    def compareTotalLines(self):\n",
    "        import matplotlib.pyplot as plt\n",
    "        for cvNum,cv in enumerate(self.CVList):\n",
    "            if not cv.text:\n",
    "                #conversion not done\n",
    "                cv.convertPDFtoText()\n",
    "            #conversion handles all the tokenization tasks\n",
    "            plt.plot(cvNum+1,len(cv.lineList),'g^',linewidth=2.0)\n",
    "            plt.xlabel('CV')\n",
    "            plt.ylabel('totalLines')\n",
    "        plt.show()\n",
    "    def compareTotalWords(self):\n",
    "        import matplotlib.pyplot as plt\n",
    "        for cvNum,cv in enumerate(self.CVList):\n",
    "            if not cv.text:\n",
    "                #conversion not done\n",
    "                cv.convertPDFtoText()\n",
    "            #conversion handles all the tokenization tasks\n",
    "            plt.plot(cvNum+1,len(cv.refinedWordWholeList),'g^',linewidth=2.0)\n",
    "            plt.xlabel('CV')\n",
    "            plt.ylabel('totalLines')\n",
    "        plt.show()\n",
    "    def PopualarWords(self,number=20):\n",
    "        import nltk\n",
    "        for cvNum,cv in enumerate(self.CVList):\n",
    "            if not cv.text:\n",
    "                #conversion not done\n",
    "                cv.convertPDFtoText()\n",
    "            FDIST=nltk.FreqDist(cv.refinedWordWholeList)\n",
    "            FDIST.plot(number,linewidth=1.0)\n",
    "            print(\"comparing top %d word occurance in whole text of %d\"%(number,cvNum+1))\n",
    "    def collectAllWordsFromCVList(self):\n",
    "        for cv in self.CVList:\n",
    "            for word in cv.refinedWordWholeList:\n",
    "                self.wordCollection.append(word)\n",
    "    def frequentWordsGraph(self,wordList=None,number=20):\n",
    "        import nltk\n",
    "        if wordList is None:\n",
    "            wordList=self.wordCollection\n",
    "        FDIST=nltk.FreqDist(wordList)\n",
    "        FDIST.plot(number,linewidth=1.0)\n",
    "        print(\"comparing top %d word occurance in whole CV collection\"%(number))\n",
    "    def tagAllWordsFromCVList(self):\n",
    "        import nltk\n",
    "        if self.wordCollection is None:\n",
    "            self.collectAllWordsFromCVList()\n",
    "        self.tagCollection=(nltk.pos_tag(self.wordCollection))\n",
    "    def getRequierdPOSGraph(self,selectionList):\n",
    "        import nltk\n",
    "        NNPList=[]\n",
    "        if self.tagCollection is None:\n",
    "            self.tagAllWordsFromCVList()\n",
    "        for word in self.tagCollection:\n",
    "            if word[-1] in selectionList:\n",
    "                NNPList.append(word)\n",
    "        self.frequentWordsGraph(NNPList)\n",
    "    def convertToDocumentMatrix(self,frequency):\n",
    "        for cv in self.CVList:\n",
    "            self.textCollectionForDM.append(cv.refinedText)\n",
    "        self.documentMatrix=self.vectorizer.fit_transform(self.textCollectionForDM)\n",
    "        print (self.vectorizer.vocabulary_)\n",
    "        #print(self.vectorizer.vocabulary_)\n",
    "        #self.getFrequencyTableOfWords(frequency)\n",
    "        #self.normalizeFeatureVectors()\n",
    "            #to comment or uncomment ctrl+/\n",
    "    def getFrequencyTableOfWords(self,frequency):\n",
    "        import numpy as np\n",
    "        import json\n",
    "        import matplotlib.pyplot as plt\n",
    "        vocab=self.vectorizer.get_feature_names()\n",
    "        dist = np.sum(self.documentMatrix.toarray(), axis=0)\n",
    "        for tag, countTF in zip(vocab, dist):\n",
    "            if(countTF > frequency):\n",
    "                self.featureVectorDict.update({tag:int(countTF)})\n",
    "        print(self.featureVectorDict)\n",
    "        with open(\"C:\\\\Users\\\\sagar\\\\Desktop\\\\CV coll\\\\documentMatrixWord.txt\",\"w\") as file:\n",
    "            json.dump(self.featureVectorDict, file)\n",
    "        file.close()\n",
    "    def normalizeFeatureVectors(self):\n",
    "        from sklearn.preprocessing import normalize\n",
    "        import numpy as np\n",
    "        vectorValue=[]\n",
    "        for key in self.featureVectorDict:\n",
    "            vectorValue.append(self.featureVectorDict[key])\n",
    "        datas = np.asarray(vectorValue, dtype=np.float)\n",
    "        datas =normalize(datas, norm='l2')\n",
    "        #converting numpy.array to list\n",
    "        for r in datas:\n",
    "            for column in r:\n",
    "                self.normalizedVectorValue.append(column)\n",
    "        print(self.normalizedVectorValue)\n",
    "                \n",
    "        \n",
    "        \n"
   ]
  },
  {
   "cell_type": "code",
   "execution_count": 47,
   "metadata": {
    "collapsed": false,
    "scrolled": true
   },
   "outputs": [
    {
     "name": "stdout",
     "output_type": "stream",
     "text": [
      "('yes', 'C:\\\\Users\\\\sagar\\\\Desktop\\\\CV coll\\\\kailesh\\\\creative director\\\\Agnes-Szelag.pdf')\n",
      "CV is entered\n",
      "('yes', 'C:\\\\Users\\\\sagar\\\\Desktop\\\\CV coll\\\\kailesh\\\\creative director\\\\Alison-Haller.pdf')\n",
      "CV is entered\n",
      "('yes', 'C:\\\\Users\\\\sagar\\\\Desktop\\\\CV coll\\\\kailesh\\\\creative director\\\\Brad-Blackburn.pdf')\n",
      "CV is entered\n",
      "('yes', 'C:\\\\Users\\\\sagar\\\\Desktop\\\\CV coll\\\\kailesh\\\\creative director\\\\Bruce-Jones.pdf')\n",
      "CV is entered\n",
      "('yes', 'C:\\\\Users\\\\sagar\\\\Desktop\\\\CV coll\\\\kailesh\\\\creative director\\\\Carolyn-Carmel.pdf')\n",
      "CV is entered\n",
      "('yes', 'C:\\\\Users\\\\sagar\\\\Desktop\\\\CV coll\\\\kailesh\\\\creative director\\\\Christina-Le-Sesne.pdf')\n",
      "CV is entered\n",
      "('yes', 'C:\\\\Users\\\\sagar\\\\Desktop\\\\CV coll\\\\kailesh\\\\creative director\\\\Christopher-Mackey.pdf')\n",
      "CV is entered\n",
      "('yes', 'C:\\\\Users\\\\sagar\\\\Desktop\\\\CV coll\\\\kailesh\\\\creative director\\\\Cosmo-Nardozza.pdf')\n",
      "CV is entered\n",
      "('yes', 'C:\\\\Users\\\\sagar\\\\Desktop\\\\CV coll\\\\kailesh\\\\creative director\\\\Craig-Thacker.pdf')\n",
      "CV is entered\n",
      "('yes', 'C:\\\\Users\\\\sagar\\\\Desktop\\\\CV coll\\\\kailesh\\\\creative director\\\\Cristopher-Schafer.pdf')\n",
      "CV is entered\n",
      "('yes', 'C:\\\\Users\\\\sagar\\\\Desktop\\\\CV coll\\\\kailesh\\\\creative director\\\\Daniel-Montgomery.pdf')\n",
      "CV is entered\n",
      "('yes', 'C:\\\\Users\\\\sagar\\\\Desktop\\\\CV coll\\\\kailesh\\\\creative director\\\\David-Cordon.pdf')\n",
      "CV is entered\n",
      "('yes', 'C:\\\\Users\\\\sagar\\\\Desktop\\\\CV coll\\\\kailesh\\\\creative director\\\\David-Hindelang.pdf')\n",
      "CV is entered\n",
      "('yes', 'C:\\\\Users\\\\sagar\\\\Desktop\\\\CV coll\\\\kailesh\\\\creative director\\\\David-Hunter.pdf')\n",
      "CV is entered\n",
      "('yes', 'C:\\\\Users\\\\sagar\\\\Desktop\\\\CV coll\\\\kailesh\\\\creative director\\\\David-Moshier.pdf')\n",
      "CV is entered\n",
      "('yes', 'C:\\\\Users\\\\sagar\\\\Desktop\\\\CV coll\\\\kailesh\\\\creative director\\\\Denise-Sucik.pdf')\n",
      "CV is entered\n",
      "('yes', 'C:\\\\Users\\\\sagar\\\\Desktop\\\\CV coll\\\\kailesh\\\\creative director\\\\Destiny-Washington.pdf')\n",
      "CV is entered\n",
      "('yes', 'C:\\\\Users\\\\sagar\\\\Desktop\\\\CV coll\\\\kailesh\\\\creative director\\\\Devan-Brush.pdf')\n",
      "CV is entered\n",
      "('yes', 'C:\\\\Users\\\\sagar\\\\Desktop\\\\CV coll\\\\kailesh\\\\creative director\\\\Eric-Bronk.pdf')\n",
      "CV is entered\n",
      "('yes', 'C:\\\\Users\\\\sagar\\\\Desktop\\\\CV coll\\\\kailesh\\\\creative director\\\\Hannah-Nichols.pdf')\n",
      "CV is entered\n",
      "('yes', 'C:\\\\Users\\\\sagar\\\\Desktop\\\\CV coll\\\\kailesh\\\\creative director\\\\Jack-Siler.pdf')\n",
      "CV is entered\n",
      "('yes', 'C:\\\\Users\\\\sagar\\\\Desktop\\\\CV coll\\\\kailesh\\\\creative director\\\\Jayne-McELHENY.pdf')\n",
      "CV is entered\n",
      "('yes', 'C:\\\\Users\\\\sagar\\\\Desktop\\\\CV coll\\\\kailesh\\\\creative director\\\\Jessica-Yen.pdf')\n",
      "CV is entered\n",
      "('yes', 'C:\\\\Users\\\\sagar\\\\Desktop\\\\CV coll\\\\kailesh\\\\creative director\\\\John-C-Clisham.pdf')\n",
      "CV is entered\n",
      "('yes', 'C:\\\\Users\\\\sagar\\\\Desktop\\\\CV coll\\\\kailesh\\\\creative director\\\\Jonathan-Eaton.pdf')\n",
      "CV is entered\n",
      "('yes', 'C:\\\\Users\\\\sagar\\\\Desktop\\\\CV coll\\\\kailesh\\\\creative director\\\\Joseph-Adrien-Munoz.pdf')\n",
      "CV is entered\n",
      "('yes', 'C:\\\\Users\\\\sagar\\\\Desktop\\\\CV coll\\\\kailesh\\\\creative director\\\\Josh-Becker.pdf')\n",
      "CV is entered\n",
      "('yes', 'C:\\\\Users\\\\sagar\\\\Desktop\\\\CV coll\\\\kailesh\\\\creative director\\\\July-Lopez.pdf')\n",
      "CV is entered\n",
      "('yes', 'C:\\\\Users\\\\sagar\\\\Desktop\\\\CV coll\\\\kailesh\\\\creative director\\\\Karena-Taveras-Lugo.pdf')\n",
      "CV is entered\n",
      "('yes', 'C:\\\\Users\\\\sagar\\\\Desktop\\\\CV coll\\\\kailesh\\\\creative director\\\\Kevin-Kolbe.pdf')\n",
      "CV is entered\n",
      "('yes', 'C:\\\\Users\\\\sagar\\\\Desktop\\\\CV coll\\\\kailesh\\\\creative director\\\\Kristin-Dunn.pdf')\n",
      "CV is entered\n",
      "('yes', 'C:\\\\Users\\\\sagar\\\\Desktop\\\\CV coll\\\\kailesh\\\\creative director\\\\Lauren-Milewski.pdf')\n",
      "CV is entered\n",
      "('yes', 'C:\\\\Users\\\\sagar\\\\Desktop\\\\CV coll\\\\kailesh\\\\creative director\\\\Luis-Mata-R.pdf')\n",
      "CV is entered\n",
      "('yes', 'C:\\\\Users\\\\sagar\\\\Desktop\\\\CV coll\\\\kailesh\\\\creative director\\\\Marc-Steffensen.pdf')\n",
      "CV is entered\n",
      "('yes', 'C:\\\\Users\\\\sagar\\\\Desktop\\\\CV coll\\\\kailesh\\\\creative director\\\\Marcus-Bickler.pdf')\n",
      "CV is entered\n",
      "('yes', 'C:\\\\Users\\\\sagar\\\\Desktop\\\\CV coll\\\\kailesh\\\\creative director\\\\Melanie-Mikel.pdf')\n",
      "CV is entered\n",
      "('yes', 'C:\\\\Users\\\\sagar\\\\Desktop\\\\CV coll\\\\kailesh\\\\creative director\\\\Michael-Kunhenn.pdf')\n",
      "CV is entered\n",
      "('yes', 'C:\\\\Users\\\\sagar\\\\Desktop\\\\CV coll\\\\kailesh\\\\creative director\\\\Michael-Lay.pdf')\n",
      "CV is entered\n",
      "('yes', 'C:\\\\Users\\\\sagar\\\\Desktop\\\\CV coll\\\\kailesh\\\\creative director\\\\Michael-Showalter.pdf')\n",
      "CV is entered\n",
      "('yes', 'C:\\\\Users\\\\sagar\\\\Desktop\\\\CV coll\\\\kailesh\\\\creative director\\\\Michelle-Collins.pdf')\n",
      "CV is entered\n",
      "('yes', 'C:\\\\Users\\\\sagar\\\\Desktop\\\\CV coll\\\\kailesh\\\\creative director\\\\Nashona-Haldane.pdf')\n",
      "CV is entered\n",
      "('yes', 'C:\\\\Users\\\\sagar\\\\Desktop\\\\CV coll\\\\kailesh\\\\creative director\\\\Patricia-McNair.pdf')\n",
      "CV is entered\n",
      "('yes', 'C:\\\\Users\\\\sagar\\\\Desktop\\\\CV coll\\\\kailesh\\\\creative director\\\\Philip-Dirlam.pdf')\n",
      "CV is entered\n",
      "('yes', 'C:\\\\Users\\\\sagar\\\\Desktop\\\\CV coll\\\\kailesh\\\\creative director\\\\Ryan-Flynn.pdf')\n",
      "CV is entered\n",
      "('yes', 'C:\\\\Users\\\\sagar\\\\Desktop\\\\CV coll\\\\kailesh\\\\creative director\\\\Sara-Chamberlain.pdf')\n",
      "CV is entered\n",
      "('yes', 'C:\\\\Users\\\\sagar\\\\Desktop\\\\CV coll\\\\kailesh\\\\creative director\\\\Stephanie-Kemp.pdf')\n",
      "CV is entered\n",
      "('yes', 'C:\\\\Users\\\\sagar\\\\Desktop\\\\CV coll\\\\kailesh\\\\creative director\\\\Stephanie-Valderrama.pdf')\n",
      "CV is entered\n",
      "('yes', 'C:\\\\Users\\\\sagar\\\\Desktop\\\\CV coll\\\\kailesh\\\\creative director\\\\Tammy-Morse.pdf')\n",
      "CV is entered\n",
      "('yes', 'C:\\\\Users\\\\sagar\\\\Desktop\\\\CV coll\\\\kailesh\\\\creative director\\\\Timothy-Rabb.pdf')\n",
      "CV is entered\n",
      "('yes', 'C:\\\\Users\\\\sagar\\\\Desktop\\\\CV coll\\\\kailesh\\\\creative director\\\\Tracy-Jones.pdf')\n",
      "CV is entered\n"
     ]
    }
   ],
   "source": [
    "cmp=CV_manager()\n",
    "cmp.list_CVs(\"C:\\\\Users\\\\sagar\\\\Desktop\\\\CV coll\\\\kailesh\\\\creative director\")\n",
    "cmp.addCVFromSavedList()\n",
    "cmp.doConversion()\n"
   ]
  },
  {
   "cell_type": "code",
   "execution_count": 48,
   "metadata": {
    "collapsed": false
   },
   "outputs": [
    {
     "name": "stdout",
     "output_type": "stream",
     "text": [
      "{'agnes': 140, 'szelagcreative': 4741, 'directoroakland': 1548, 'caemail': 694, 'indeed': 2429, 'indeedcomragnesszelagedcffaaauthorized': 2430, 'work': 5282, 'us': 5076, 'employerwork': 1746, 'experiencecreative': 1876, 'directorberkeley': 1494, 'resource': 4218, 'center': 774, 'online': 3458, 'education': 1691, 'uc': 5021, 'berkeley': 539, 'direct': 1470, 'medium': 3096, 'art': 344, 'production': 3906, 'concept': 997, 'preproduction': 3800, 'storyboards': 4633, 'studio': 4674, 'onlocation': 3462, 'productiongraphic': 3910, 'design': 1305, 'motion': 3239, 'graphic': 2175, 'postproduction': 3761, 'distribution': 1602, 'with': 5264, 'management': 2938, 'team': 4783, 'create': 1151, 'manage': 2933, 'vision': 5164, 'culture': 1197, 'mission': 3184, 'statementoperational': 4608, 'structure': 4665, 'workflow': 5290, 'consisting': 1028, 'instructionaldesigners': 2566, 'product': 3903, 'manager': 2952, 'lead': 2771, 'editor': 1678, 'camera': 709, 'people': 3622, 'artist': 351, 'animatorsand': 274, 'designer': 1320, 'occasionally': 3404, 'working': 5293, 'contractorsfreelancers': 1070, 'brainstorming': 613, 'session': 4409, 'story': 4631, 'development': 1439, 'managers': 2967, 'client': 860, 'appropriate': 317, 'effectivemedia': 1709, 'course': 1136, 'media': 3077, 'plans': 3708, 'assign': 393, 'execute': 1849, 'themoversee': 4856, 'execution': 1852, 'strategically': 4636, 'look': 2875, 'feel': 1932, 'portfolio': 3743, 'individual': 2488, 'piecessenior': 3689, 'producerberkeley': 3900, 'project': 3951, 'time': 4881, 'ensure': 1782, 'quality': 4037, 'control': 1078, 'timely': 4885, 'delivery': 1274, 'brcoe': 629, 'animator': 271, 'refine': 4133, 'develop': 1430, 'assetstypeface': 392, 'selection': 4378, 'type': 5016, 'light': 2816, 'complicated': 986, 'highprofile': 2282, 'shoot': 4435, 'collaboratively': 912, 'budget': 656, 'maintain': 2923, 'three': 4876, 'including': 2417, 'purchasing': 4027, 'inventory': 2623, 'equipment': 1798, 'supervise': 4706, 'hour': 2315, 'caltime': 705, 'harvest': 2242, 'help': 2261, 'report': 4182, 'professional': 3927, 'encourage': 1752, 'growth': 2205, 'networking': 3323, 'give': 2140, 'timelyfeedback': 4886, 'performance': 3630, 'checkins': 809, 'annualperformance': 282, 'evaluationsfulbright': 1825, 'scholarelectroacoustic': 4337, 'krakow': 2721, 'poland': 3734, 'technology': 4804, 'run': 4289, 'weekly': 5229, 'workshop': 5298, 'composition': 990, 'improvisation': 2400, 'undergradand': 5032, 'grad': 2167, 'student': 4666, 'community': 961, 'perform': 3628, 'solo': 4522, 'collaboration': 909, 'event': 1826, 'europemember': 1822, 'mediate': 3092, 'group': 2198, 'sfadvisory': 4422, 'board': 584, 'curator': 1201, 'san': 4311, 'francisco': 2058, 'electronic': 1722, 'music': 3273, 'festivalexpression': 1937, 'college': 916, 'digital': 1459, 'arts': 368, 'directorexpression': 1517, 'emeryville': 1736, 'ca': 688, 'teach': 4776, 'nonfiction': 3361, 'film': 1954, 'making': 2930, 'process': 3888, 'theory': 4859, 'practical': 3774, 'designing': 1388, 'transmedia': 4969, 'redesign': 4125, 'curriculum': 1210, 'using': 5095, 'collaborative': 911, 'material': 3038, 'interface': 2591, 'administer': 72, 'department': 1289, 'schedule': 4333, 'coordinate': 1087, 'hire': 2288, 'train': 4950, 'purchase': 4025, 'software': 4516, 'hardware': 2238, 'closely': 879, 'it': 2639, 'server': 4399, 'computersresearch': 993, 'committeeexpression': 942, 'codesigned': 900, 'program': 3940, 'helped': 2262, 'new': 3327, 'personally': 3645, 'wrote': 5315, 'seven': 4419, 'perspective': 3647, 'collegetechnical': 924, 'directorsan': 1560, 'festival': 1936, 'responsible': 4226, 'technical': 4796, 'preparation': 3792, 'week': 5228, 'long': 2873, 'in': 2401, 'charge': 800, 'coordinating': 1089, 'audiovisual': 439, 'element': 1723, 'communicating': 948, 'running': 4290, 'showsinstructorexpression': 4451, 'fiction': 1942, 'audiopost': 437, 'dvd': 1645, 'authoring': 449, 'basic': 506, 'adobe': 81, 'suitevideo': 4698, 'projectionaudio': 3955, 'artistkonstrukt': 356, 'collective': 915, 'owner': 3542, 'specialistbellatrix': 4553, 'studios': 4675, 'video': 5151, 'consultantgraphic': 1043, 'designerdvd': 1339, 'authorbellatrix': 447, 'denoisecom': 1286, 'caassistant': 690, 'editing': 1674, 'commercial': 936, 'got': 2161, 'milke': 3159, 'luis': 2889, 'miguel': 3152, 'various': 5126, 'job': 2664, 'short': 4442, 'term': 4822, 'projectbased': 3952, 'show': 4443, 'ae': 119, 'lighting': 2818, 'assistant': 397, 'milkeducationmfa': 3160, 'recording': 4116, 'mediamills': 3087, 'collegebs': 918, 'radiotvfilmnorthwestern': 4058, 'universityskillsfile': 5059, 'year': 5328, 'scheduling': 4335, 'yearslinkshttpwwwagnesszelagcomhttpsvimeocomalbumhttpswwwbehancenetagnesszelagcertificationslicensesfinal': 5359, 'cut': 1218, 'proadditional': 3883, 'informationtop': 2521, 'skillsmanagement': 4492, 'leadership': 2774, 'ideation': 2346, 'building': 667, 'strategypreproduction': 4651, 'file': 1948, 'scoutingproduction': 4350, 'directingpostproduction': 1474, 'best': 543, 'member': 3104, 'oversee': 3537, 'many': 2985, 'simultaneously': 4468, 'productivityquality': 3918, 'designsoftware': 1403, 'creative': 1160, 'suite': 4695, 'performer': 3632, 'ableton': 5, 'live': 2849, 'alison': 156, 'hallercreativeart': 2225, 'directoremail': 1512, 'indeedcomralisonhallerddcacfeel': 2431, 'free': 2060, 'check': 806, 'httpajhdesignssquarespacecomwilling': 2326, 'relocate': 4159, 'anywhereauthorized': 291, 'directorstate': 1567, 'michigan': 3141, 'lansing': 2746, 'mioctober': 3177, 'presentfull': 3822, 'responsibility': 4225, 'establishing': 1809, 'maintaining': 2925, 'mshda': 3252, 'brand': 615, 'printinteractive': 3871, 'platformsquick': 3717, 'advance': 89, 'idea': 2344, 'actioncreate': 47, 'marketing': 3000, 'messaging': 3130, 'content': 1051, 'fullcampaigns': 2081, 'strategy': 4646, 'authorityserve': 452, 'ad': 53, 'agency': 134, 'liaison': 2803, 'roi': 4273, 'review': 4250, 'billing': 555, 'recordasset': 4115, 'deliverycollaboration': 1275, 'mshdas': 3253, 'advertising': 99, 'monthly': 3225, 'meeting': 3098, 'educate': 1689, 'update': 5062, 'marketingbranding': 3001, 'howit': 2318, 'affect': 123, 'themcommunicate': 4853, 'market': 2996, 'bb': 513, 'bc': 516, 'audience': 434, 'task': 4767, 'workload': 5295, 'teamconsultcoordinate': 4784, 'mshdsa': 3254, 'eventsapprove': 1832, 'eventconference': 1827, 'final': 1959, 'timeline': 4883, 'andrelationships': 255, 'provide': 3997, 'coordination': 1090, 'planning': 3705, 'economic': 1666, 'corporationsupport': 1112, 'medc': 3075, 'state': 4604, 'pure': 4028, 'travel': 4973, 'campaign': 710, 'marketingneedslead': 3012, 'website': 5218, 'wwwmichiganbusinessorg': 5318, 'social': 4509, 'outlet': 3526, 'twitter': 5001, 'facebook': 1901, 'linkedinsole': 2832, 'internal': 2598, 'supporting': 4719, 'collateral': 913, 'hr': 2321, 'executive': 1854, 'etclead': 1818, 'directly': 1482, 'marketswork': 3026, 'powerpoint': 3769, 'template': 4815, 'display': 1593, 'andgovernor': 227, 'rick': 4260, 'snydercollaborate': 4508, 'copywriter': 1097, 'videographer': 5152, 'account': 21, 'external': 1894, 'vendor': 5140, 'qualityproducts': 4038, 'customerssenior': 1215, 'designernottawaseppi': 1354, 'huron': 2334, 'band': 492, 'potawotmi': 3763, 'grand': 2172, 'rapids': 4074, 'april': 324, 'operate': 3470, 'communications': 953, 'creating': 1157, 'nhbp': 3345, 'piecesfor': 3687, 'developed': 1431, 'implemented': 2390, 'branding': 621, 'style': 4679, 'guide': 2213, 'directenterprise': 1472, 'communication': 949, 'strategiessenior': 4641, 'contractorchildrens': 1069, 'medical': 3093, 'dallas': 1226, 'txapril': 5006, 'september': 4394, 'cmc': 886, 'piece': 3686, 'within': 5267, 'hospital': 2311, 'communitysupport': 962, 'identity': 2352, 'creation': 1158, 'visual': 5171, 'typography': 5018, 'logo': 2869, 'icon': 2339, 'designfor': 1382, 'internet': 2604, 'interactive': 2582, 'platform': 3713, 'communicate': 945, 'information': 2499, 'architect': 327, 'writer': 5309, 'thatthe': 4834, 'communicates': 947, 'desired': 1414, 'message': 3129, 'function': 2087, 'successfully': 4690, 'varying': 5131, 'andperformance': 247, 'specificationsgraphic': 4564, 'managerpacific': 2965, 'interpreters': 2614, 'txmay': 5011, 'relationship': 4153, 'place': 3698, 'print': 3861, 'order': 3491, 'assure': 412, 'printed': 3864, 'item': 2642, 'meet': 3097, 'standard': 4592, 'arepriced': 336, 'source': 4536, 'swaggiveaways': 4728, 'correct': 1114, 'company': 964, 'approved': 321, 'themarketing': 4851, 'director': 1484, 'enforce': 1762, 'consistent': 1026, 'tag': 4747, 'line': 2826, 'usagedevelop': 5081, 'guideline': 2214, 'usage': 5080, 'standardsmaintain': 4596, 'color': 927, 'palette': 3565, 'accentcolors': 11, 'image': 2382, 'uptodate': 5074, 'publicwebsite': 4014, 'interpreter': 2613, 'portal': 3742, 'customer': 1214, 'across': 43, 'facet': 1903, 'single': 4472, 'lookandfeel': 2876, 'towebsite': 4930, 'refresh': 4137, 'annually': 281, 'taglines': 4748, 'withoverall': 5270, 'key': 2702, 'literature': 2845, 'format': 2026, 'appropriateensuring': 318, 'consistency': 1025, 'demonstrate': 1283, 'ability': 3, 'lay': 2764, 'text': 4828, 'language': 2744, 'sell': 4381, 'sheet': 4427, 'corporate': 1104, 'brochure': 640, 'postsale': 3762, 'implementation': 2388, 'trainingmaterialsnewsletters': 4955, 'newsletter': 3334, 'inprocess': 2541, 'employee': 1740, 'necessary': 3311, 'per': 3626, 'needed': 3313, 'conference': 1013, 'publication': 4007, 'recruitmentin': 4122, 'latin': 2754, 'america': 178, 'uniform': 5039, 'tool': 4914, 'fax': 1922, 'email': 1732, 'signature': 4460, 'letterhead': 2796, 'communicationmaterials': 952, 'user': 5088, 'formattinglayout': 2029, 'support': 4716, 'document': 1609, 'drafted': 1621, 'departmentsgraphic': 1295, 'designerweatherford': 1379, 'weatherford': 5207, 'txfebruary': 5009, 'may': 3054, 'duties': 1643, 'adverstisments': 92, 'school': 4339, 'web': 5208, 'banner': 496, 'eventstshirt': 1836, 'vinyl': 5161, 'speak': 4546, 'behalf': 530, 'campus': 719, 'growtheducationbfa': 2206, 'fine': 1967, 'artsuniversity': 374, 'texas': 4827, 'arlington': 337, 'tx': 5005, 'ma': 2895, 'integrated': 2576, 'communicationseastern': 955, 'university': 5049, 'ypsilanti': 5382, 'miskillsadobe': 3182, 'microsoft': 3143, 'outlook': 3528, 'excel': 1840, 'pc': 3611, 'mac': 2898, 'experience': 1873, 'xhtml': 5322, 'htmlwordpress': 2325, 'mangement': 2974, 'identies': 2348, 'strategies': 4640, 'pardotsalesforce': 3577, 'multiple': 3268, 'blogging': 578, 'photographylinkshttpsajhdesignssquarespacecomawardsncmpr': 3671, 'district': 1603, 'bronze': 646, 'medallion': 3074, 'awardmarch': 468, 'homecoming': 2300, 'postcard': 3753, 'designed': 1318, 'myselfncmpr': 3280, 'gold': 2155, 'awardjune': 467, 'awarded': 466, 'done': 1615, 'colleges': 921, 'viewbookncmpr': 5158, 'silver': 4466, 'peach': 3616, 'pedal': 3617, 'designncmpr': 1394, 'campaignncmpr': 711, 'theatre': 4838, 'puss': 4032, 'boots': 605, 'concert': 1009, 'poster': 3754, 'brad': 610, 'blackburncreative': 568, 'uxui': 5106, 'animatoreagle': 273, 'idemail': 2347, 'indeedcomrbradblackburndafdabartist': 2432, 'biobrad': 560, 'blackburn': 567, 'accomplished': 16, 'providing': 4002, 'skilled': 4483, 'expertise': 1883, 'thecreative': 4842, 'service': 4401, 'industry': 2495, 'career': 741, 'spanning': 4544, 'nearly': 3310, 'worked': 5285, 'leading': 2778, 'diverse': 1605, 'range': 4068, 'clientele': 863, 'his': 2291, 'skillscover': 4488, 'wide': 5249, 'gamut': 2114, 'ranging': 4070, 'uiux': 5027, 'forweb': 2047, 'mobile': 3198, 'fortune': 2044, 'shootsearly': 4437, 'trained': 4951, 'throughout': 4879, 'primary': 3857, 'went': 5235, 'earn': 1651, 'firstdegree': 1977, 'edison': 1671, 'afterward': 129, 'attended': 427, 'liberty': 2805, 'received': 4102, 'abachelors': 1, 'degree': 1265, 'bachelor': 478, 'religion': 4158, 'when': 5240, 'wasencouraged': 5195, 'personal': 3641, 'maxim': 3051, 'after': 127, 'much': 3258, 'consideration': 1024, 'finally': 1960, 'came': 708, 'mine': 3170, 'ring': 4262, 'true': 4988, 'meboth': 3073, 'professionally': 3928, 'proclaim': 3895, 'restore': 4230, 'goodness': 2157, 'beauty': 523, 'truth': 4991, 'others': 3517, 'aroundyou': 342, 'this': 4870, 'served': 4398, 'well': 5231, 'reminding': 4163, 'giving': 2143, 'focus': 2005, 'continues': 1060, 'artistic': 355, 'reach': 4083, 'goal': 2153, 'engaging': 1768, 'experienceshis': 1880, 'background': 483, 'training': 4953, 'affords': 126, 'notfound': 3372, 'among': 183, 'today': 4902, 'specialties': 4559, 'leadershipbrand': 2775, 'designuser': 1407, 'ui': 5024, 'ux': 5105, 'graphicsphotographymagazine': 2189, 'mail': 2915, 'designmotion': 1393, 'graphicsanimation': 2183, 'ddfilm': 1245, 'designwilling': 1411, 'directorchurchill': 1501, 'harrisburg': 2240, 'pafebruary': 3553, 'presentas': 3803, 'organization': 3496, 'influence': 2496, 'directionthe': 1479, 'kind': 2708, 'output': 3529, 'companymedia': 967, 'some': 4532, 'accomplishment': 17, 'include': 2412, 'implementing': 2391, 'dam': 1227, 'assetmanagement': 391, 'system': 4736, 'overhauling': 3534, 'migrating': 3151, 'improvedpm': 2397, 'consolidating': 1031, 'instituting': 2560, 'productionpolicies': 3913, 'operating': 3471, 'procedure': 3886, 'my': 3277, 'duty': 1644, 'overseeing': 3538, 'daily': 1223, 'withthe': 5272, 'progress': 3949, 'expectation': 1869, 'setting': 4414, 'projectsanimating': 3960, 'maintenance': 2926, 'etcart': 1816, 'directorshell': 1562, 'point': 3732, 'retirement': 4241, 'fort': 2039, 'myers': 3278, 'flaugust': 1986, 'overall': 3533, 'direction': 1475, 'published': 4015, 'byshell': 687, 'included': 2413, 'variety': 5124, 'ongoing': 3455, 'page': 3554, 'lifestylemagazine': 2815, 'numerous': 3379, 'directing': 1473, 'photo': 3657, 'covering': 1140, 'photographyand': 3669, 'outside': 3531, 'printing': 3869, 'photographic': 3666, 'additionally': 58, 'supportedonline': 4718, 'alsoincluded': 169, 'network': 3322, 'computer': 992, 'implement': 2387, 'active': 49, 'directoryprotocols': 1582, 'backup': 484, 'forth': 2040, 'oversaw': 3536, 'two': 5002, 'part': 3580, 'reportedto': 4184, 'marketingduring': 3004, 'tenure': 4820, 'able': 4, 'several': 4420, 'policy': 3735, 'establish': 1806, 'includingasset': 2419, 'photography': 3668, 'protocol': 3994, 'proceduresetc': 3887, 'workflowsimilarly': 5291, 'also': 166, 'catalogue': 761, 'terabyte': 4821, 'datacreative': 1238, 'directorbb': 1492, 'llc': 2854, 'fljune': 1991, 'fullservice': 2083, 'offering': 3417, 'country': 1131, 'as': 377, 'they': 4864, 'business': 676, 'clientacquisition': 861, 'projectsas': 3961, 'saas': 4295, 'based': 503, 'riasnational': 4258, 'regional': 4140, 'animation': 270, 'designdevelopment': 1317, 'consulting': 1046, 'list': 2837, 'notable': 3368, 'includes': 2415, 'ge': 2125, 'harleydavidson': 2239, 'cisco': 837, 'avaya': 462, 'aep': 120, 'convio': 1084, 'wci': 5205, 'jamie': 2652, 'foxx': 2056, 'rashad': 4075, 'jennings': 2661, 'nfl': 3343, 'back': 480, 'southernbaptist': 4541, 'convention': 1080, 'am': 174, 'etcdigital': 1817, 'supervisorliberty': 4713, 'lynchburg': 2894, 'vaoctober': 5121, 'june': 2685, 'was': 5194, 'supervision': 4709, 'major': 2928, 'endeavor': 1755, 'put': 4033, 'forthby': 2041, 'affiliated': 124, 'onlinemarketing': 3460, 'environmentspresentations': 1795, 'managed': 2935, 'creativedevelopment': 1162, 'person': 3640, 'coordinated': 1088, 'dev': 1428, 'otherdepartments': 3515, 'position': 3749, 'required': 4203, 'basis': 508, 'cio': 833, 'theuniversity': 4862, 'presidentchancellor': 3843, 'vice': 5150, 'president': 3842, 'instituted': 2558, 'supervised': 4707, 'graphicdevelopment': 2181, 'unique': 5042, 'developing': 1438, 'total': 4924, 'interactiveenvironment': 2584, 'facility': 1906, 'encompassing': 1750, 'million': 3163, 'sq': 4580, 'ft': 2076, 'space': 4542, 'situated': 4476, 'aacre': 0, 'independently': 2481, 'assessed': 387, 'firm': 1974, 'minimum': 3174, 'valueof': 5118, 'estimated': 1812, 'worth': 5304, 'dollar': 1612, 'modelingand': 3204, 'gui': 2211, 'andpresentation': 249, 'green': 2191, 'screen': 4352, 'method': 3133, 'mingame': 3172, 'scriptwriting': 4355, 'copycontent': 1095, 'etc': 1814, 'seo': 4393, 'sem': 4384, 'generation': 2130, 'andlanding': 238, 'created': 1153, 'tandem': 4759, 'marketinggraphic': 3006, 'artistwhat': 362, 'naples': 3283, 'following': 2011, 'promotional': 3971, 'kiosk': 2710, 'presentation': 3804, 'ipphone': 2633, 'build': 664, 'out': 3520, 'mainly': 2922, 'flashactionscript': 1983, 'photoshop': 3675, 'htmlcss': 2324, 'clients': 866, 'discover': 1586, 'citrix': 838, 'systems': 4737, 'marsh': 3028, 'the': 4835, 'hartford': 2241, 'national': 3290, 'propertydeveloperseducationbs': 3984, 'designliberty': 1390, 'universityskillsdesign': 5058, 'uiuxmotion': 5028, 'graphics': 2182, 'yearslinkshttpbehancenetiambradblackburnhttplinkedincominbradblackburnhttpwwwiambradblackburncomhttpwwwkropcombbstudioshttpwwwvimeocombbstudiospublicationsshell': 5346, 'lifehttpwwwshellpointnetshellpointlifei': 2812, 'magazine': 2906, 'since': 4469, 'august': 444, 'visuallook': 5174, 'edition': 1677, 'cover': 1138, 'either': 1721, 'photographer': 3662, 'thefeature': 4845, 'produce': 3897, 'issueadditional': 2637, 'informationskillsetleadership': 2517, 'accountproject': 23, 'acquisition': 40, 'strategycreative': 4648, 'directiondesign': 1476, 'wireframingprototyping': 5259, 'brandinglogo': 624, 'html': 2323, 'css': 1189, 'javascript': 2656, 'flash': 1982, 'xmlphp': 5323, 'wordpressd': 5278, 'cinema': 831, 'google': 2158, 'sketchup': 4481, 'architectural': 329, 'modeling': 3203, 'renderinganimation': 4169, 'effects': 1711, 'premiere': 3787, 'pro': 3882, 'cinemaphotographyproduction': 832, 'designmobile': 1392, 'ios': 2632, 'app': 294, 'designbrandingkey': 1313, 'years': 5339, 'bruce': 653, 'jonesdanville': 2673, 'kyemail': 2728, 'indeedcomrbrucejonesabeadddbauthorized': 2433, 'directoridentity': 1524, 'restructured': 4231, 'danville': 1231, 'ky': 2726, 'inhouse': 2525, 'groups': 2201, 'five': 1980, 'environmental': 1793, 'division': 1607, 'indesign': 2482, 'promotion': 3970, 'acrobat': 41, 'advertisement': 95, 'trade': 4941, 'pop': 3738, 'dreamweaver': 1628, 'ce': 769, 'personnel': 3646, 'artknowledgeable': 363, 'inartmarketing': 2403, 'directoradmartidentity': 1485, 'admart': 70, 'instore': 2563, 'resell': 4212, 'offset': 3426, 'budgeting': 659, 'large': 2747, 'contact': 1049, 'buyer': 684, 'sign': 4454, 'manufacturing': 2984, 'relation': 4150, 'press': 3847, 'release': 4157, 'organizationscheduling': 3498, 'managementdesigneradmart': 2944, 'custom': 1213, 'signage': 4455, 'kyfebruary': 2729, 'catalogs': 760, 'card': 736, 'announcement': 278, 'showsadvertisements': 4450, 'packaging': 3548, 'retail': 4236, 'displaysdesigneruniversity': 1594, 'kentucky': 2698, 'lexington': 2801, 'kyjanuary': 2730, 'february': 1927, 'kentuckycollege': 2699, 'economics': 1667, 'services': 4403, 'departmental': 1290, 'newsletters': 3336, 'flier': 1989, 'materialsdigital': 3043, 'portfolioeducationba': 3744, 'designuniversity': 1406, 'kyaugust': 2727, 'december': 1255, 'skillsadobe': 4485, 'illustrator': 2373, 'office': 3419, 'yearsadditional': 5340, 'informationknowledgeable': 2510, 'brandlogo': 626, 'carolyn': 746, 'carmelgraphic': 744, 'designeremail': 1341, 'indeedcomrcarolyncarmeleeefcwork': 2434, 'directorbetona': 1496, 'tile': 4880, 'american': 179, 'glass': 2144, 'mosaics': 3236, 'spring': 4578, 'lake': 2736, 'mijuly': 3154, 'presentresponsibilities': 3835, 'binders': 559, 'showcasing': 4447, 'staff': 4585, 'directs': 1583, 'activity': 51, 'subordinate': 4687, 'excellence': 1841, 'timelinessand': 4884, 'profitability': 3938, 'servicephotographerownercarolyn': 4402, 'carmel': 743, 'whitehall': 5247, 'mi': 3136, 'webgraphic': 5212, 'day': 1241, 'operation': 3472, 'sales': 4300, 'retention': 4240, 'wwwcarolyncarmelcomteacherartistnuveen': 5317, 'responsibilities': 4223, 'plan': 3703, 'youth': 5378, 'classesgraphic': 851, 'designerwesco': 1380, 'north': 3364, 'muskegon': 3276, 'pos': 3748, 'vehicle': 5137, 'wrap': 5306, 'ran': 4066, 'printer': 3866, 'hp': 2320, 'roland': 4276, 'eco': 1662, 'solvent': 4529, 'tyes': 5015, 'signs': 4463, 'engineering': 1770, 'supply': 4715, 'wesco': 5237, 'stores': 4627, 'energy': 1760, 'togographic': 4906, 'designerspringfield': 1372, 'shopper': 4440, 'springfield': 4579, 'il': 2361, 'layout': 2767, 'newspaper': 3338, 'prepressinformation': 3799, 'specialist': 4551, 'iistate': 2360, 'illinois': 2366, 'intranet': 2619, 'site': 4474, 'organized': 3501, 'flow': 1997, 'programmer': 3944, 'set': 4412, 'tracking': 4937, 'advocacy': 117, 'produced': 3898, 'distributed': 1601, 'assist': 396, 'database': 1237, 'connectivity': 1020, 'softwareeducationgraphic': 4517, 'designbaker': 1311, 'communicationsart': 954, 'institute': 2557, 'phoenix': 3654, 'az': 475, 'suitelinkshttpwwwcarolyncarmelcom': 4697, 'christina': 824, 'le': 2770, 'sesnecreative': 4408, 'blush': 581, 'label': 2733, 'designs': 1399, 'llcraleigh': 2857, 'ncemail': 3304, 'indeedcomrchristinalesesnefaaeafwilling': 2435, 'directorblush': 1498, 'present': 3802, 'head': 2247, 'textileprint': 4829, 'fashion': 1917, 'home': 2299, 'dcor': 1244, 'gift': 2138, 'identify': 2350, 'trend': 4977, 'gap': 2117, 'atlanta': 420, 'americasmart': 182, 'showroom': 4449, 'pattern': 3604, 'manufacturer': 2983, 'developproducts': 1445, 'request': 4199, 'sampling': 4310, 'modifying': 3208, 'sizing': 4480, 'adjustment': 68, 'adjustmentsmaterial': 69, 'upgrade': 5065, 'detail': 1419, 'bulk': 670, 'traderetail': 4944, 'includingamericasmart': 2418, 'international': 2600, 'apparel': 296, 'high': 2274, 'approve': 320, 'invoice': 2628, 'payment': 3606, 'processing': 3893, 'public': 4006, 'relations': 4151, 'pitch': 3693, 'inquiry': 2543, 'booth': 604, 'setup': 4416, 'installment': 2556, 'placement': 3700, 'teardown': 4793, 'featured': 1925, 'brides': 630, 'southern': 4540, 'living': 2852, 'hgtv': 2272, 'countryliving': 1132, 'flower': 1998, 'traditional': 4946, 'house': 2316, 'beautiful': 522, 'garden': 2118, 'gun': 2219, 'coastal': 895, 'magazineasset': 2910, 'managercommercial': 2957, 'reo': 4177, 'properties': 3981, 'pnc': 3730, 'bank': 493, 'residential': 4214, 'bankowned': 494, 'property': 3983, 'solicit': 4520, 'bid': 551, 'landscapingproperty': 2742, 'repair': 4179, 'security': 4369, 'utility': 5099, 'assess': 386, 'remediate': 4162, 'issue': 2636, 'contractorvendor': 1072, 'code': 899, 'compliant': 985, 'secure': 4367, 'tax': 4771, 'current': 1203, 'prepare': 3793, 'disposition': 1595, 'asset': 389, 'appraisal': 311, 'broker': 643, 'opinion': 3477, 'valuemarket': 5117, 'analysis': 187, 'visit': 5167, 'compile': 975, 'expense': 1871, 'yearly': 5337, 'sale': 4299, 'local': 2863, 'real': 4091, 'estate': 1811, 'negotiate': 3315, 'lease': 2785, 'agreement': 142, 'currentmarket': 1207, 'rent': 4174, 'quarterly': 4045, 'complete': 977, 'inspection': 2548, 'evaluation': 1824, 'condition': 1011, 'adjust': 67, 'book': 594, 'value': 5115, 'listing': 2841, 'price': 3854, 'accordingly': 20, 'correspond': 1116, 'foreclosure': 2019, 'attorney': 431, 'notify': 3373, 'tenant': 4818, 'ownership': 3543, 'change': 795, 'requirement': 4204, 'andevictions': 224, 'offer': 3415, 'limited': 2825, 'earnest': 1653, 'money': 3215, 'deposit': 1299, 'duediligence': 1640, 'period': 3634, 'closing': 880, 'costs': 1125, 'writedown': 5308, 'valued': 5116, 'pncoreo': 3731, 'committee': 941, 'approval': 319, 'counsel': 1127, 'contract': 1063, 'verbiage': 5145, 'sufficient': 4692, 'andclosingdocumentation': 207, 'hud': 2330, 'accurate': 27, 'prior': 3875, 'closingsenior': 881, 'loss': 2881, 'mitigation': 3186, 'analyst': 188, 'default': 1263, 'managementrbc': 2949, 'usa': 5077, 'underwrite': 5037, 'distressed': 1600, 'heloc': 2260, 'heil': 2257, 'lot': 2883, 'loans': 2861, 'prevent': 3850, 'chargeoff': 801, 'analyze': 196, 'applicant': 303, 'credit': 1171, 'profile': 3934, 'return': 4247, 'bureau': 673, 'profit': 3937, 'lossstatement': 2882, 'submit': 4685, 'memo': 3109, 'rate': 4076, 'reduction': 4130, 'extension': 1890, 'paymentplan': 3607, 'loan': 2859, 'renewal': 4171, 'renewed': 4173, 'equity': 1801, 'lines': 2827, 'boat': 588, 'slips': 4499, 'etcapproaching': 1815, 'maturity': 3047, 'date': 1239, 'offered': 3416, 'interest': 2589, 'option': 3486, 'delegated': 1267, 'lending': 2793, 'authority': 451, 'streamline': 4653, 'processed': 3889, 'financial': 1963, 'offernegotiation': 3418, 'remaining': 4161, 'balance': 488, 'andor': 244, 'settlementagreement': 4415, 'hybrid': 2335, 'modification': 3206, 'lien': 2810, 'secured': 4368, 'byrbc': 686, 'portfoliounder': 3745, 'streamlining': 4655, 'documentation': 1610, 'repayment': 4180, 'forbearance': 2017, 'renewalsetc': 4172, 'maintained': 2924, 'tracked': 4936, 'offs': 3425, 'entire': 1788, 'teamoperations': 4787, 'analystcredit': 189, 'suisse': 4694, 'renew': 4170, 'modify': 3207, 'syndicated': 4734, 'onemillion': 3451, 'twobillion': 5003, 'specific': 4560, 'requested': 4200, 'borrower': 606, 'apply': 308, 'principal': 3859, 'fee': 1930, 'libor': 2806, 'base': 501, 'scheduled': 4334, 'duedates': 1639, 'pricing': 3855, 'matrix': 3046, 'financials': 1964, 'handle': 2228, 'pipeline': 3691, 'spreadsheet': 4577, 'loanparticipation': 2860, 'wip': 5256, 'works': 5297, 'detailing': 1422, 'incomplete': 2423, 'submitto': 4686, 'participation': 3583, 'reconciliation': 4113, 'consult': 1036, 'syndication': 4735, 'agent': 139, 'administrator': 77, 'institution': 2561, 'reconcilediscrepancies': 4112, 'transactionsfinancial': 4957, 'officernc': 3421, 'employees': 1742, 'union': 5041, 'interview': 2615, 'consumer': 1047, 'auto': 454, 'salary': 4298, 'andrefinancing': 254, 'obtain': 3402, 'purpose': 4030, 'income': 2422, 'statement': 4607, 'currentaccount': 1204, 'recommendation': 4110, 'send': 4386, 'advising': 113, 'decision': 1257, 'funding': 2090, 'onto': 3466, 'classroom': 852, 'mentor': 3113, 'field': 1943, 'via': 5149, 'phone': 3656, 'accountestablishment': 22, 'exception': 1845, 'cross': 1182, 'sellingproducts': 4383, 'domestic': 1614, 'wire': 5257, 'general': 2126, 'secu': 4366, 'productseducationba': 3922, 'sociology': 4513, 'sociologymeredith': 4514, 'collegedecember': 920, 'christopher': 825, 'mackeyart': 2903, 'senior': 4387, 'designerhenderson': 1347, 'nvemail': 3383, 'indeedcomrchristophermackeydcbbbaadbcwork': 2436, 'directorthe': 1575, 'mike': 3155, 'ferry': 1935, 'las': 2751, 'vegas': 5136, 'nvaugust': 3382, 'started': 4601, 'flyer': 2000, 'signagepromoted': 4458, 'selling': 4382, 'taking': 4752, 'submissiondesign': 4683, 'frequency': 2067, 'increased': 2427, 'beginning': 529, 'adding': 56, 'guidance': 2212, 'instruction': 2565, 'effort': 1718, 'layoutscontract': 2769, 'freelancemackey': 2063, 'nvfebruary': 3384, 'freelance': 2061, 'contracted': 1066, 'fewpositions': 1940, 'one': 3447, 'tropicana': 4983, 'entertainment': 1786, 'month': 3224, 'fortheir': 2043, 'casino': 754, 'propertiesproduction': 3982, 'managercard': 2955, 'player': 3720, 'nvmay': 3387, 'january': 2655, 'handling': 2230, 'advertisingwithin': 108, 'promoted': 3968, 'submission': 4682, 'sublimation': 4681, 'proofing': 3977, 'responsibilitiesfor': 4224, 'becoming': 526, 'main': 2921, 'printergraphic': 3867, 'designerlas': 1351, 'journal': 2679, 'lvrj': 2893, 'nvmarch': 3386, 'used': 5087, 'reviewjournal': 4253, 'different': 1458, 'mailer': 2917, 'opperate': 3478, 'luxurymagazine': 2892, 'hello': 2259, 'neighbor': 3318, 'nifty': 3350, 'nickelcontract': 3349, 'catalog': 759, 'slot': 4501, 'machince': 2899, 'variousgamessenior': 5129, 'designershorebreak': 1370, 'industries': 2492, 'diego': 1456, 'camay': 707, 'march': 2991, 'emroidered': 1748, 'shirtsgraphic': 4433, 'internshipref': 2608, 'cajanuary': 695, 'designerthorsnes': 1375, 'bartolotta': 499, 'mcguire': 3057, 'caaugust': 691, 'educationbachelors': 1694, 'applied': 307, 'sciencessan': 4347, 'caskillsadobe': 756, 'literate': 2844, 'yearslinkshttpwwwmackeydevelopmentcom': 5365, 'cosmo': 1119, 'nardozzamaywood': 3285, 'njemail': 3357, 'indeedcomrcosmonardozzaafaccewilling': 2437, 'directorshirt': 1563, 'shack': 4423, 'valley': 5114, 'nyseptember': 3395, 'presentcreating': 3812, 'clothing': 882, 'artwork': 375, 'full': 2080, 'graphicdesignsdaytoday': 2180, 'operations': 3475, 'these': 4860, 'shipping': 4431, 'telecommunication': 4809, 'filling': 1953, 'formsand': 2032, 'emailing': 1733, 'clientspackage': 870, 'designerpig': 1358, 'pen': 3620, 'port': 3741, 'washington': 5196, 'nymay': 3394, 'name': 3282, 'symbol': 4733, 'trademark': 4942, 'representing': 4197, 'itsbrand': 2643, 'gif': 2136, 'constructed': 1035, 'gifs': 2137, 'scratch': 4351, 'die': 1455, 'cost': 1120, 'effective': 1706, 'package': 3546, 'friendlybox': 2069, 'proper': 3980, 'formatfreelance': 2027, 'designercrazart': 1335, 'township': 4931, 'randolph': 4067, 'njjune': 3358, 'july': 2684, 'study': 4677, 'dressesorganize': 1630, 'archives': 332, 'folder': 2008, 'renamed': 4166, 'quicker': 4050, 'retrievaleducationbachelor': 4246, 'designart': 1310, 'pittsburg': 3696, 'pittsburgh': 3697, 'paseptember': 3595, 'associate': 402, 'designbergen': 1312, 'paramus': 3576, 'njseptember': 3359, 'diploma': 1469, 'nonehackensack': 3360, 'hackensack': 2222, 'linkshttpcosmonardozzaportfolioboxnet': 2834, 'craig': 1149, 'thackerroswell': 4831, 'gaemail': 2098, 'indeedcomrcraigthackeraeddfauthorized': 2438, 'directortad': 1571, 'roswell': 4282, 'gaapril': 2097, 'presentthacker': 3840, 'designfounder': 1383, 'visionarycreate': 5165, 'small': 4502, 'size': 4478, 'businessesthroughout': 679, 'southeast': 4539, 'varietyof': 5125, 'grow': 2203, 'andbusinesses': 206, 'servespectrum': 4400, 'groupcreative': 2199, 'presidentjoined': 3844, 'spectrum': 4565, 'startup': 4602, 'participated': 3582, 'aspect': 382, 'growing': 2204, 'thebusiness': 4840, 'our': 3519, 'soon': 4534, 'recognized': 4109, 'inhighend': 2524, 'wonnumerous': 5273, 'obie': 3399, 'award': 464, 'directmail': 1483, 'designgraphic': 1385, 'workslead': 5299, 'directorbegan': 1493, 'quickly': 4051, 'moved': 3245, 'graphicdesigner': 2178, 'eventually': 1837, 'became': 524, 'six': 4477, 'garnerednumerous': 2120, 'rapidly': 4073, 'expanding': 1867, 'listeducationgraphic': 2839, 'identityart': 2353, 'atlantapainting': 422, 'illustrationeast': 2369, 'central': 780, 'galinkshttpwwwthackeradcom': 2105, 'cristopher': 1177, 'schaferhampton': 4332, 'vaemail': 5111, 'indeedcomrcristopherschaferdcdafcaccdwilling': 2439, 'directorjtown': 1530, 'musicnovember': 3275, 'presentdj': 3817, 'jazzy': 2658, 'jeff': 2660, 'awareness': 474, 'presence': 3801, 'variousfilm': 5128, 'broadcast': 638, 'collaborate': 906, 'drive': 1632, 'completion': 982, 'strategic': 4635, 'thinking': 4867, 'generate': 2127, 'analytics': 194, 'targeted': 4765, 'engagement': 1765, 'initiative': 2531, 'resulted': 4233, 'sponsorship': 4570, 'compelling': 970, 'sound': 4535, 'serve': 4397, 'principle': 3860, 'filmmaker': 1956, 'editorphotographerfilmmakernovember': 1685, 'presentconceptualize': 3809, 'capture': 732, 'according': 19, 'treatment': 4975, 'proficient': 3933, 'filmingphotography': 1955, 'variable': 5122, 'campaignsfiber': 716, 'analystverizon': 192, 'communicationsnovember': 958, 'troubleshoot': 4984, 'router': 4283, 'fiber': 1941, 'top': 4919, 'box': 608, 'telephone': 4811, 'antivirus': 286, 'firmware': 1975, 'device': 1447, 'technician': 4798, 'routing': 4284, 'installation': 2555, 'outage': 3521, 'desk': 1415, 'fellow': 1934, 'first': 1976, 'supervisor': 4710, 'forescalations': 2020, 'commendationshelp': 935, 'analystdataline': 190, 'incnovember': 2421, 'application': 304, 'end': 1753, 'initiate': 2528, 'script': 4353, 'remote': 4164, 'load': 2858, 'pcs': 3613, 'area': 333, 'networkscampus': 3324, 'registrartidewater': 4141, 'techmay': 4795, 'class': 848, 'academic': 9, 'record': 4114, 'institutional': 2562, 'data': 1235, 'semester': 4385, 'attendance': 426, 'dismissalprobation': 1590, 'leave': 2786, 'absence': 7, 'registration': 4142, 'grading': 2170, 'transfer': 4960, 'schoolsaccrediting': 4345, 'transcript': 4959, 'official': 3423, 'certifying': 785, 'standingcustomer': 4599, 'care': 740, 'representativenextel': 4191, 'communicationsmay': 957, 'troubleshooting': 4985, 'cellular': 772, 'accounts': 24, 'andresearch': 256, 'feedback': 1931, 'upper': 5071, 'managementquality': 2948, 'assurance': 411, 'analystwest': 193, 'corporationoctober': 1111, 'measure': 3069, 'enhanced': 1778, 'telemarketing': 4810, 'representatives': 4193, 'stronginterpersonal': 4664, 'coaching': 892, 'technique': 4801, 'reduce': 4127, 'turnover': 4997, 'reinforce': 4146, 'improvement': 2398, 'counselingdisciplinary': 1129, 'action': 46, 'termination': 4823, 'employeeseducationbachelors': 1743, 'science': 4346, 'managementstrayer': 2950, 'yearsafter': 5341, 'yearslinkshttpcristopherschafercomdemoreeladditional': 5350, 'informationprofessional': 2513, 'canon': 725, 'nikon': 3355, 'red': 4123, 'sonyadobe': 4533, 'goproadobe': 2160, 'audio': 436, 'captureadobe': 733, 'audition': 441, 'apple': 301, 'iwork': 2647, 'blackmagic': 570, 'switchingadobe': 4731, 'audacity': 433, 'os': 3511, 'switchingfinal': 4732, 'windows': 5253, 'streamingwordpress': 4652, 'wirecast': 5258, 'daniel': 1230, 'montgomerymidland': 3223, 'miemail': 3148, 'indeedcomrdanielmontgomerycecbcbawilling': 2440, 'directordaniel': 1505, 'montgomery': 3222, 'midland': 3145, 'miive': 3153, 'im': 2381, 'specializes': 4557, 'brandingevents': 623, 'apps': 323, 'communicationsmarketing': 956, 'directorinstitute': 1528, 'mount': 3243, 'pleasant': 3726, 'mifebruary': 3149, 'november': 3375, 'printedpublications': 3865, 'institutemarketing': 2559, 'directormackinac': 1536, 'miapril': 3137, 'began': 528, 'way': 5202, 'thenations': 4857, 'largest': 2750, 'statebased': 4606, 'think': 4866, 'tank': 4760, 'role': 4277, 'iwas': 2646, 'moreeducationbachelors': 3230, 'educationoilvet': 1700, 'nazarene': 3296, 'kankakee': 2688, 'ilaugust': 2362, 'skillsgraphic': 4491, 'videoproduction': 5155, 'written': 5314, 'copywriting': 1098, 'copy': 1094, 'david': 1240, 'cordonalameda': 1101, 'indeedcomrdavidcordondcdadwilling': 2441, 'directorfuture': 1520, 'future': 2095, 'contentlead': 1053, 'frontend': 2072, 'developer': 1433, 'marketingcampaigns': 3002, 'ecomms': 1665, 'websites': 5220, 'gamer': 2110, 'techradarand': 4806, 'gamesradar': 2112, 'collaborated': 907, 'contentmarketing': 1054, 'scale': 4326, 'amazon': 176, 'ebayand': 1661, 'intelinteractive': 2579, 'ufc': 5023, 'interactivemaclife': 2585, 'interactiveboldlinelensdesigned': 2583, 'editorial': 1682, 'userinterface': 5091, 'testing': 4826, 'tablet': 4742, 'version': 5148, 'proprietary': 3990, 'dps': 1620, 'todesign': 4903, 'ready': 4090, 'newsstandart': 3339, 'camarch': 706, 'xbox': 5320, 'magazinedesigned': 2911, 'crafted': 1146, 'editorscreative': 1686, 'vps': 5184, 'directed': 1471, 'photographycommissioned': 3670, 'illustration': 2368, 'hired': 2289, 'designersart': 1368, 'directortime': 1577, 'inc': 2407, 'bonnier': 593, 'corporation': 1110, 'tustin': 4998, 'caapril': 689, 'october': 3408, 'quad': 4034, 'transworld': 4972, 'bmx': 583, 'magazinedeveloped': 2912, 'initial': 2527, 'publisherdesigned': 4017, 'feature': 1924, 'kit': 2711, 'layoutsand': 2768, 'chose': 822, 'archived': 331, 'location': 2868, 'commissioned': 938, 'artdirected': 346, 'tshirts': 4992, 'showand': 4445, 'party': 3592, 'prepared': 3794, 'checksassociate': 811, 'cajuly': 696, 'sega': 4373, 'dreamcast': 1627, 'preparedprintready': 3795, 'checked': 807, 'bluelines': 579, 'directoreducationbachelor': 1510, 'industrial': 2490, 'designsan': 1400, 'universitybachelor': 5052, 'englishcal': 1774, 'poly': 3736, 'obisposkillsabobe': 3400, 'cc': 767, 'ms': 3250, 'keynote': 2703, 'yearslinkshttpdwcordonsquarespacecomadditional': 5351, 'informationexpertise': 2507, 'storytelling': 4634, 'expert': 1882, 'msoffice': 3255, 'extensive': 1891, 'publishing': 4021, 'issuetracking': 2638, 'hiring': 2290, 'supervising': 4708, 'permanent': 3637, 'andillustrators': 231, 'knowledge': 2718, 'use': 5086, 'cms': 888, 'scripting': 4354, 'responsive': 4227, 'analyticsnon': 195, 'experienceas': 1874, 'bookstore': 601, 'workedwith': 5288, 'faculty': 1908, 'assemble': 385, 'copyright': 1096, 'permissionstracked': 3639, 'kept': 2700, 'royalty': 4285, 'due': 1638, 'staffa': 4586, 'marketed': 2999, 'cultivated': 1195, 'departmentsmy': 1296, 'filemaker': 1950, 'trackordering': 4939, 'permission': 3638, 'artdirector': 347, 'publicity': 4013, 'cesar': 786, 'chavez': 805, 'agraphic': 141, 'post': 3752, 'informationalbrochures': 2502, 'calendar': 698, 'mailing': 2918, 'menu': 3118, 'map': 2987, 'tchotchke': 4774, 'studentservices': 4668, 'gallery': 2106, 'pub': 4005, 'andcolor': 208, 'proof': 3975, 'pr': 3773, 'special': 4550, 'celebration': 771, 'hindelangcrosschannel': 2287, 'directormidlothian': 1539, 'indeedcomrdavidhindelangebefccrosschannel': 2442, 'proven': 3996, 'strong': 4662, 'success': 4688, 'advertisingmarketing': 104, 'andbroadcast': 205, 'channel': 797, 'accustomed': 28, 'managing': 2972, 'metric': 3134, 'driven': 1633, 'resultsauthorized': 4235, 'directorstauer': 1568, 'glen': 2146, 'allen': 158, 'va': 5107, 'crosschannel': 1183, 'andcommunicationsachievementsresponsibilities': 209, 'segmentation': 4375, 'taboola': 4745, 'all': 157, 'inbound': 2406, 'outbound': 3522, 'call': 702, 'platinum': 3718, 'club': 885, 'paper': 3573, 'interdepartmental': 2588, 'materialinternetcatalog': 3039, 'directortechnobrands': 1574, 'colonial': 926, 'heights': 2256, 'designerdevelopernet': 1337, 'decisions': 1258, 'richmond': 4259, 'designervrpa': 1377, 'designerremnant': 1363, 'resources': 4219, 'educationbachelor': 1693, 'advertisingmarketingvirginia': 105, 'commonwealth': 944, 'vaskillscorporate': 5132, 'corporatecommunications': 1105, 'informationcreative': 2505, 'skill': 4482, 'radio': 4057, 'television': 4812, 'micro': 3142, 'hunterindependent': 2333, 'designerchicago': 1331, 'ilemail': 2364, 'indeedcomrdavidhunterdcaeacfgraphic': 2443, 'formerly': 2031, 'armyveteranwork': 340, 'directorindependent': 1526, 'chicago': 815, 'ildesign': 2363, 'consultant': 1038, 'chicagoarea': 817, 'nar': 3284, 'archdiocese': 325, 'schiff': 4336, 'hardin': 2237, 'society': 4512, 'ofactuaries': 3410, 'gateway': 2121, 'foundation': 2050, 'weber': 5211, 'shandwick': 4424, 'morevisual': 3232, 'consultantxpediormetamor': 1045, 'technologies': 4803, 'ilseptember': 2379, 'interfaceuser': 2592, 'experienceinformation': 1878, 'architectsystems': 328, 'administratorbuyersales': 78, 'consultantcrest': 1041, 'purchased': 4026, 'performed': 3631, 'consultanteducationassociates': 1042, 'administrationmoraine': 75, 'palos': 3568, 'hills': 2286, 'ilskillsadobe': 2380, 'suiteindesign': 4696, 'officepowerpoint': 3420, 'word': 5275, 'alsocustomer': 168, 'yearslinkshttpwwwdhddnetimagesportfoliowebdavehunterportfoliofebpdfmilitary': 5362, 'serviceservice': 4405, 'usbranch': 5085, 'armyrank': 339, 'specialistadditional': 4552, 'informationi': 2509, 'lifelong': 2813, 'chicagoan': 816, 'helping': 2265, 'needsfor': 3314, 'commendable': 934, 'andpurchasingestablishing': 253, 'good': 2156, 'highest': 2277, 'importance': 2393, 'mefrom': 3101, 'thevery': 4863, 'forward': 2046, 'beyond': 547, 'projectmy': 3957, 'aesthetic': 121, 'described': 1303, 'contemporary': 1050, 'clear': 856, 'highly': 2279, 'adobescreative': 85, 'moshiergraphic': 3237, 'artistvero': 361, 'beach': 521, 'flemail': 1987, 'indeedcomrdavidmoshiercbaeaafulltime': 2444, 'parttime': 3591, 'utilizing': 5103, 'ingraphic': 2523, 'teachingtrainingauthorized': 4782, 'directorcity': 1502, 'vero': 5146, 'floctober': 1993, 'presentdesigner': 3815, 'redesigned': 4126, 'desktop': 1416, 'designand': 1308, 'advertisersfreelance': 97, 'directoroasis': 1549, 'fl': 1981, 'presentdesign': 3814, 'andmarketing': 240, 'big': 552, 'marketsart': 3021, 'directorphysicians': 1555, 'consultants': 1044, 'west': 5238, 'palm': 3567, 'score': 4349, 'doctors': 1608, 'practices': 3776, 'nationwideinstructorpratt': 3294, 'insitute': 2547, 'york': 5373, 'ny': 3388, 'taught': 4769, 'editingcreative': 1675, 'directorowneroasis': 1553, 'successful': 4689, 'cityclients': 840, 'poors': 3737, 'pbs': 3610, 'ocean': 3405, 'spray': 4575, 'pantoneeducationbs': 3572, 'economicsnortheastern': 1668, 'boston': 607, 'maadvertising': 2896, 'typographyparsons': 5020, 'shool': 4434, 'of': 3409, 'nyskillsvery': 3397, 'adobes': 84, 'andmicrosoft': 242, 'pcadditional': 3612, 'informationmultilingual': 2511, 'spiritual': 4569, 'culturally': 1196, 'sensitive': 4391, 'musician': 3274, 'denise': 1285, 'sucikcreative': 4691, 'directorsaint': 1559, 'michael': 3138, 'mnemail': 3191, 'indeedcomrdenisesucikdcaecdbwilling': 2445, 'anywherework': 292, 'directormauer': 1537, 'sports': 4573, 'nutrition': 3381, 'minneapolis': 3175, 'mnseptember': 3197, 'mauer': 3048, 'continuity': 1061, 'cuttingedge': 1219, 'packagingpop': 3551, 'conceptand': 998, 'write': 5307, 'instagram': 2553, 'snapchat': 4506, 'youtube': 5380, 'dataanalysis': 1236, 'participationindependent': 3584, 'contractorvarious': 1071, 'agencies': 133, 'on': 3442, 'offsite': 3427, 'directorart': 1490, 'stylist': 4680, 'managerand': 2953, 'always': 173, 'delivering': 1273, 'robust': 4271, 'focused': 2006, 'redbrick': 4124, 'health': 2250, 'shineboxagency': 4429, 'fast': 1918, 'horse': 2308, 'intercross': 2587, 'sussner': 4725, 'agencycreative': 135, 'designerknittig': 1350, 'mn': 3190, 'conceptual': 1005, 'mills': 3165, 'land': 2738, 'olakes': 3438, 'atk': 419, 'federal': 1928, 'presenting': 3825, 'digitalartistry': 1460, 'solution': 4523, 'brochurescatalogs': 642, 'invitation': 2627, 'chosen': 823, 'snow': 4507, 'goose': 2159, 'packagingcreative': 3549, 'designerartdirections': 1323, 'advertise': 94, 'smallcompanies': 4504, 'emphasis': 1738, 'efficiency': 1715, 'directionsource': 1478, 'prop': 3979, 'illustrative': 2372, 'artphotography': 365, 'posterspromotional': 3757, 'newslettersart': 3337, 'directorgraco': 1521, 'gracos': 2166, 'conceptualization': 1006, 'gracobranded': 2165, 'graco': 2164, 'conceivedmaintained': 996, 'drawing': 1625, 'completeprojects': 981, 'effectively': 1708, 'sourcing': 4537, 'withingiven': 5268, 'budgetseducationnorth': 661, 'hennepin': 2266, 'collegeskillsphotoshop': 923, 'artistry': 357, 'emailmarketing': 1734, 'graph': 2174, 'yearslinkshttpmauersportsnutritioncomhttpwwwartdirectionsushttpwwwgrandslamnutritioncomhttpswwwfacebookcommauersportsnutritionhttpswwwfacebookcommauersportsnutritionvideoshttpswwwfacebookcommauersportsnutritionvideoshttpswwwfacebookcommauersportsnutritionvideoshttpswwwinstagramcommauersportsnutrition': 5354, 'destiny': 1418, 'washingtongraphic': 5197, 'designerbrooklyn': 1328, 'nyemail': 3390, 'indeedcomrdestinywashingtonaeabbauthorized': 2446, 'directorj': 1529, 'walter': 5191, 'thompson': 4872, 'nymarch': 3393, 'presentcreative': 3813, 'kleenex': 2714, 'deedjordanian': 1261, 'tourism': 4928, 'northwellconciergebrooklyn': 3366, 'night': 3351, 'bazaar': 512, 'presentgreet': 3824, 'checkin': 808, 'every': 1839, 'guest': 2209, 'amenity': 177, 'coat': 896, 'belonging': 533, 'take': 4750, 'drink': 1631, 'private': 3879, 'karaoke': 2689, 'roomssales': 4281, 'associateamerican': 403, 'brooklyn': 648, 'nyfebruary': 3391, 'oct': 3407, 'greet': 2193, 'guestassisting': 2210, 'store': 4625, 'operational': 3473, 'opening': 3469, 'storehelping': 4626, 'accomplish': 15, 'like': 2822, 'storewide': 4628, 'cleaning': 854, 'receiving': 4103, 'stocking': 4623, 'merchandise': 3120, 'assisting': 401, 'merchandisingcashierpostemporary': 3122, 'specialistthe': 4556, 'door': 1617, 'alternatives': 170, 'rule': 4288, 'regulation': 4144, 'recreational': 4119, 'discipline': 1585, 'safety': 4296, 'organize': 3500, 'promote': 3967, 'youthsenior': 5379, 'peer': 3619, 'educatorthe': 1704, 'nyjanuary': 3392, 'jan': 2653, 'feb': 1926, 'conferencesand': 1014, 'cooperative': 1086, 'interested': 2590, 'inreproductive': 2544, 'regarding': 4139, 'reproductive': 4198, 'relationshipsmilwaukee': 4154, 'receptionistmpi': 4105, 'llcdecember': 2856, 'complaint': 976, 'resolving': 4217, 'viewing': 5160, 'appointment': 310, 'potential': 3764, 'currenttenants': 1209, 'clerical': 857, 'midlevel': 3146, 'companyeducationcertificate': 965, 'designshillington': 1402, 'artscolumbia': 370, 'collegechicago': 919, 'less': 2794, 'yearlinkshttpbrooklynwastecomhttpdestinywashingtonnet': 5333, 'devan': 1429, 'brushraleigh': 654, 'indeedcomrdevanbrushbfeddfbawilling': 2447, 'denver': 1288, 'co': 889, 'dcauthorized': 1243, 'peel': 3618, 'boone': 603, 'ncaugust': 3300, 'progressive': 3950, 'annual': 280, 'association': 410, 'designweb': 1409, 'internknex': 2606, 'hatfield': 2243, 'pajune': 3564, 'iconography': 2340, 'go': 2152, 'research': 4207, 'categorize': 763, 'critique': 1180, 'contest': 1056, 'sweepstakes': 4729, 'democratic': 1281, 'philadelphiaassistant': 3652, 'teachercountry': 4779, 'sunshine': 4701, 'childrens': 820, 'raleigh': 4063, 'nc': 3299, 'internchemware': 2603, 'ncmay': 3306, 'completely': 980, 'updated': 5063, 'spec': 4549, 'briefsinterntruwealth': 633, 'pajuly': 3563, 'booklet': 597, 'manipulated': 2975, 'masked': 3029, 'model': 3200, 'knex': 2716, 'educational': 1692, 'productseducationbfa': 3923, 'designappalachian': 1309, 'skillscss': 4490, 'jquery': 2681, 'wordpresslinkshttpdevanbrushcomawardsachievements': 5280, 'aga': 130, 'labs': 2734, 'exhibition': 1861, 'amsterdam': 184, 'netherlands': 3321, 'glitch': 2147, 'competition': 972, 'starkville': 4600, 'mississippi': 3185, 'leader': 2773, 'distinction': 1599, 'appalachian': 295, 'fuse': 2094, 'smith': 4505, 'acp': 37, 'pacemaker': 3545, 'submissions': 4684, 'turchin': 4993, 'ocho': 3406, 'nth': 3376, 'deans': 1252, 'fall': 1912, 'currentadditional': 1205, 'informationskillsadobe': 2516, 'php': 3682, 'wordpresssql': 5281, 'workbench': 5284, 'nopcommerce': 3363, 'ecommerce': 1663, 'risograph': 4265, 'letterpress': 2799, 'printmaking': 3872, 'eric': 1802, 'bronkgraphic': 644, 'gurulas': 2220, 'indeedcomrericbronkabfi': 2448, 'youwould': 5381, 'reference': 4131, 'see': 4370, 'thank': 4832, 'youauthorized': 5376, 'directornpusa': 1547, 'nvjuly': 3385, 'presentcreated': 3811, 'marketsestablished': 3025, 'mediasdeveloped': 3091, 'platformsdeveloped': 3716, 'materialsdeveloped': 3042, 'tested': 4825, 'membership': 3107, 'marketanalyzed': 2998, 'collection': 914, 'surveyscollaborated': 4724, 'vp': 5183, 'attract': 432, 'potentialmembership': 3765, 'candidate': 722, 'marketscollaborated': 3022, 'demographic': 1282, 'marketsconceived': 3023, 'marketsdeveloped': 3024, 'incentive': 2408, 'tripsdeveloped': 4981, 'membershipworked': 3108, 'find': 1965, 'affordable': 125, 'need': 3312, 'applicationslink': 306, 'httpswwwyoutubecomchannelucnvcgvfethvhylzgsenior': 2328, 'designerthe': 1374, 'mirage': 3179, 'hotel': 2314, 'signagepromotional': 4459, 'forin': 2023, 'whether': 5242, 'portion': 3746, 'propertypieces': 3986, 'conceive': 994, 'formultiple': 2034, 'aces': 30, 'comedy': 933, 'lineup': 2828, 'boyz': 609, 'ii': 2358, 'men': 3110, 'groupproperties': 2200, 'vendorsto': 5143, 'requisition': 4205, 'researched': 4208, 'along': 164, 'getting': 2135, 'quote': 4053, 'forprint': 2035, 'signageand': 4457, 'mirages': 3180, 'socialnetwork': 4511, 'digitalsignage': 1464, 'propertygraphic': 3985, 'designerpromoterlush': 1360, 'food': 2013, 'bar': 498, 'conception': 1003, 'nightly': 3353, 'printdesigned': 3863, 'gainmore': 2102, 'exposure': 1887, 'allowing': 160, 'higher': 2276, 'patron': 3603, 'visitationgraphic': 5168, 'designerpromotionsthe': 1361, 'legion': 2789, 'boom': 602, 'mnfebruary': 3192, 'withpromotions': 5271, 'allwork': 163, 'imported': 2394, 'overthe': 3541, 'last': 2753, 'bring': 635, 'friday': 2068, 'nightof': 3354, 'asian': 380, 'taste': 4768, 'restaurant': 4228, 'loungegraphic': 2885, 'designermarketinggamut': 1353, 'mnjune': 3195, 'chair': 789, 'functionsworked': 2089, 'come': 932, 'eventflyers': 1830, 'reported': 4183, 'adcampaign': 55, 'mda': 3061, 'associated': 404, 'branch': 614, 'slam': 4497, 'academy': 10, 'colab': 905, 'givena': 2142, 'mass': 3030, 'gallerygraphic': 2107, 'coordinatorpepsico': 1092, 'burnsville': 675, 'mnmay': 3196, 'south': 4538, 'dakota': 1225, 'northerniowa': 3365, 'minnesota': 3176, 'western': 5239, 'wisconsin': 5261, 'reflected': 4136, 'anddistributed': 217, 'pepsi': 3625, 'transitioned': 4963, 'old': 3439, 'modern': 3205, 'pbc': 3609, 'towork': 4932, 'level': 2800, 'charitable': 802, 'eventsdesignerdare': 1833, 'exclusive': 1848, 'accessory': 13, 'converted': 1082, 'original': 3506, 'digitalformat': 1461, 'stiching': 4620, 'createa': 1152, 'gain': 2100, 'appealscalegraphic': 299, 'designercals': 1329, 'savage': 4319, 'endcaps': 1754, 'locate': 2867, 'usingadobe': 5096, 'vector': 5134, 'sent': 4392, 'improve': 2395, 'upon': 5069, 'ease': 1655, 'navigationfor': 3295, 'cals': 704, 'moreeffective': 3231, 'basegraphic': 505, 'instructorminneapolis': 2569, 'mnjuly': 3194, 'instructed': 2564, 'employersapplied': 1745, 'exercise': 1858, 'better': 544, 'understand': 5034, 'managedstudents': 2936, 'profession': 3926, 'placing': 3702, 'aftergraduationgraphic': 128, 'designeroshkosh': 1356, 'truck': 4986, 'oshkosh': 3512, 'wioctober': 5255, 'proposal': 3988, 'world': 5301, 'producer': 3899, 'military': 3158, 'vehiclesused': 5139, 'problem': 3884, 'solving': 4531, 'efficient': 1716, 'overlay': 3535, 'landingmultimillion': 2740, 'truckeducationba': 4987, 'wisconsingreen': 5262, 'bay': 511, 'wijanuary': 5251, 'ba': 476, 'associatesnorthcentral': 409, 'wausau': 5198, 'wiskillsexpert': 5263, 'cs': 1188, 'older': 3440, 'applicationsadditional': 305, 'informationad': 2500, 'federation': 1929, 'alumni': 171, 'dec': 1253, 'darkroom': 1232, 'sarah': 4316, 'detweiler': 1427, 'assisted': 400, 'cleaningchemical': 855, 'mixing': 3187, 'changing': 796, 'chemical': 812, 'question': 4047, 'studentsmember': 4669, 'raise': 4060, 'bringing': 636, 'nationallyacclaimed': 3292, 'credited': 1172, 'gathering': 2123, 'communicated': 946, 'happeningin': 2234, 'hannah': 2232, 'nicholscreative': 3348, 'designerbeaufort': 1326, 'scemail': 4328, 'indeedcomrhannahnicholsdaaebcwilling': 2449, 'directorambassador': 1488, 'greenville': 2192, 'scfebruary': 4331, 'presentresponsibilitiesdesign': 3836, 'interior': 2594, 'anddesigners': 216, 'photograph': 3660, 'weband': 5209, 'booksart': 600, 'designerarnett': 1321, 'muldrow': 3259, 'associatesjuly': 408, 'established': 1807, 'outreach': 3530, 'andeconomic': 218, 'developmentand': 1440, 'adminclerical': 71, 'answering': 283, 'filing': 1952, 'andcopy': 212, 'etctechnical': 1819, 'crewanderson': 1175, 'centernovember': 779, 'rental': 4175, 'stage': 4589, 'lightingran': 2819, 'acted': 45, 'frontofhouse': 2074, 'planned': 3704, 'centerministry': 778, 'memberanderson': 3105, 'internanderson': 2599, 'centerjune': 777, 'volunteer': 5179, 'workanderson': 5283, 'universityvolunteerrace': 5060, 'for': 2016, 'curejune': 1202, 'creweasley': 1176, 'resident': 4213, 'advisoranderson': 115, 'universityseptember': 5057, 'theater': 4837, 'technicianeasley': 4800, 'schoolnovember': 4342, 'floor': 1994, 'staffeasley': 4587, 'educationeasley': 1696, 'schoolmay': 4341, 'historyanderson': 2293, 'universitymarch': 5054, 'anderson': 221, 'sc': 4325, 'easley': 1657, 'sclinkshttphannahnicholscomhttpswwwlinkedincominhannahnicholsbadditional': 4348, 'informationqualificationsi': 2514, 'experienced': 1877, 'continue': 1058, 'heavily': 2255, 'invested': 2624, 'inand': 2402, 'passionate': 3598, 'constantly': 1033, 'strive': 4661, 'highestquality': 2278, 'possible': 3751, 'jack': 2648, 'silercreative': 4464, 'designersan': 1366, 'mateo': 3037, 'indeedcomrjacksilerafecdbbhandson': 2450, 'marketingstrategies': 3017, 'expertiseof': 1884, 'teamoriented': 4788, 'solutionfocused': 4524, 'approach': 315, 'problemsolving': 3885, 'launch': 2759, 'deadline': 1248, 'areas': 335, 'linking': 2833, 'cycle': 1221, 'crossfunctional': 1184, 'mentoring': 3115, 'presentations': 3805, 'precise': 3781, 'controlauthorized': 1079, 'directorvirtually': 1578, 'livedecember': 2851, 'virtual': 5162, 'reality': 4093, 'specializing': 4558, 'sporting': 4572, 'includesallbranding': 2416, 'prototyping': 3995, 'clevel': 858, 'investor': 2625, 'pitchdecks': 3694, 'align': 154, 'objective': 3401, 'pitched': 3695, 'managementand': 2939, 'completed': 978, 'roll': 4279, 'guidelinesadvertisinglargeformat': 2215, 'saving': 4321, 'improved': 2396, 'architecture': 330, 'brandalignment': 616, 'edited': 1673, 'liveaction': 2850, 'improving': 2399, 'fully': 2085, 'customized': 1217, 'branded': 618, 'vr': 5186, 'speech': 4566, 'developmentmeetingscreated': 1443, 'standardized': 4593, 'customizable': 1216, 'library': 2807, 'increasing': 2428, 'forclevelexecutives': 2018, 'nascar': 3286, 'formula': 2033, 'fox': 2055, 'fifa': 1946, 'premier': 3786, 'leaguedirector': 2781, 'servicessony': 4406, 'caoctober': 728, 'led': 2787, 'andmarketingmaterials': 241, 'game': 2108, 'peripheral': 3635, 'materialsproductphotography': 3044, 'render': 4167, 'activation': 48, 'visuals': 5176, 'playstation': 3721, 'global': 2148, 'imagery': 2384, 'toolscustomized': 4916, 'built': 669, 'consensus': 1021, 'drove': 1635, 'projectbudget': 3953, 'partnership': 3590, 'playstationbrandvisibility': 3722, 'expanded': 1864, 'manual': 2981, 'capability': 729, 'premium': 3791, 'strategyguides': 4650, 'diary': 1453, 'revenue': 4248, 'partner': 3585, 'deliver': 1268, 'productionready': 3914, 'packagingfiles': 3550, 'upto': 5073, 'console': 1030, 'bundle': 671, 'channelneeds': 798, 'largeformat': 2748, 'tradeshow': 4945, 'provided': 3998, 'onsite': 3463, 'mediapresentations': 3089, 'creatives': 1166, 'msan': 3251, 'linkedincominjacksiler': 2831, 'jacksilercomcastnet': 2649, 'jacksilersquarespacecompage': 2650, 'twosenior': 5004, 'poptradeshowgraphics': 3739, 'americareorganized': 180, 'mindset': 3168, 'onestop': 3454, 'inhousecreative': 2526, 'move': 3244, 'playstationvitaplatform': 3725, 'championed': 794, 'transition': 4962, 'digitalonly': 1463, 'reducing': 4129, 'peryearacquired': 3648, 'additional': 57, 'gotomarket': 2162, 'communicationtools': 959, 'stakeholder': 4591, 'retailer': 4238, 'playstationproducts': 3723, 'reduced': 4128, 'tailored': 4749, 'marketingteams': 3019, 'contributor': 1077, 'indiviualized': 2489, 'trainingcreative': 4954, 'managerfebruary': 2960, 'half': 2224, 'playstations': 3724, 'materialsand': 3041, 'achieved': 33, 'associateproduct': 406, 'managercreative': 2958, 'managerrussellwelshjuly': 2966, 'designermanagedvendor': 1352, 'reportsenior': 4186, 'specialistemery': 4555, 'worldwidejune': 5302, 'supportingproductlaunches': 4720, 'toolsmarketing': 4918, 'analystmanpower': 191, 'incjanuary': 2411, 'supported': 4717, 'establishment': 1810, 'manpowers': 2978, 'european': 1821, 'headquarters': 2249, 'relationshipswith': 4155, 'assistantxerox': 399, 'marketingpace': 3015, 'nyskillscreative': 3396, 'skills': 4484, 'yearsbranding': 5342, 'yearslinkshttpwwwjacksilersquarespacecomhttpswwwlinkedincominjacksileradditional': 5364, 'informationfreelancevela': 2508, 'finance': 1962, 'powers': 3772, 'squared': 4581, 'foster': 2048, 'city': 839, 'little': 2847, 'league': 2780, 'volunteersan': 5180, 'softball': 4515, 'jayne': 2657, 'mcelhenycreative': 3056, 'directorconshohocken': 1503, 'paemail': 3552, 'indeedcomrjaynemcelhenyfbbbcpassionate': 2451, 'technicalorganizational': 4797, 'interpersonal': 2611, 'seeking': 4371, 'challengesand': 792, 'learning': 2784, 'opportunity': 3480, 'enthusiasm': 1787, 'inspire': 2551, 'hard': 2235, 'andgrow': 228, 'leaderwork': 2777, 'directorsungard': 1570, 'wayne': 5203, 'pa': 3544, 'fastpaced': 1919, 'technologycompany': 4805, 'onbrandart': 3444, 'directormiller': 1540, 'designworks': 1412, 'phoenixville': 3655, 'environment': 1792, 'aspectsof': 384, 'sungarddata': 4700, 'certainteed': 783, 'trumark': 4989, 'bdp': 520, 'johnson': 2667, 'johnsoncreative': 2668, 'directororthovita': 1552, 'incorporated': 2425, 'malvern': 2931, 'fda': 1923, 'regulated': 4143, 'devicecompany': 1448, 'wellas': 5232, 'tell': 4813, 'distincitive': 1597, 'personalityand': 3643, 'tonefreelance': 4912, 'designerjk': 1349, 'conshohocken': 1022, 'managedsuppliers': 2937, 'defined': 1264, 'interpreted': 2612, 'marketingobjectives': 3014, 'multitude': 3270, 'deliverablesspecializing': 1270, 'programscustomer': 3948, 'representativeairborne': 4189, 'express': 1888, 'king': 2709, 'prussia': 4003, 'entry': 1791, 'payable': 3605, 'receivables': 4100, 'ordered': 3492, 'officesupplies': 3422, 'entering': 1785, 'payroll': 3608, 'attempted': 425, 'bad': 485, 'address': 59, 'packagesetc': 3547, 'driver': 1634, 'dispatch': 1592, 'airline': 147, 'courier': 1135, 'arrange': 343, 'deliveriessenior': 1272, 'designerrandee': 1362, 'berman': 541, 'philadelphia': 3651, 'junior': 2686, 'earning': 1654, 'significant': 4461, 'achievement': 34, 'italian': 2641, 'bistro': 564, 'restaurantsa': 4229, 'chain': 788, 'tristate': 4982, 'areaawardseducationbfa': 334, 'paskillsadobe': 3596, 'powerpointapple': 3770, 'pages': 3557, 'numbers': 3378, 'quarkxpressadditional': 4042, 'informationplease': 2512, 'linkedin': 2830, 'endorsement': 1756, 'available': 459, 'uponrequest': 5070, 'jessica': 2662, 'yencreative': 5371, 'enlightenedesign': 1781, 'llcchicago': 2855, 'indeedcomrjessicayeneaceeecauthorized': 2452, 'directorenlightenedesign': 1515, 'iljanuary': 2365, 'multidisciplinary': 3262, 'consultancy': 1037, 'andd': 214, 'manageand': 2934, 'inception': 2409, 'signageadvertisements': 4456, 'retouching': 4243, 'wedding': 5227, 'andevent': 223, 'concern': 1008, 'craft': 1145, 'solutionsmarket': 4527, 'consultantchicago': 1039, 'presentfreelance': 3821, 'qualitative': 4036, 'industriesincluding': 2493, 'cpg': 1143, 'medicine': 3095, 'pharmaceutical': 3650, 'leisure': 2792, 'beverage': 546, 'extract': 1895, 'takeawaysfrom': 4751, 'raw': 4080, 'relate': 4148, 'complex': 983, 'andinfographicsancillary': 234, 'contractriver': 1073, 'associates': 407, 'ilmarch': 2377, 'ancillary': 198, 'contractor': 1068, 'congress': 1017, 'byfortune': 685, 'orchestrate': 3489, 'includingaudio': 2420, 'preconference': 3783, 'dinner': 1468, 'transportationair': 4971, 'accommodation': 14, 'speaker': 4547, 'track': 4935, 'andexpenditures': 225, 'roicreative': 4274, 'directorronsley': 1557, 'productionagency': 3907, 'engage': 1763, 'plansand': 3709, 'innovative': 2539, 'artistsdesigners': 358, 'departmentoperations': 1294, 'campaignsdesignerthe': 714, 'exhibit': 1860, 'publishingand': 4022, 'continually': 1057, 'innovate': 2537, 'drawingsproduct': 1626, 'rendering': 4168, 'comprehensive': 991, 'detaildepartments': 1420, 'plansdesignernimlok': 3710, 'niles': 3356, 'iloctober': 2378, 'estimating': 1813, 'modular': 3209, 'tocreate': 4901, 'adhering': 65, 'physical': 3684, 'participate': 3581, 'marketingindustrial': 3007, 'designerexhibiteam': 1342, 'elkhart': 1730, 'injune': 2532, 'avariety': 460, 'employhand': 1747, 'cad': 693, 'proposalseducationba': 3989, 'designpurdue': 1398, 'lafayette': 2735, 'inseptember': 2545, 'presentmba': 3830, 'managementdepaul': 2943, 'skillsmicrosoft': 4493, 'prezi': 3853, 'yearsfacebook': 5344, 'autocad': 455, 'max': 3050, 'yearslinkshttpwwwcoroflotcomjessicayenportfoliogroupsbeta': 5360, 'gamma': 2113, 'sigmadecember': 4453, 'john': 2666, 'clishamla': 878, 'crescentamontrose': 1174, 'indeedcomrjohncclishamedfdfbauthorized': 2453, 'directorlitegear': 1535, 'burbank': 672, 'presentcreate': 3810, 'implementresponsible': 2392, 'ecommercedesign': 1664, 'materialweb': 3045, 'businesspresence': 681, 'litegears': 2842, 'assuring': 413, 'goalsinclude': 2154, 'organizational': 3497, 'reaching': 4084, 'andcustomersresponsibilitiesbranding': 213, 'formalize': 2025, 'rd': 4082, 'piecespackaging': 3688, 'pointofpurchase': 3733, 'shippingadvertising': 4432, 'productbranding': 3904, 'insertion': 2546, 'discussion': 1589, 'departmentsprint': 1297, 'handbook': 2227, 'decalsstickersonline': 1254, 'webmaster': 5213, 'mantain': 2979, 'webstore': 5224, 'intergrate': 2593, 'quickbooks': 4049, 'websitewebstore': 5223, 'facititate': 1907, 'websitevideophotography': 5222, 'storyboard': 4632, 'edit': 1672, 'howto': 2319, 'integrate': 2575, 'effect': 1705, 'phtotgraph': 3683, 'productsdirector': 3921, 'mediaart': 3079, 'directormolerichardson': 1543, 'hollywood': 2298, 'fulfill': 2078, 'promoting': 3969, 'molerichardson': 3211, 'productsand': 3920, 'monitor': 3216, 'onecompany': 3450, 'demonstrating': 1284, 'ofimproving': 3428, 'contractbasis': 1065, 'prioritize': 3876, 'determine': 1423, 'costbenefitanalyses': 1121, 'authorizes': 453, 'equipmentaccomplishments': 1799, 'provides': 4001, 'contractedgraphic': 1067, 'visually': 5175, 'manner': 2976, 'appeal': 297, 'target': 4764, 'daytoday': 1242, 'groupsfuture': 2202, 'staffing': 4588, 'strategygoals': 4649, 'projectsadditional': 3958, 'accomplishments': 18, 'input': 2542, 'representative': 4188, 'respond': 4222, 'developexpand': 1437, 'researching': 4209, 'existing': 1862, 'activitiestechnical': 50, 'excellent': 1843, 'macintosh': 2901, 'xerox': 5321, 'fiery': 1945, 'creo': 1173, 'andsplash': 262, 'digitizing': 1466, 'slide': 4498, 'flatbed': 1985, 'scanner': 4327, 'dye': 1648, 'inkjet': 2534, 'laserprinters': 2752, 'removable': 4165, 'dat': 1234, 'ethernet': 1820, 'wireless': 5260, 'hub': 2329, 'switch': 4730, 'androuters': 258, 'processor': 3894, 'ram': 4065, 'fpus': 2057, 'wordpress': 5277, 'volusion': 5181, 'other': 3514, 'mmcolor': 3189, 'blackwhite': 572, 'andpaper': 246, 'flashfireworks': 1984, 'quarkxpress': 4041, 'effectsacrobat': 1712, 'bbedit': 515, 'fetch': 1938, 'plus': 3729, 'programsapplicationseducationbfa': 3947, 'bridgeport': 631, 'ctskillsillustrator': 1193, 'quark': 4040, 'informationcontinuing': 2504, 'classesglendale': 850, 'designglendale': 1384, 'dreamweaverglendale': 1629, 'tree': 4976, 'photoshopthe': 3680, 'annex': 276, 'jonathan': 2672, 'eatoncreative': 1660, 'multimedia': 3264, 'designerbaltimore': 1325, 'mdemail': 3064, 'indeedcomrjonathaneatonceccdauthorized': 2454, 'directorainet': 1487, 'beltsville': 535, 'mdjune': 3066, 'ainet': 146, 'visualbranding': 5172, 'graphicscreation': 2184, 'spend': 4568, 'specificallyillustrator': 4562, 'premiereproduction': 3790, 'artistselect': 359, 'laurel': 2761, 'mdapril': 3062, 'painting': 3561, 'fabricating': 1900, 'andfurniture': 226, 'largescale': 2749, 'carpentry': 747, 'conceptartwork': 999, 'sculpting': 4356, 'carving': 750, 'foam': 2004, 'faux': 1921, 'finishing': 1970, 'surfaceeffectsin': 4722, 'select': 4376, 'thebaltimore': 4839, 'horseshoe': 2309, 'shaped': 4425, 'copper': 1093, 'finish': 1968, 'resin': 4216, 'glaze': 2145, 'stainedand': 4590, 'detailed': 1421, 'antique': 284, 'finished': 1969, 'mirror': 3181, 'and': 199, 'recently': 4104, 'fabricatea': 1899, 'underarmour': 5031, 'measured': 3070, 'foot': 2014, 'inch': 2410, 'thickproductions': 4865, 'specialistdiscovery': 4554, 'mdaugust': 3063, 'specification': 4563, 'deliveryto': 1276, 'netflix': 3320, 'broadband': 637, 'onlinevideo': 3461, 'optimization': 3483, 'encoding': 1749, 'producerlevel': 3901, 'metadata': 3131, 'andorganization': 245, 'clip': 877, 'managementcreation': 2942, 'editorsmedia': 1688, 'supervisordiscovery': 4711, 'mdjanuary': 3065, 'duplication': 1642, 'pathsof': 3601, 'highres': 2283, 'ivtc': 2645, 'trackingtraining': 4938, 'filebased': 1949, 'filescreating': 1951, 'raising': 4062, 'mediaflex': 3082, 'discovery': 1587, 'creativetech': 1168, 'centerduplication': 775, 'techniciandiscovery': 4799, 'mdoctober': 3068, 'tape': 4761, 'conversion': 1081, 'transcoding': 4958, 'tapetotape': 4763, 'mediaingest': 3083, 'dolby': 1611, 'waveform': 5199, 'vectorscopeevaluationeducationbs': 5135, 'filmvilla': 1957, 'julie': 2683, 'stevenson': 4617, 'md': 3060, 'studiesanne': 4672, 'arundel': 376, 'arnold': 341, 'yearslinkshttpthisiscomportfoliohttpthisisfilmscomadditional': 5358, 'ino': 2540, 'premiereo': 3789, 'effectso': 1713, 'illustratoro': 2375, 'photoshopo': 3679, 'advanced': 90, 'lettering': 2798, 'handson': 2231, 'joseph': 2677, 'adrien': 86, 'munozcreative': 3271, 'photographercovina': 3664, 'indeedcomrjosephadrienmunozbedbeaacreative': 2455, 'fifteen': 1947, 'industriesspecializing': 2494, 'directionwilling': 1481, 'directorbridgetown': 1499, 'church': 828, 'monrovia': 3218, 'photocontent': 3658, 'managementcreating': 2941, 'preparing': 3797, 'stories': 4629, 'printfile': 3868, 'programming': 3945, 'updating': 5064, 'onwordpress': 3468, 'street': 4656, 'strategieswith': 4642, 'visibility': 5163, 'series': 4395, 'videographics': 5154, 'copywritinggraphic': 1100, 'designerart': 1322, 'directorsubstance': 1569, 'over': 3532, 'hype': 2336, 'efg': 1719, 'canovember': 726, 'presentdevelop': 3816, 'album': 152, 'artposter': 366, 'andcompany': 210, 'elite': 1729, 'logos': 2870, 'directionfor': 1477, 'programmingbuilding': 3946, 'platformgraphic': 3714, 'freelanceroots': 2065, 'nyc': 3389, 'island': 2634, 'editingphotos': 1676, 'lightroom': 2820, 'mediamanagement': 3085, 'curating': 1200, 'posting': 3760, 'photosto': 3681, 'copywritingart': 1099, 'directorgraphic': 1522, 'freelanceboihawk': 2062, 'los': 2880, 'angeles': 269, 'under': 5030, 'boihawk': 590, 'posters': 3755, 'singletrack': 4473, 'campaigns': 712, 'photoediting': 3659, 'andcontent': 211, 'touring': 4927, 'talent': 4753, 'booking': 595, 'teammanagement': 4786, 'nightclub': 3352, 'managementgraphic': 2946, 'designerphotographerarmando': 1357, 'cases': 753, 'hesperia': 2271, 'revise': 4254, 'graphicsfor': 2186, 'mailchimp': 2916, 'andpromos': 251, 'uploading': 5068, 'contentto': 1055, 'mappingout': 2989, 'andupdating': 265, 'wordpresseducationdiploma': 5279, 'educationchaffey': 1695, 'adult': 88, 'ontario': 3464, 'adobeindesign': 82, 'eventcoordination': 1828, 'marketingcommunications': 3003, 'yearslinkshttpimacultherocomhttpwwwarmandocasescomhttpwwwboihawkcomhttpwwwbridgetownchurchushttpwwwinstagramcomcultherohttpwwwinstagramcomrootsnycchurchhttpwwwinstagramcomsheepoverwolveshttpwwwrootsnycchurch': 5352, 'josh': 2678, 'beckerart': 525, 'designersanta': 1367, 'cruz': 1187, 'indeedcomrjoshbeckeracbebi': 2456, 'directorof': 1551, 'ive': 2644, 'overseen': 3539, 'executed': 1850, 'andhave': 229, 'businesscollateral': 677, 'morewilling': 3233, 'directorsanta': 1561, 'waves': 5200, 'santa': 4314, 'cajune': 697, 'presentsanta': 3837, 'bimonthly': 557, 'surf': 4721, 'lifestyle': 2814, 'circulation': 835, 'iideate': 2359, 'infographics': 2498, 'illustrationsprepare': 2371, 'upload': 5067, 'advertisingdepartments': 102, 'moreart': 3227, 'designerfreelance': 1345, 'gatos': 2124, 'glossy': 2150, 'developeddesigned': 1432, 'newsister': 3333, 'life': 2811, 'hardcover': 2236, 'nationalrelease': 3293, 'cannabis': 724, 'saved': 4320, 'whitmanpublishing': 5248, 'conceptualized': 1007, 'highend': 2275, 'furniture': 2093, 'oneoff': 3452, 'smallbusiness': 4503, 'monterey': 3221, 'wavesart': 5201, 'managergood': 2961, 'times': 4887, 'carslackgmailcom': 749, 'greg': 2194, 'archer': 326, 'former': 2030, 'chief': 818, 'timesgood': 4888, 'county': 1133, 'greggregarchercom': 2195, 'calif': 699, 'while': 5243, 'eli': 1727, 'roe': 4272, 'designercoworkeroverseeing': 1334, 'eliroestudiocom': 1728, 'andpublished': 252, 'dozenstandalone': 1619, 'publicationseducationdesignsan': 4009, 'jose': 2676, 'universityas': 5051, 'fire': 1972, 'protection': 3992, 'protectioncabrillo': 3993, 'skillsart': 4486, 'yearsquarkxpress': 5369, 'yearscreative': 5343, 'yearslinkshttpwwwdesignandartcom': 5361, 'lopez': 2879, 'winning': 5254, 'designertampa': 1373, 'indeedcomrjulylopezcececdi': 2457, 'newyork': 3341, 'mtv': 3257, 'moving': 3247, 'abc': 2, 'news': 3329, 'newstonight': 3340, 'espn': 1804, 'emmy': 1737, 'awards': 469, 'morning': 3234, 'alsoawarded': 167, 'peabody': 3615, 'coverage': 1139, 'attack': 423, 'joined': 2669, 'nbc': 3297, 'leadartist': 2772, 'nbcs': 3298, 'finding': 1966, 'forthe': 2042, 'jon': 2671, 'stewart': 4618, 'awardwinning': 472, 'creativegenius': 1163, 'decided': 1256, 'florida': 1995, 'here': 2269, 'havedone': 2244, 'interactivemedia': 2586, 'hsn': 2322, 'man': 2932, 'achieva': 31, 'tampabay': 4758, 'rays': 4081, 'orchestra': 3488, 'fewauthorized': 1939, 'directorjv': 1532, 'tampa': 4757, 'flmay': 1992, 'graphicsmotion': 2187, 'designercompany': 1333, 'productionmotion': 3911, 'artisthsn': 354, 'saint': 4297, 'petersburg': 3649, 'fljanuary': 1990, 'productionart': 3908, 'productioneducationaas': 3909, 'prelawcity': 3784, 'bcc': 517, 'bronx': 645, 'skillscinema': 4487, 'yearslinkshttpjvmediallcnetadditional': 5353, 'informationdesign': 2506, 'recognitions': 4107, 'george': 2132, 'awardabc': 465, 'yorkadobe': 5374, 'typographyadobe': 5019, 'compositingcinema': 989, 'designadobe': 1307, 'awardsthe': 471, 'stewartadobe': 4619, 'usability': 5078, 'platformsadobe': 3715, 'lightroomemmy': 2821, 'awardsmaya': 470, 'newsds': 3332, 'yorkfinal': 5375, 'proedward': 3925, 'murrow': 3272, 'karena': 2690, 'taveras': 4770, 'lugocarolina': 2888, 'premail': 3785, 'indeedcomrkarenataveraslugofebaawork': 2458, 'directorparalel': 1554, 'juan': 2682, 'prjune': 3881, 'presentcollective': 3808, 'parametric': 3575, 'industrialdesign': 2491, 'cofounder': 903, 'craftsmanshipdesignercodeformspace': 1148, 'fieldsgraphic': 1944, 'craftsmanship': 1147, 'boardseducationbachelor': 586, 'puerto': 4024, 'rico': 4261, 'rio': 4263, 'piedras': 3690, 'prassociate': 3777, 'carolina': 745, 'prcentral': 3778, 'artsskillsadobe': 372, 'yearpresentation': 5338, 'yearspainting': 5367, 'kevin': 2701, 'kolberaleigh': 2720, 'indeedcomrkevinkolbedafefdfaeauthorized': 2459, 'directorfox': 1518, 'capitol': 731, 'broadcasting': 639, 'mentored': 3114, 'videographers': 5153, 'salespromotioncoordinators': 4307, 'alltv': 162, 'station': 4609, 'onair': 3443, 'mediapsa': 3090, 'tapedprogramming': 4762, 'excess': 1847, 'dollarsonair': 1613, 'producerwraltv': 3902, 'newsdepartment': 3331, 'placementeducationba': 3701, 'communicationlipscomb': 951, 'nashville': 3288, 'tnskillscontent': 4896, 'writing': 5312, 'yearsphotography': 5368, 'yearslinkshttpbitlykevinkolbeyoutubehttpskevinkolbecomhttpstwittercomkevinkolbedudehttpsvimeocomkevinkolbehttpswwwlinkedincominkkolbeadditional': 5347, 'informationboards': 2503, 'mapp': 2988, 'natas': 3289, 'governors': 2163, 'oak': 3398, 'sessions': 4410, 'advisory': 116, 'millbrook': 3161, 'digitalmedia': 1462, 'agape': 132, 'habitat': 2221, 'humanity': 2331, 'rescue': 4206, 'parent': 3578, 'olympicshonduras': 3441, 'trip': 4979, 'artstech': 373, 'kristin': 2722, 'dunndesign': 1641, 'strategychicago': 4647, 'indeedcomrkristindunnbcffedesign': 2460, 'known': 2719, 'integratesbusiness': 2577, 'dynamic': 1649, 'integrity': 2578, 'strategiccommunications': 4637, 'operationalproblems': 3474, 'pursue': 4031, 'inspires': 2552, 'theexpectedwilling': 4843, 'directordrake': 1509, 'des': 1302, 'moines': 3210, 'iaseptember': 2338, 'steered': 4614, 'reinforcing': 4147, 'printand': 3862, 'partnered': 3586, 'storiescommunicated': 4630, 'casemaking': 752, 'admission': 80, 'administered': 73, 'campuswide': 721, 'resourcessupervised': 4220, 'drakes': 1623, 'undergraduate': 5033, 'prospective': 3991, 'visitsand': 5170, 'fiscal': 1978, 'translated': 4966, 'survey': 4723, 'result': 4232, 'biannual': 549, 'alumnus': 172, 'increase': 2426, 'audienceengagement': 435, 'latter': 2755, 'campusconstituents': 720, 'continuous': 1062, 'planningcasemaking': 3706, 'solidify': 4521, 'ensuring': 1783, 'priority': 3878, 'alignment': 155, 'andefficiencies': 219, 'allocation': 159, 'refinement': 4135, 'drake': 1622, 'athletic': 415, 'strengthen': 4657, 'mark': 2995, 'graphically': 2176, 'make': 2929, 'easierto': 1656, 'alongside': 165, 'presidents': 3846, 'distill': 1596, 'acohesive': 36, 'case': 751, 'infrastructure': 2522, 'expansionstransformingthe': 1868, 'footprint': 2015, 'sustainability': 4727, 'universityprincipalnew': 5056, 'yardstick': 5327, 'counseled': 1128, 'andinvoiced': 237, 'selfowned': 4380, 'buildingmaterials': 668, 'brandelements': 619, 'presented': 3818, 'rationale': 4078, 'unified': 5038, 'morecohesive': 3229, 'recognizable': 4108, 'strengthened': 4658, 'perception': 3627, 'refined': 4134, 'hierarchy': 2273, 'binder': 558, 'nudo': 3377, 'abuilding': 8, 'panel': 3570, 'tomore': 4910, 'uic': 5025, 'nursing': 3380, 'publichealth': 4012, 'engagementadjunct': 1766, 'instructorthe': 2571, 'intermediate': 2596, 'thoughtprovoking': 4875, 'stimulateclass': 4622, 'critiqueadjunct': 1181, 'instructorst': 2570, 'xavier': 5319, 'introductory': 2622, 'classesdesign': 849, 'managerusg': 2971, 'informational': 2501, 'brandingmaterials': 625, 'segment': 4374, 'productsegment': 3924, 'managersto': 2969, 'photographersillustrators': 3665, 'usgs': 5094, 'toincrease': 4907, 'loyalty': 2887, 'builder': 665, 'environmentalgraphics': 1794, 'race': 4055, 'salesincentive': 4303, 'usg': 5093, 'ceilingscommunicating': 770, 'bilingual': 554, 'depotlowes': 1300, 'lumberyard': 2891, 'called': 703, 'galileo': 2104, 'clientdiscussion': 862, 'prompter': 3974, 'projectfreelancerchicago': 3954, 'anniversary': 277, 'moreclients': 3228, 'neuropathyand': 3325, 'council': 1126, 'boards': 585, 'northwesternhospital': 3367, 'auxiliary': 457, 'boardsenior': 587, 'designerzn': 1381, 'partners': 3587, 'concepted': 1000, 'brandstandards': 628, 'deloitte': 1278, 'touche': 4925, 'baker': 487, 'mckenzieadjunct': 3058, 'instructoruniversity': 2572, 'notre': 3374, 'dame': 1228, 'asked': 381, 'declined': 1259, 'fulltime': 2084, 'zn': 5384, 'partnerscarl': 3589, 'purington': 4029, 'rollins': 4280, 'freelanceryale': 2066, 'haven': 2245, 'ct': 1190, 'fundraising': 2091, 'studentinformation': 4667, 'yalemedicine': 5325, 'engagementproject': 1767, 'managerchicago': 2956, 'park': 3579, 'executivewesterbeck': 1857, 'advertisingameritech': 100, 'assistantameritech': 398, 'educationmfa': 1699, 'designyale': 1413, 'ctba': 1191, 'journalism': 2680, 'double': 1618, 'relationsdrake': 4152, 'ialinkshttpwwwktomsitsdunncom': 2337, 'lauren': 2762, 'milewskiexperienced': 3157, 'sensibilitybryn': 4390, 'mawr': 3049, 'indeedcomrlaurenmilewskicceadcdcfauthorized': 2461, 'directoremoney': 1513, 'advisor': 114, 'radnor': 4059, 'presentradnor': 3834, 'conceptforward': 1001, 'projectsagency': 3959, 'companywebsite': 968, 'enduser': 1758, 'touchpointsspecializing': 4926, 'designersmarketing': 1371, 'brainstorm': 611, 'processesvaried': 3892, 'andprintinghealthcare': 250, 'risk': 4264, 'vendorsservices': 5142, 'fintech': 1971, 'ed': 1669, 'tech': 4794, 'businessmanagement': 680, 'telecomm': 4808, 'previously': 3852, 'agencyprincipal': 137, 'creativezer': 1169, 'devon': 1450, 'pamay': 3569, 'designdesign': 1316, 'printprojects': 3874, 'designerscreative': 1369, 'prioritized': 3877, 'reviewed': 4251, 'left': 2788, 'agencymanagement': 136, 'clientfacing': 864, 'deliverablesdesign': 1269, 'brainstormed': 612, 'teamsidentity': 4790, 'kmonth': 2715, 'retainer': 4239, 'accountsretouching': 25, 'headline': 2248, 'processesdesignpackaging': 3891, 'webdevelopment': 5210, 'adwords': 118, 'adsense': 87, 'front': 2071, 'sr': 4583, 'retailart': 4237, 'charming': 804, 'shoppes': 4441, 'bensalem': 538, 'basics': 507, 'bug': 663, 'lane': 2743, 'bryant': 655, 'retouchingbensalem': 4244, 'webprint': 5217, 'productionsoftware': 3917, 'msoftoffice': 3256, 'balsamiq': 490, 'invision': 2626, 'agencyproject': 138, 'managementharris': 2947, 'baio': 486, 'designwebprint': 1410, 'educationthe': 1701, 'pennsylvania': 3621, 'universitymay': 5055, 'designthe': 1404, 'palinkshttpwwwlaureniscreativecom': 3566, 'mata': 3035, 'rweston': 4291, 'indeedcomrluismatarcdcwork': 2462, 'directortandem': 1573, 'caracas': 734, 'distrito': 1604, 'capitaltandem': 730, 'venezuela': 5144, 'title': 4890, 'directorimmediate': 1525, 'superior': 4703, 'jeanmarc': 2659, 'franois': 2059, 'ceocreative': 782, 'concepts': 1004, 'av': 458, 'kickoff': 2706, 'andartistic': 204, 'events': 1831, 'involvinginteractive': 2631, 'recordingsetc': 4117, 'editorsgraphic': 1687, 'designers': 1364, 'modelers': 3201, 'dvdswith': 1647, 'menussenior': 3119, 'editorediting': 1681, 'compositing': 988, 'authoringluis': 450, 'matajunior': 3036, 'editorcapture': 1679, 'categorization': 762, 'chroma': 826, 'keypreparation': 2704, 'dvdslanguages': 1646, 'spanish': 4543, 'englisheducationelementary': 1775, 'schoolcolegio': 4340, 'universitario': 5048, 'de': 1246, 'caracasskillsadobe': 735, 'dslr': 1637, 'shooting': 4436, 'yearslinkshttpwwwvimeocomwearetheclipadditional': 5366, 'informationspecific': 2519, 'premiereafter': 3788, 'encore': 1751, 'photoshopillustrator': 3677, 'recruit': 4120, 'homogeneous': 2304, 'performaceworkgroups': 3629, 'worker': 5289, 'sense': 4389, 'orientation': 3503, 'pressure': 3849, 'marc': 2990, 'steffensengraphic': 4615, 'designersalt': 1365, 'utemail': 5098, 'indeedcomrmarcsteffensenebfecwwwsteffensendesigncomi': 2463, 'salt': 4309, 'adecade': 61, 'afamily': 122, 'bright': 634, 'personalitybordering': 3644, 'quirky': 4052, 'ship': 4430, 'anyteam': 290, 'bolstering': 592, 'theirconfidence': 4848, 'traditionaldesign': 4947, 'eyetowards': 1898, 'emerging': 1735, 'lookingfor': 2878, 'expand': 1863, 'andstrengthen': 263, 'employerauthorized': 1744, 'directorbusinesspromotioncom': 1500, 'lehi': 2790, 'utapril': 5097, 'webuilt': 5226, 'aninc': 275, 'workeddirectly': 5286, 'webpresences': 5216, 'hundred': 2332, 'dentalindustry': 1287, 'printmaterials': 3873, 'uielements': 5026, 'andmobilecreative': 243, 'directorworld': 1580, 'net': 3319, 'servicesapril': 4404, 'frontenddevelopment': 2073, 'aterial': 414, 'adverti': 93, 'sing': 4471, 'pangea': 3571, 'clientsclickincome': 867, 'includedgraphic': 2414, 'designerclickincome': 1332, 'sandy': 4312, 'utnovember': 5104, 'templatesprint': 4816, 'clickincome': 859, 'theirclients': 4847, 'marcus': 2993, 'bicklercreative': 550, 'solaleyafort': 4518, 'lauderdale': 2757, 'indeedcomrmarcusbicklerfwork': 2464, 'directorsolaleya': 1565, 'presentlead': 3827, 'eventcoordinationprincipal': 1829, 'operationsmarcus': 3476, 'landscape': 2741, 'andinvestmentoperations': 236, 'bookkeeping': 596, 'designerartist': 1324, 'presidentmarcus': 3845, 'presentgallery': 3823, 'represented': 4196, 'relationsrepresentative': 4156, 'designercertified': 1330, 'educator': 1703, 'kbroward': 2692, 'schools': 4344, 'certified': 784, 'teacherbroward': 4778, 'browards': 650, 'teacher': 4777, 'yearart': 5330, 'literary': 2843, 'graphicdesign': 2177, 'supervisorfinalist': 4712, 'artisthci': 352, 'books': 599, 'given': 2141, 'independent': 2480, 'fulfilling': 2079, 'addressing': 60, 'productionrequirementseducationbachelor': 3915, 'artmaryland': 364, 'baltimore': 491, 'mdmay': 3067, 'aixenprovence': 148, 'frskillsexcel': 2075, 'lessthan': 2795, 'yearlinkshttpwwwmarcusbicklercomadditional': 5335, 'informationsoftware': 2518, 'proficiencyadobe': 3930, 'indesignmicrosoft': 2484, 'powerpointhtmlgallery': 3771, 'representationcraigheadgreen': 4187, 'usahg': 5082, 'orlando': 3507, 'usanew': 5083, 'river': 4268, 'usasoho': 5084, 'myriad': 3279, 'ga': 2096, 'london': 2872, 'england': 1772, 'melanie': 3102, 'mikelsanford': 3156, 'indeedcomrmelaniemikelfcfportfolio': 2465, 'requestwilling': 4202, 'directorxactoexpressions': 1581, 'sanford': 4313, 'flfebruary': 1988, 'presentsuccessfully': 3839, 'leadingedge': 2779, 'designconcepts': 1315, 'advertisementsspecial': 96, 'demo': 1280, 'instructionaleducationalmultimedia': 2567, 'designinformation': 1387, 'corporateidentity': 1106, 'artisthouston': 353, 'houston': 2317, 'txjune': 5010, 'collaborates': 908, 'administration': 74, 'representativesto': 4194, 'expertly': 1885, 'translate': 4965, 'incorporate': 2424, 'facilitate': 1904, 'marketanalysis': 2997, 'identitygraphic': 2354, 'designerfort': 1344, 'txseptember': 5014, 'whilekeeping': 5244, 'apprised': 314, 'status': 4611, 'acquiring': 39, 'whenrequiredmarketing': 5241, 'directorepi': 1516, 'plumbing': 3728, 'keller': 2696, 'understands': 5036, 'strictly': 4660, 'adheres': 64, 'branddesign': 617, 'font': 2012, 'thesuccessful': 4861, 'combination': 931, 'audiovideo': 438, 'toolseducationbachelors': 4917, 'designsavannah': 1401, 'gafebruary': 2099, 'txnovember': 5012, 'prepress': 3798, 'kunhenncreativefort': 2725, 'indeedcomrmichaelkunhennfabffffeabwwwmkbrandingcomwork': 2466, 'directormkbrandingcomoctober': 1542, 'presentwas': 3841, 'founded': 2051, 'choice': 821, 'andestablished': 222, 'looking': 2877, 'theoct': 4858, 'advertisingcreative': 101, 'executionsenior': 1853, 'directorweb': 1579, 'utilization': 5100, 'developmentpromotional': 1444, 'budgetaryproject': 657, 'mngr': 3193, 'adherence': 63, 'andinteractive': 235, 'medianew': 3088, 'respect': 4221, 'developmentbenchmarkingft': 1441, 'postexecution': 3759, 'theme': 4854, 'toachieve': 4897, 'betterfrankfurt': 545, 'understanding': 5035, 'costbenefitrelationship': 1122, 'maximize': 3052, 'satisfaction': 4317, 'grew': 2196, 'comparison': 969, 'quarter': 4044, 'merchandisinginstorecustomer': 3123, 'together': 4905, 'merchant': 3125, 'vendorssenior': 5141, 'directormkbrandingcomjune': 1541, 'strategicconcept': 4638, 'ment': 3112, 'photoshooting': 3673, 'pre': 3779, 'andimplementation': 232, 'merchandisingstores': 3124, 'configuration': 1016, 'sizesinstore': 4479, 'experienceboca': 1875, 'raton': 4079, 'elementsimprove': 1724, 'creativecollaboration': 1161, 'optimizeconsistency': 3485, 'vehiclesexperience': 5138, 'continued': 1059, 'strategicpro': 4639, 'teamssenior': 4791, 'artdesign': 345, 'directormiami': 1538, 'tactical': 4746, 'road': 4270, 'third': 4868, 'forsenior': 2038, 'directorlaunch': 1533, 'marketplace': 3020, 'teamsfor': 4789, 'vitas': 5178, 'hospice': 2310, 'advantagecare': 91, 'clientsmiami': 869, 'photoshoots': 3674, 'promotionalstrategiesbudgetary': 3973, 'streamlined': 4654, 'deeper': 1262, 'stronger': 4663, 'expandedrelation': 1866, 'recreated': 4118, 'turkel': 4994, 'greater': 2190, 'clarity': 847, 'ofservices': 3431, 'brought': 649, 'marketingfirm': 3005, 'showed': 4448, 'establishedartdesign': 1808, 'directorft': 1519, 'lauderdalejanuary': 2758, 'initiated': 2529, 'audit': 440, 'evaluating': 1823, 'webmaterials': 5214, 'corporateidentitydevelopment': 1107, 'guidelinesdesign': 2216, 'directorjuly': 1531, 'creatively': 1164, 'rebranding': 4098, 'multinational': 3266, 'ofnew': 3430, 'cityspecialized': 842, 'automotive': 456, 'toclientsduring': 4900, 'sf': 4421, 'rank': 4071, 'th': 4830, 'germanys': 2133, 'ranking': 4072, 'scholz': 4338, 'friendsart': 2070, 'directorberlin': 1495, 'dejuly': 1266, 'educationmasterdegree': 1698, 'advertisinguniversity': 107, 'berlinlinkshttpwwwmkbrandingcomadditional': 540, 'informationskills': 2515, 'fluent': 1999, 'designtools': 1405, 'illustratoracrobatquarkxpress': 2374, 'typo': 5017, 'managementducatoneducatiion': 2945, 'languages': 2745, 'layart': 2765, 'solvernorth': 4530, 'chesterfield': 814, 'indeedcomrmichaellayffaecfdi': 2467, 'directionto': 1480, 'publishingbranding': 4023, 'considerable': 1023, 'appreciation': 313, 'anessential': 268, 'having': 2246, 'held': 2258, 'inboth': 2405, 'forprofit': 2036, 'notforprofit': 3371, 'sector': 4364, 'costeffectiveness': 1123, 'melded': 3103, 'seemingly': 4372, 'contradictory': 1074, 'imperative': 2386, 'careeri': 742, 'practice': 3775, 'proficiency': 3929, 'inthe': 2616, 'creativeopportunities': 1165, 'challenge': 790, 'enjoy': 1780, 'involvement': 2629, 'ideasmy': 2345, 'viewed': 5159, 'httpmlaydesignmyportfoliocomwilling': 2327, 'raleighdurham': 4064, 'ncauthorized': 3301, 'directoradvertising': 1486, 'midlothian': 3147, 'vajuly': 5112, 'presentoriginally': 3832, 'theadvertising': 4836, 'midfebruary': 3144, 'productionof': 3912, 'marchapril': 2992, 'four': 2052, 'ends': 1757, 'livingand': 2853, 'hanover': 2233, 'consists': 1029, 'andtwo': 264, 'conducted': 1012, 'thecompanys': 4841, 'folio': 2009, 'body': 589, 'oflogotypes': 3429, 'reviewing': 4252, 'andapproving': 203, 'approximately': 322, 'placed': 3699, 'designclient': 1314, 'couponbased': 1134, 'instructionsowner': 2568, 'directordesignermichael': 1508, 'manteo': 2980, 'ncseptember': 3309, 'logosbranding': 2871, 'posterssignage': 3758, 'editorialcontent': 1683, 'rfqs': 4257, 'proofapprovals': 3976, 'oncall': 3445, 'sparrow': 4545, 'writeroneboat': 5310, 'ncfebruary': 3305, 'expandeddiversified': 1865, 'readership': 4088, 'outerbanksthisweekcom': 3525, 'throughcreation': 4878, 'consistently': 1027, 'appealing': 298, 'eyecatching': 1897, 'generated': 2128, 'reader': 4086, 'andadvertiser': 200, 'competitive': 973, 'tourismdriven': 4929, 'articleadvertorial': 349, 'magazinelayouts': 2913, 'showcase': 4446, 'topic': 4920, 'createdadvertising': 1154, 'ofeditorial': 3414, 'seasonal': 4359, 'destination': 1417, 'guidetourism': 2218, 'tabloid': 4743, 'focusing': 2007, 'outer': 3524, 'banks': 495, 'otherinfographics': 3516, 'clientsresponsible': 872, 'generating': 2129, 'clean': 853, 'pressquality': 3848, 'pdf': 3614, 'transmitting': 4970, 'ftp': 2077, 'eat': 1659, 'shop': 4438, 'play': 3719, 'mockup': 3199, 'coversincluding': 1141, 'exterior': 1893, 'tosubheads': 4923, 'standardsset': 4598, 'pagecolumn': 3555, 'measurement': 3071, 'visitor': 5169, 'providedtraining': 3999, 'intern': 2597, 'initiation': 2530, 'codingsubcontractors': 901, 'oneboats': 3449, 'bannersheaders': 497, 'authored': 448, 'article': 348, 'advertorial': 110, 'salesmaterials': 4304, 'descriptive': 1304, 'writeups': 5311, 'popular': 3740, 'blog': 576, 'enewsletter': 1761, 'formatted': 2028, 'blogcontent': 577, 'expression': 1889, 'engine': 1769, 'selected': 4377, 'link': 2829, 'toprovide': 4921, 'scenic': 4330, 'magazineand': 2907, 'spread': 4576, 'andsales': 259, 'retouch': 4242, 'optimize': 3484, 'internspublications': 2610, 'managerart': 2954, 'directoramerican': 1489, 'triangle': 4978, 'revitalized': 4255, 'dramatically': 1624, 'stable': 4584, 'revenuegenerating': 4249, 'healtheducation': 2252, 'family': 1914, 'distinct': 1598, 'partnersand': 3588, 'carried': 748, 'determining': 1425, 'costeffectiveproductionprinting': 1124, 'decrease': 1260, 'unit': 5044, 'negotiated': 3316, 'quantitiespricesschedules': 4039, 'determined': 1424, 'preparedrfqs': 3796, 'illustratorsfreelance': 2376, 'designerillustratorselfemployed': 1348, 'charlottesville': 803, 'vamay': 5119, 'listgraphic': 2840, 'designerwake': 1378, 'systemwide': 4740, 'superintendent': 4702, 'schoolprograms': 4343, 'metropolitan': 3135, 'cardsbrochures': 738, 'proofsfilm': 3978, 'bluelinescreative': 580, 'directorinsiders': 1527, 'guides': 2217, 'ncnovember': 3307, 'oversight': 3540, 'publisher': 4016, 'conceived': 995, 'fourcolor': 2053, 'enhancing': 1779, 'readability': 4085, 'count': 1130, 'timeand': 4882, 'nationally': 3291, 'salesand': 4301, 'checklist': 810, 'clarifyproject': 845, 'projectsmanaging': 3964, 'editordesignerru': 1680, 'radford': 4056, 'vadecember': 5110, 'currents': 1208, 'ru': 4286, 'biweekly': 565, 'clarifyingits': 844, 'appearance': 300, 'pagesspreads': 3560, 'andapproved': 202, 'black': 566, 'white': 5246, 'spot': 4574, 'fullpage': 2082, 'awardwinninguniversity': 473, 'identified': 2349, 'wroteedited': 5316, 'facultystaff': 1909, 'newsbureau': 3330, 'projectseducationba': 3963, 'studiesvirginia': 4673, 'blacksburg': 571, 'vavirginia': 5133, 'bureauskillsextensive': 674, 'component': 987, 'indesignphotoshop': 2485, 'currently': 1206, 'cloud': 884, 'coreldraw': 1102, 'fotosketchermicrosoft': 2049, 'wordpad': 5276, 'oneboat': 3448, 'systemsscanning': 4739, 'optical': 3481, 'character': 799, 'recognition': 4106, 'avast': 461, 'antivirussecurity': 287, 'gmail': 2151, 'skype': 4496, 'browser': 652, 'chrome': 827, 'mozillafirefox': 3249, 'explorer': 1886, 'yearslinkshttpmlaydesignmyportfoliocomawardshealth': 5356, 'bronzeawarded': 647, 'publicationsmanagerart': 4011, 'ncpatient': 3308, 'meritawarded': 3127, 'ncaward': 3302, 'categoryawarded': 764, 'wakecounty': 5189, 'ncbest': 3303, 'newsletterawarded': 3335, 'vacation': 5109, 'pirates': 3692, 'cove': 1137, 'residentialboating': 4215, 'most': 3238, 'tabloidnewspaperawarded': 4744, 'apex': 293, 'vabest': 5108, 'websiteawarded': 5219, 'publishers': 4020, 'maritime': 2994, 'kids': 2707, 'quest': 4046, 'showaltercreative': 4444, 'themasanta': 4852, 'clarita': 846, 'indeedcomrmichaelshowalterdccfefework': 2468, 'directorthema': 1576, 'presentkey': 3826, 'critical': 1179, 'andadvertising': 201, 'ultimately': 5029, 'finalproduct': 1961, 'cohesive': 904, 'thema': 4850, 'advertisingdirect': 103, 'indirect': 2487, 'competing': 971, 'furnishing': 2092, 'productlinesproject': 3919, 'managerios': 2962, 'an': 185, 'energetic': 1759, 'forhospitality': 2022, 'enhance': 1777, 'did': 1454, 'procurement': 3896, 'projectsproject': 3965, 'managersteventhomas': 2968, 'antiques': 285, 'interiors': 2595, 'ofcritical': 3413, 'corporatelogo': 1109, 'handled': 2229, 'cosmetic': 1118, 'path': 3600, 'projectscertified': 3962, 'inspectorgremer': 2550, 'machine': 2900, 'inspector': 2549, 'qualify': 4035, 'compliance': 984, 'manufacturedproducts': 2982, 'iso': 2635, 'contributed': 1075, 'accumulating': 26, 'identifying': 2351, 'gradesof': 2169, 'metal': 3132, 'plastic': 3712, 'rubber': 4287, 'precision': 3782, 'measuring': 3072, 'instrument': 2573, 'toleration': 4908, 'workeducationmechanical': 5287, 'engineeringcalifornia': 1771, 'universityadditional': 5050, 'proficiencywindows': 3932, 'macintoshphotoshop': 2902, 'publisherin': 4018, 'michelle': 3140, 'collinssan': 925, 'antonio': 288, 'txemail': 5008, 'indeedcomrmichellecollinsdfadwork': 2469, 'txproduce': 5013, 'monitoring': 3217, 'witheditors': 5265, 'reporter': 4185, 'illustrate': 2367, 'convey': 1083, 'articlesnews': 350, 'txaugust': 5007, 'createdvisual': 1156, 'gannettowned': 2115, 'deadlinedriven': 1249, 'helpedlaunch': 2263, 'multipublication': 3269, 'setupgraphic': 4418, 'designergannett': 1346, 'tnoctober': 4894, 'setupeducationbfa': 4417, 'designoklahoma': 1395, 'stillwater': 4621, 'ok': 3437, 'cci': 768, 'paintingillustration': 3562, 'silkscreen': 4465, 'yearslinkshttpmichellecollinsartcom': 5355, 'nashona': 3287, 'haldanecreative': 2223, 'directoridaho': 1523, 'falls': 1913, 'indeedcomrnashonahaldanefbawilling': 2470, 'directormotorfist': 1546, 'idaho': 2342, 'idoctober': 2357, 'presentpropose': 3833, 'translation': 4968, 'plansmanage': 3711, 'publicationslead': 4010, 'designmarketing': 1391, 'usescollaborate': 5092, 'repeatexpeditedimplementation': 4181, 'casual': 758, 'identitywhile': 2355, 'diversifying': 1606, 'designvideo': 1408, 'freelancer': 2064, 'liaisewhen': 2802, 'discus': 1588, 'departmentheads': 1293, 'adhere': 62, 'keepinguptodate': 2695, 'designproduction': 1397, 'techniquescatalog': 4802, 'supervisormotorcycle': 4714, 'superstore': 4704, 'motorcycle': 3242, 'medford': 3076, 'ordecember': 3490, 'ensuringtimely': 1784, 'effectivecommunication': 1707, 'merchandising': 3121, 'advertisershandled': 98, 'belowsr': 534, 'designerprojects': 1359, 'ranged': 4069, 'inbook': 2404, 'section': 4363, 'stationary': 4610, 'blast': 573, 'aleading': 153, 'magazineart': 2909, 'managermatrix': 2964, 'corvallis': 1117, 'orfebruary': 3495, 'backendhand': 482, 'clientinteraction': 865, 'workincluded': 5292, 'theirsister': 4849, 'siteas': 4475, 'themonthly': 4855, 'projecttask': 3966, 'assignment': 395, 'past': 3599, 'jobfiles': 2665, 'completedand': 979, 'companyeducationmaster': 966, 'designacademy': 1306, 'cabachelor': 692, 'designoregon': 1396, 'orskillsphotoshop': 3509, 'creativesuite': 1167, 'yearsleadership': 5345, 'projectmanagement': 3956, 'yearslinkshttpwwwhaldanedesigncomnashonahttpwwwlinkedincominnashonahaldaneawardsamerican': 5363, 'usacatalog': 5079, 'superstoreamerican': 4705, 'patricia': 3602, 'mcnairassociate': 3059, 'directorsr': 1566, 'directortampa': 1572, 'indeedcomrpatriciamcnairdebceaefaexperienced': 2471, 'love': 2886, 'psychological': 4004, 'profiling': 3936, 'targetswilling': 4766, 'directorcorporate': 1504, 'presentefficiently': 3820, 'ongoingmarketing': 3456, 'recruiterassess': 4121, 'devise': 1449, 'seniormanagement': 4388, 'forge': 2021, 'sustain': 4726, 'highperformance': 2281, 'anddesign': 215, 'ink': 2533, 'essential': 1805, 'allproduction': 161, 'manageoperational': 2951, 'administrative': 76, 'functionsensure': 2088, 'standardsselected': 4597, 'achievements': 35, 'meetingstrict': 3100, 'turnaround': 4996, 'thirdparty': 4869, 'graphicdesigners': 2179, 'developersassociate': 1435, 'directordavis': 1506, 'elen': 1725, 'userfacing': 5089, 'wellknownclients': 5233, 'emphasized': 1739, 'cuttingedgegraphicsselected': 1220, 'multiphase': 3267, 'involving': 2630, 'budgetsof': 662, 'monthlyretail': 3226, 'cycleconcept': 1222, 'offline': 3424, 'onlineclientsteamviewer': 3459, 'toyota': 4933, 'dealers': 1251, 'californiasan': 701, 'mcdonalds': 3055, 'knotts': 2717, 'berry': 542, 'farm': 1916, 'california': 700, 'eggcommission': 1720, 'walmarteducationbachelor': 5190, 'pasadena': 3594, 'caskillsacrobat': 755, 'indesignless': 2483, 'yearlinkshttpswwwbehancenetpmacadverteadditional': 5334, 'informationtechnical': 2520, 'proficiencyenvironmentsmac': 3931, 'ostoolsadobe': 3513, 'imovie': 2385, 'acrobatpowerpoint': 42, 'philip': 3653, 'dirlamcreative': 1584, 'directordearing': 1507, 'indeedcomrphilipdirlamfbdcacabdwork': 2472, 'directorocala': 1550, 'magazineapril': 2908, 'solely': 4519, 'laying': 2766, 'publicationhusband': 4008, 'father': 1920, 'threegraphic': 4877, 'readersdesigner': 4087, 'experienceresponsible': 1879, 'concepting': 1002, 'organizing': 3502, 'advertorialskilled': 111, 'clientsrelations': 871, 'executingconceptsgraphic': 1851, 'designerocala': 1355, 'photoshopeducationassociates': 3676, 'advertisingrasmussen': 106, 'collegeaugust': 917, 'skillsreal': 4494, 'yearadditional': 5329, 'armstrong': 338, 'homes': 2303, 'photographerand': 3663, 'photographing': 3667, 'eye': 1896, 'photographypotential': 3672, 'andscheduling': 260, 'ryan': 4292, 'flynncreative': 2003, 'elevate': 1726, 'unitedemail': 5046, 'indeedcomrryanflynnfdcebauthorized': 2473, 'directorelevate': 1511, 'united': 5045, 'tnjune': 4892, 'presentnashville': 3831, 'tn': 4891, 'developersbased': 1436, 'ryanmarieflynngmailcomdemographic': 4293, 'researchwwwryanflynncreativecom': 4211, 'shopify': 4439, 'andwordpress': 266, 'delmas': 1277, 'avegathering': 463, 'graphicsnashville': 2188, 'landing': 2739, 'pagesfreelancesocial': 3558, 'mediadesignnovember': 3081, 'presenteducationbachelor': 3819, 'trafficuniversity': 4949, 'alabama': 151, 'marketingnew': 3013, 'collegeskillsadvertising': 922, 'yearillustration': 5332, 'yearlinkshttpwwwryanflynncreativecomadditional': 5336, 'prime': 3858, 'implementationphotography': 2389, 'construct': 1034, 'upkeep': 5066, 'websitesgraphic': 5221, 'creationpostediting': 1159, 'hitch': 2294, 'managerjanuary': 2963, 'presentsoftware': 3838, 'tnphotoshop': 4895, 'postersindesign': 3756, 'advertisingword': 109, 'videossocial': 5157, 'videoshootesuite': 5156, 'edgar': 1670, 'tofacebook': 4904, 'guarantee': 2207, 'interactionyoutube': 2581, 'periscopead': 3636, 'criteo': 1178, 'centennial': 773, 'designerfebruary': 1343, 'presentmarketing': 3829, 'tnmailchimp': 4893, 'asemma': 379, 'klaviyo': 2713, 'ontraport': 3467, 'presentationsfamiliar': 3806, 'masssquarespace': 3033, 'consumptionshopify': 1048, 'marketingmaterials': 3010, 'sara': 4315, 'chamberlaincreative': 793, 'aspects': 383, 'marketingmanagementaustin': 3009, 'indeedcomrsarachamberlainbebbaacabfauthorized': 2474, 'directormontbriar': 1544, 'austin': 445, 'andsocial': 261, 'aid': 143, 'cmo': 887, 'picture': 3685, 'montbriar': 3219, 'cto': 1192, 'backend': 481, 'asacting': 378, 'act': 44, 'liason': 2804, 'greystar': 2197, 'teamin': 4785, 'developerdesigner': 1434, 'montbriars': 3220, 'mlm': 3188, 'rebrands': 4099, 'brandsas': 627, 'acquired': 38, 'webtoprint': 5225, 'rep': 4178, 'keeping': 2694, 'inlinewith': 2536, 'outlined': 3527, 'aided': 144, 'variousbrands': 5127, 'cards': 737, 'booklets': 598, 'brochures': 641, 'sheets': 4428, 'mailletterheads': 2919, 'materials': 3040, 'roireporting': 4275, 'planprincipalorigin': 3707, 'innovation': 2538, 'widerange': 5250, 'flyers': 2001, 'letterheads': 2797, 'note': 3369, 'cardscreate': 739, 'related': 4149, 'drupal': 1636, 'joomla': 2675, 'campaignsassist': 713, 'gaining': 2101, 'follower': 2010, 'profilesassist': 3935, 'search': 4358, 'correcting': 1115, 'error': 1803, 'warning': 5192, 'claiming': 843, 'mediamarketing': 3086, 'directorrw': 1558, 'conklin': 1018, 'steel': 4613, 'cincinnati': 830, 'oh': 3434, 'history': 2292, 'entirely': 1789, 'performing': 3633, 'keyword': 2705, 'competitor': 974, 'researchwrite': 4210, 'traffic': 4948, 'stay': 4612, 'abreast': 6, 'scene': 4329, 'toolsavailable': 4915, 'photographed': 3661, 'learned': 2782, 'thefacilitation': 4844, 'basadur': 500, 'creativitymarketing': 1170, 'representativephotographersibcy': 4192, 'cline': 874, 'realtors': 4095, 'notecards': 3370, 'flyersfor': 2002, 'announcing': 279, 'birthdaysanniversaries': 563, 'birthdates': 562, 'sibcy': 4452, 'clines': 875, 'listed': 2838, 'homeowner': 2301, 'requestsgraphic': 4201, 'designertrader': 1376, 'detroit': 1426, 'thisincluded': 4871, 'kitsnote': 2712, 'departmenteducationcertificate': 1292, 'mediacincinnati': 3080, 'statebachelor': 4605, 'artrochester': 367, 'linkshttplinkedincominsarajchamberlainhttpsarajchamberlaincomadditional': 2835, 'imageready': 2383, 'pagemaker': 3556, 'macromedia': 2904, 'fireworks': 1973, 'macromediafreehand': 2905, 'access': 12, 'publishermicrosoft': 4019, 'quarkxpressproject': 4043, 'keen': 2693, 'workingwith': 5294, 'personality': 3642, 'withoutside': 5269, 'executivestestimonialssara': 1856, 'she': 4426, 'appreciateand': 312, 'miss': 3183, 'talentmichelle': 4754, 'sloan': 4500, 'realtor': 4094, 'realtorssara': 4097, 'helpful': 2264, 'departmentat': 1291, 'anyone': 289, 'get': 2134, 'sincere': 4470, 'andpersonalized': 248, 'advicemark': 112, 'taylor': 4773, 'terrific': 4824, 'her': 2267, 'excellentpaul': 1844, 'vpsales': 5185, 'diligent': 1467, 'worksvery': 5300, 'achieve': 32, 'herbill': 2268, 'garland': 2119, 'realtorsalways': 4096, 'quick': 4048, 'attention': 429, 'would': 5305, 'recommendher': 4111, 'highlymary': 2280, 'stone': 4624, 'positive': 3750, 'cando': 723, 'attitude': 430, 'stress': 4659, 'might': 3150, 'tossed': 4922, 'wayprofessionally': 5204, 'treated': 4974, 'coworkers': 1142, 'equally': 1797, 'admirably': 79, 'committed': 940, 'meetingdeadlines': 3099, 'rivaled': 4267, 'trader': 4943, 'yearsthe': 5370, 'saw': 4324, 'often': 3433, 'pagesjennifer': 3559, 'stephanie': 4616, 'kempboise': 2697, 'indeedcomrstephaniekempbaedbeddmy': 2475, 'leigh': 2791, 'coloring': 929, 'fourth': 2054, 'grade': 2168, 'spelling': 4567, 'beebranding': 527, 'jam': 2651, 'dont': 1616, 'coffee': 902, 'seriously': 4396, 'andi': 230, 'thoughtful': 4874, 'untangle': 5061, 'withexperience': 5266, 'bachelors': 479, 'english': 1773, 'ofcolorado': 3412, 'privilege': 3880, 'honing': 2305, 'localbusinesses': 2864, 'corporationswilling': 1113, 'boise': 591, 'id': 2341, 'seattle': 4361, 'waauthorized': 5188, 'directorsleigh': 1564, 'idnovember': 2356, 'presentcollaborate': 3807, 'solve': 4528, 'uniqueclean': 5043, 'businessesthat': 678, 'utilize': 5101, 'squarespace': 4582, 'oneonone': 3453, 'pas': 3593, 'userfriendly': 5090, 'ongoingtraining': 3457, 'host': 2312, 'urls': 5075, 'orwordswwwbysleighcommarketing': 3510, 'managerelevate': 2959, 'idapril': 2343, 'intimately': 2618, 'author': 446, 'marketingteam': 3018, 'salesnumbers': 4305, 'mined': 3171, 'influencers': 2497, 'connected': 1019, 'eachbook': 1650, 'speaking': 4548, 'eventspitched': 1835, 'filtered': 1958, 'movednew': 3246, 'utilized': 5102, 'basecamp': 502, 'salesforce': 4302, 'basisgeneral': 509, 'directorbetsys': 1497, 'hot': 2313, 'yoga': 5372, 'louisville': 2884, 'kymarch': 2732, 'fitness': 1979, 'movingout': 3248, 'transitioning': 4964, 'studiosrebranding': 4676, 'campaignsvia': 717, 'constant': 1032, 'anenvironment': 267, 'prided': 3856, 'studied': 4670, 'mindbodysoftwarewwwbetsysstudioscomassistant': 3167, 'lululemon': 2890, 'athleticalululemon': 417, 'athletica': 416, 'facilitated': 1905, 'grandopening': 2173, 'multimillion': 3265, 'significantly': 4462, 'faceboook': 1902, 'adheringto': 66, 'citydeveloping': 841, 'integral': 2574, 'forsaid': 2037, 'ever': 1838, 'outdoor': 3523, 'namastay': 3281, 'taleo': 4755, 'tomanage': 4909, 'processenglish': 3890, 'girls': 2139, 'varsity': 5130, 'basketball': 510, 'coachjeffersontown': 893, 'obtainkentucky': 3403, 'readiness': 4089, 'benchmark': 536, 'standardsbased': 4595, 'programassistant': 3941, 'directorassumption': 1491, 'sport': 4571, 'athletics': 418, 'homepageoversaw': 2302, 'paperwork': 3574, 'localmagazines': 2865, 'specifically': 4561, 'regard': 4138, 'gameday': 2109, 'upsales': 5072, 'associatefleet': 405, 'feet': 1933, 'kyjuly': 2731, 'turn': 4995, 'failing': 1910, 'powerhouse': 3768, 'earneddaily': 1652, 'honor': 2306, 'salesperson': 4306, 'triple': 4980, 'crown': 1186, 'derby': 1301, 'minimarathontraining': 3173, 'blastsenglish': 574, 'coachcolumbia': 890, 'vancouver': 5120, 'waaugust': 5187, 'theinternational': 4846, 'baccalaureate': 477, 'unify': 5040, 'curriculumand': 1211, 'common': 943, 'assessment': 388, 'took': 4913, 'summer': 4699, 'workoutgroup': 5296, 'seasonbasketball': 4360, 'coachlanguage': 894, 'jv': 2687, 'falcon': 1911, 'coaugust': 897, 'saturdays': 4318, 'receive': 4101, 'teaching': 4780, 'licenseon': 2808, 'coached': 891, 'programeducationmasters': 3942, 'secondary': 4362, 'teachinggrand': 4781, 'canyon': 727, 'masters': 3034, 'leadershipgrand': 2776, 'englishuniversity': 1776, 'colorado': 928, 'yearslinkshttpbysleighcomhttpwwwlinkedincominstephaniekemp': 5348, 'valderramacreative': 5113, 'indeedcomrstephanievalderramaeecwork': 2476, 'directorlimbitless': 1534, 'solutionsaugust': 4526, 'campaignsdigital': 715, 'eventsdirected': 1834, 'strategizing': 4645, 'gather': 2122, 'educationuniversity': 1702, 'floridaseptember': 1996, 'raised': 4061, 'crowd': 1185, 'bionic': 561, 'limb': 2823, 'childrennationally': 819, 'globally': 2149, 'bfa': 548, 'designillustratordigital': 1386, 'marketingjune': 3008, 'mondelez': 3214, 'miracle': 3178, 'whip': 5245, 'oreo': 3494, 'ritz': 4266, 'crackers': 1144, 'brandingafter': 622, 'effectswon': 1714, 'peoples': 3623, 'internship': 2607, 'americas': 181, 'photoshopmaip': 3678, 'internkeynote': 2605, 'momentum': 3213, 'worldwidelimbitless': 5303, 'solutions': 4525, 'representativewhite': 4195, 'attendee': 428, 'studies': 4671, 'limbitless': 2824, 'representativefellowmaip': 4190, 'multicultural': 3260, 'programhead': 3943, 'designerdigital': 1338, 'experiential': 1881, 'nonprofit': 3362, 'diems': 1457, 'against': 131, 'poverty': 3766, 'prophoto': 3987, 'retouchinghead': 4245, 'ucf': 5022, 'aug': 443, 'aiga': 145, 'orlandos': 3508, 'mentorship': 3117, 'educationfreelance': 1697, 'animatoramerican': 272, 'artsfebruary': 371, 'clinton': 876, 'intiative': 2617, 'universitylinkshttpsimplystephco': 5053, 'tammy': 4756, 'morseexeter': 3235, 'nhemail': 3346, 'indeedcomrtammymorseedbfadcbauthorized': 2477, 'directormorse': 1545, 'exeter': 1859, 'nh': 3344, 'strategistbroadcast': 4644, 'bcupdated': 519, 'brandguidelines': 620, 'centergenerating': 776, 'socialmedia': 4510, 'interaction': 2580, 'previous': 3851, 'massachusettsbased': 3032, 'churchills': 829, 'simon': 4467, 'diagnostics': 1451, 'nevins': 3326, 'benefitaudits': 537, 'cba': 766, 'littlefield': 2848, 'tennis': 4819, 'seacoast': 4357, 'power': 3767, 'tracey': 4934, 'miller': 3162, 'forums': 2045, 'dianakirkpatrick': 1452, 'artsart': 369, 'designercreative': 1336, 'coop': 1085, 'nhfebruary': 3347, 'fullyintegrated': 2086, 'heatingenergy': 2254, 'sectorsclients': 4365, 'pepco': 3624, 'optima': 3482, 'trust': 4990, 'merrimack': 3128, 'savings': 4322, 'millriver': 3164, 'wealth': 5206, 'managementclaremont': 2940, 'bridgescreative': 632, 'executivesean': 1855, 'portsmouth': 3747, 'stas': 4603, 'varied': 5123, 'createdmanaged': 1155, 'analyzed': 197, 'engaged': 1764, 'thought': 4873, 'oncamera': 3446, 'auditioned': 442, 'culled': 1194, 'challenged': 791, 'self': 4379, 'coordinator': 1091, 'ontime': 3465, 'efficientand': 1717, 'digitalweb': 1465, 'tvclients': 5000, 'bigelow': 553, 'tea': 4775, 'dan': 1229, 'brown': 651, 'blythe': 582, 'androscoggin': 257, 'wentworthdouglass': 5236, 'collaborations': 910, 'massachusetts': 3031, 'woodsville': 5274, 'guaranty': 2208, 'savingsbank': 4323, 'members': 3106, 'sugar': 4693, 'hill': 2285, 'episcopal': 1796, 'deadrivercompanycreative': 1250, 'designereisenberg': 1340, 'vital': 5177, 'ryze': 4294, 'manchester': 2973, 'strategist': 4643, 'hampshire': 2226, 'liquor': 2836, 'commission': 937, 'campaignthat': 718, 'profitsan': 3939, 'yearexceeding': 5331, 'translating': 4967, 'billion': 556, 'nexteight': 3342, 'taxpayersclients': 4772, 'dartmouth': 1233, 'hitchcock': 2295, 'chad': 787, 'catholic': 765, 'medicalcenter': 3094, 'elliot': 1731, 'bellwether': 532, 'newhampshire': 3328, 'lawcraig': 2763, 'deachman': 1247, 'amann': 175, 'pllc': 3727, 'blackinvestment': 569, 'wells': 5234, 'fargo': 1915, 'yankee': 5326, 'equipmentart': 1800, 'east': 1658, 'longmeadow': 2874, 'maapril': 2897, 'systemsphysicianowned': 4738, 'healthcare': 2251, 'hightech': 2284, 'healthrelated': 2253, 'delivered': 1271, 'thatraised': 4833, 'ofand': 3411, 'referral': 4132, 'tonationally': 4911, 'opportunitiesclients': 3479, 'mercy': 3126, 'weldon': 5230, 'rehabilitation': 4145, 'providence': 4000, 'behavioral': 531, 'riverbendmedical': 4269, 'hollingsworth': 2297, 'vose': 5182, 'castion': 757, 'marox': 3027, 'litron': 2846, 'curtis': 1212, 'universal': 5047, 'jointsr': 2670, 'designjanlynn': 1389, 'indian': 2486, 'orchard': 3487, 'majanuary': 2927, 'realestate': 4092, 'janlynn': 2654, 'skus': 4495, 'michaels': 3139, 'hobby': 2296, 'lobbywalmart': 2862, 'joann': 2663, 'salessupport': 4308, 'multilanguage': 3263, 'licensesthat': 2809, 'disney': 1591, 'sesame': 4407, 'cherished': 813, 'teddies': 4807, 'precious': 3780, 'momentsdesigner': 3212, 'editorpaulson': 1684, 'maoctober': 2986, 'localretailers': 2866, 'maximized': 3053, 'rather': 4077, 'renting': 4176, 'expensive': 1872, 'analog': 186, 'inline': 2535, 'balise': 489, 'motor': 3241, 'mannys': 2977, 'tv': 4999, 'appliances': 302, 'ace': 29, 'kavanaugh': 2691, 'yale': 5324, 'genton': 2131, 'mens': 3111, 'clothingeducationmfa': 883, 'writingsouthern': 5313, 'skillscreative': 4489, 'mediaintegrated': 3084, 'creaative': 1150, 'yearslinkshttptammymorsecomhttpswwwlinkedincominmorsecreativeawardsseveral': 5357, 'kudosdavey': 2724, 'telly': 4814, 'hermes': 2270, 'lamp': 2737, 'lighters': 2817, 'timothy': 4889, 'rabbatlanta': 4054, 'indeedcomrtimothyrabbceffdbfauthorized': 2478, 'zell': 5383, 'ganovember': 2116, 'presentleading': 3828, 'cocollaborated': 898, 'webmobile': 5215, 'visualization': 5173, 'develops': 1446, 'remain': 4160, 'standardof': 4594, 'excellencecontributes': 1842, 'ital': 2640, 'transforms': 4961, 'stunning': 4678, 'andengaging': 220, 'graphicscreative': 2185, 'manageruniversoul': 2970, 'circus': 836, 'gajanuary': 2103, 'internsprovided': 2609, 'productcreated': 3905, 'productionsenior': 3916, 'designerbrandmoversaugust': 1327, 'mediaapplicationsproduced': 3078, 'gamesmanaged': 2111, 'motivated': 3240, 'contentkey': 1052, 'clientstrategy': 873, 'sessionseducationbfa': 4411, 'businessthe': 682, 'atlantalinkshttptimrabbcom': 421, 'tracy': 4940, 'jonesproject': 2674, 'communicatorclark': 960, 'indeedcomrtracyjonesbaffbfbdderare': 2479, 'mind': 3166, 'acumen': 52, 'blend': 575, 'marketingresulting': 3016, 'applying': 309, 'deploys': 1298, 'corporateintent': 1108, 'learner': 2783, 'versatile': 5147, 'teamwork': 4792, 'commitment': 939, 'andindustriousness': 233, 'demanding': 1279, 'rolesintuitive': 4278, 'designentrepreneurial': 1319, 'approachcustomer': 316, 'centric': 781, 'mindsetcollaborativeresults': 3169, 'orientededucator': 3505, 'trainerteam': 4952, 'mentorrelationship': 3116, 'builderrole': 666, 'modelgoalorientedunderstands': 3202, 'assetcontributes': 390, 'othersbb': 3518, 'bcdomestic': 518, 'internationalorganizational': 2602, 'developmentconceptual': 1442, 'visionarystrong': 5166, 'orientationcomplete': 3504, 'oftechnical': 3432, 'setswilling': 4413, 'directorempath': 1514, 'consultantcohesive': 1040, 'entitiesfocused': 1790, 'educating': 1690, 'exceptional': 1846, 'clientsmarketing': 868, 'temporary': 4817, 'contractajax': 1064, 'tocco': 4898, 'magnethermic': 2914, 'corp': 1103, 'warren': 5193, 'ohjanuary': 3436, 'internationally': 2601, 'budgeted': 658, 'launched': 2760, 'organizationsdatabases': 3499, 'curate': 1199, 'install': 2554, 'revitalizing': 4256, 'employeeengagement': 1741, 'confidence': 1015, 'printingservices': 3870, 'andlayout': 239, 'buy': 683, 'ajax': 149, 'toccosister': 4899, 'companiesproduction': 963, 'artistthe': 360, 'kroger': 2723, 'comay': 930, 'expediting': 1870, 'trainingprocess': 4956, 'resulting': 4234, 'contribution': 1076, 'attaining': 424, 'circular': 834, 'multidepartment': 3261, 'dailydeadlines': 1224, 'adapt': 54, 'effectiveness': 1710, 'basedapplicationscreative': 504, 'directorpolaris': 1556, 'window': 5252, 'youngstown': 5377, 'concurrent': 1010, 'budgetof': 660, 'negotiating': 3317, 'assigned': 394, 'illustrationphoto': 2370, 'extensively': 1892, 'bbbc': 514, 'form': 2024, 'promotionalmaterials': 3972, 'introduce': 2621, 'intranetbased': 2620, 'ordering': 3493, 'marketingmaterialseducationbs': 3011, 'cum': 1198, 'laude': 2756, 'graduate': 2171, 'akron': 150, 'ohaa': 3435, 'honors': 2307, 'communicationart': 950, 'paskillsproject': 3597, 'adobephotoshop': 83, 'mailprint': 2920, 'yearslinkshttpcoroflotcomtajonesportfoliohttplinkedincomintajones': 5349}\n"
     ]
    }
   ],
   "source": [
    " cmp.convertToDocumentMatrix(30)"
   ]
  },
  {
   "cell_type": "code",
   "execution_count": null,
   "metadata": {
    "collapsed": false
   },
   "outputs": [],
   "source": [
    "# class databaseHandler:\n",
    "#     def __init__(self,password=\"ST.xavier51\",databaseName=\"cvRanking\"):\n",
    "#         import pymysql\n",
    "#         try:\n",
    "#             self.database=pymysql.connect(\"localhost\",\"root\",\"ST.xavier51\",\"cvRanking\")\n",
    "#             self.cursor = self.database.cursor()\n",
    "#         except Exception as e:\n",
    "#             print(\"error info %s\"%e)\n",
    "#     def entryTheCV(self,data_CV):\n",
    "#         try:\n",
    "# #             dataReturned=self.checkDuplication(data_CV[1])\n",
    "# #             if(len(dataReturned)==0):\n",
    "#                 add_CV=\"\"\"insert into recordentry\n",
    "#                     (checkRecord,recordname)\n",
    "#                     values(%s,%s)\"\"\"\n",
    "#     #             add_CV=\"\"\"insert into recordentry\n",
    "#     #                 (idrecordEntry,checkRecord,recordname)\n",
    "#     #                 values(%s,%s,%s)\"\"\"\n",
    "#                 #data_CV=(\"yes\",\"ram\")\n",
    "#                 print(data_CV)\n",
    "#                 self.cursor.execute(add_CV,data_CV)\n",
    "#                 self.database.commit()\n",
    "#                 print(\"CV name is entered in database\")\n",
    "#         except Exception as e:\n",
    "#             print(\"in entryTheCV\\t\"+str(e))\n",
    "#     def checkDuplication(self,name_CV):\n",
    "#         try:\n",
    "#             check_CV=\"\"\"select* from recordentry as re where re.recordname=%s\"\"\"\n",
    "#             self.cursor.execute(check_CV,name_CV)\n",
    "#             result = self.cursor.fetchall()\n",
    "#         except Exception as e:\n",
    "#             print(\"in process checkDuplication\\t\"+str(e))\n",
    "#         if(len(result)==0):  \n",
    "#             return False\n",
    "#         else:\n",
    "#             return True  \n",
    "#     def closeConnection(self):\n",
    "#         self.database.close()"
   ]
  },
  {
   "cell_type": "code",
   "execution_count": null,
   "metadata": {
    "collapsed": false,
    "scrolled": true
   },
   "outputs": [],
   "source": []
  },
  {
   "cell_type": "code",
   "execution_count": null,
   "metadata": {
    "collapsed": false,
    "scrolled": true
   },
   "outputs": [],
   "source": [
    "\n",
    "\n"
   ]
  },
  {
   "cell_type": "code",
   "execution_count": 49,
   "metadata": {
    "collapsed": false
   },
   "outputs": [],
   "source": [
    "# cmp.compareTotalLines()\n"
   ]
  },
  {
   "cell_type": "code",
   "execution_count": 50,
   "metadata": {
    "collapsed": false
   },
   "outputs": [],
   "source": [
    "# cmp.compareTotalWords()"
   ]
  },
  {
   "cell_type": "code",
   "execution_count": null,
   "metadata": {
    "collapsed": false
   },
   "outputs": [],
   "source": []
  },
  {
   "cell_type": "code",
   "execution_count": null,
   "metadata": {
    "collapsed": false
   },
   "outputs": [],
   "source": []
  },
  {
   "cell_type": "code",
   "execution_count": null,
   "metadata": {
    "collapsed": false
   },
   "outputs": [],
   "source": [
    "\n"
   ]
  },
  {
   "cell_type": "code",
   "execution_count": 2,
   "metadata": {
    "collapsed": false
   },
   "outputs": [
    {
     "name": "stdout",
     "output_type": "stream",
     "text": [
      "[[0 0 2]\n",
      " [0 1 1]\n",
      " [1 0 1]]\n",
      "{'sagar': 2, 'hero': 1, 'ass': 0}\n",
      "<class 'scipy.sparse.csr.csr_matrix'>\n"
     ]
    }
   ],
   "source": [
    "textCollectionForDM=['i am sagar sagar','i is hero sagar','i ass sagar']\n",
    "from sklearn.feature_extraction.text import CountVectorizer\n",
    "from sklearn.feature_extraction.text import TfidfTransformer\n",
    "documentMatrix=[]\n",
    "vectorizer=CountVectorizer(stop_words='english',min_df=1)\n",
    "documentMatrix=vectorizer.fit_transform(textCollectionForDM)\n",
    "tfidf = TfidfTransformer(norm=\"l2\")\n",
    "tfidf.fit(documentMatrix)\n",
    "documentMatrixNormalized=tfidf.transform(documentMatrix)\n",
    "print(documentMatrix.todense())\n",
    "print (vectorizer.vocabulary_)\n",
    "print(type(documentMatrix))"
   ]
  },
  {
   "cell_type": "code",
   "execution_count": null,
   "metadata": {
    "collapsed": true
   },
   "outputs": [],
   "source": [
    "from scipy import sparse\n",
    "with open(\"C:\\\\Users\\\\sagar\\\\Desktop\\\\CV coll\\\\documentMatrixsaas.txt\",\"w\") as file:\n",
    "#Save\n",
    "sparse.save_npz('data_sparse.npz', file)\n",
    "\n",
    "#Load\n",
    "data = sparse.load_npz(\"data_sparse.npz\")"
   ]
  },
  {
   "cell_type": "code",
   "execution_count": 52,
   "metadata": {
    "collapsed": false
   },
   "outputs": [],
   "source": [
    "\n",
    "# import numpy as np\n",
    "# # print(documentMatrix.toarray())\n",
    "# # print(documentMatrixNormalized.toarray())\n",
    "# # x=[1,2,3,4]\n",
    "# # y=[5,6,7,8]\n",
    "# # vocab=vectorizer.get_feature_names()\n",
    "# # dist = documentMatrix.toarray()\n",
    "# print(type(documentMatrix))\n",
    "# # for vectors in dist:\n",
    "# #     print(vectors)\n",
    "# from sklearn.preprocessing import normalize\n",
    "# data = np.array(documentMatrix.toarray())\n",
    "# print(data)\n",
    "# data =normalize(data, norm='l2')\n",
    "# print(data)\n",
    "\n",
    "# # for item,freqn in zip(vocab, dist):\n",
    "# #         if(freqn>2):\n",
    "# #             print(item,freqn)\n",
    "# #print(count)\n"
   ]
  },
  {
   "cell_type": "code",
   "execution_count": 53,
   "metadata": {
    "collapsed": false
   },
   "outputs": [],
   "source": [
    "\n",
    "# import numpy as np\n",
    "# import matplotlib.pyplot as plt\n",
    "# vocab=vectorizer.get_feature_names()\n",
    "# dist = np.sum(documentMatrix.toarray(), axis=0)\n",
    "# print(dist)\n",
    "# yLocation=np.arange(len(dist))\n",
    "# width = 0.35\n",
    "# fig, ax = plt.subplots()\n",
    "# for tag, count in zip(vocab, dist):\n",
    "#     print(count, tag) \n",
    "# plt.bar(yLocation, dist, align='center', alpha=0.5)\n",
    "# plt.xticks(yLocation, vocab)\n",
    "# plt.ylabel('words')\n",
    "# plt.title('comp')\n",
    " \n",
    "# print(plt.show())"
   ]
  },
  {
   "cell_type": "code",
   "execution_count": 54,
   "metadata": {
    "collapsed": false
   },
   "outputs": [],
   "source": [
    "# print(vectorizer.vocabulary_)\n",
    "# for x in documentMatrix:\n",
    "#     print(x[0][0])"
   ]
  },
  {
   "cell_type": "code",
   "execution_count": 55,
   "metadata": {
    "collapsed": false
   },
   "outputs": [],
   "source": [
    "# import numpy as np\n",
    "# from sklearn.preprocessing import normalize\n",
    "# vectorValue=[1,2,3,4,5]\n",
    "# data = np.asarray(vectorValue,dtype=np.float)\n",
    "# data\n",
    "# data1 =normalize(data, norm='l2')\n",
    "# x=[]\n",
    "# for r in data1:\n",
    "#     print(data1[0])\n",
    "#     for column in r:\n",
    "#         print(column)\n",
    "#         x.append(column)\n",
    "#         #print(data1[0][column])\n",
    "# x"
   ]
  },
  {
   "cell_type": "code",
   "execution_count": 56,
   "metadata": {
    "collapsed": false
   },
   "outputs": [],
   "source": [
    "#len(cmp.normalizedVectorValue)"
   ]
  },
  {
   "cell_type": "code",
   "execution_count": 57,
   "metadata": {
    "collapsed": false,
    "scrolled": true
   },
   "outputs": [],
   "source": [
    "# import numpy as np\n",
    "# from sklearn.cluster import MeanShift\n",
    "# from sklearn.datasets.samples_generator import make_blobs\n",
    "# import matplotlib.pyplot as plt\n",
    "# from matplotlib import style\n",
    "# style.use(\"ggplot\")\n",
    "# #plt.scatter(cmp.normalizedVectorValue)\n",
    "# #plt.show()\n",
    "# ms = MeanShift()\n",
    "# ms.fit(cmp.normalizedVectorValue)\n",
    "# labels = ms.labels_\n",
    "# cluster_centers = ms.cluster_centers_\n",
    "# print(cluster_centers)"
   ]
  },
  {
   "cell_type": "code",
   "execution_count": 58,
   "metadata": {
    "collapsed": false
   },
   "outputs": [],
   "source": [
    "# filepath=(\"C:\\\\Users\\\\sagar\\\\Desktop\\\\CV coll\")\n",
    "# import os\n",
    "# try:\n",
    "#     if(os.path.exists(filepath)):\n",
    "#         for filename in os.listdir(filepath):\n",
    "#             print(filename)\n",
    "#             print(os.path.isfile(filename))\n",
    "#     else:\n",
    "#         print(\"path not found\")\n",
    "#             #print(\"directory\")\n",
    "# #         if filename.endswith(\".pdf\"):\n",
    "# #                 print(filename)\n",
    "# #         else:\n",
    "# #             print(\"files not found in required format\")\n",
    "# except:\n",
    "#     print(\"location not valid\")\n",
    "# #pdfFileObj = open(filepath+'.pdf','rb')"
   ]
  },
  {
   "cell_type": "code",
   "execution_count": 59,
   "metadata": {
    "collapsed": false
   },
   "outputs": [],
   "source": [
    "# filepath=(\"C:\\\\Users\\\\sagar\\\\Desktop\\\\CV coll\\\\kailesh\")\n",
    "# import os\n",
    "\n",
    "# def list_files(dir):\n",
    "#     r = []\n",
    "#     for root, dirs, files in os.walk(dir):\n",
    "#         for name in files:\n",
    "#             print(name)\n",
    "#             r.append(os.path.join(root, name))\n",
    "#     return r\n",
    "# list_files(filepath)"
   ]
  },
  {
   "cell_type": "code",
   "execution_count": 79,
   "metadata": {
    "collapsed": false
   },
   "outputs": [
    {
     "name": "stdout",
     "output_type": "stream",
     "text": [
      "eats\n",
      "eats\n",
      "eats\n"
     ]
    }
   ],
   "source": [
    "words=['eat','eats','eating']\n",
    "from nltk.stem import WordNetLemmatizer\n",
    "x=''\n",
    "wnl = nltk.WordNetLemmatizer()\n",
    "for word in words:\n",
    "    x=wnl.lemmatize(\"eats\")\n",
    "    print(x)\n",
    "#refinedText=' '.join(self.refinedWordWholeList)"
   ]
  },
  {
   "cell_type": "code",
   "execution_count": 67,
   "metadata": {
    "collapsed": false
   },
   "outputs": [
    {
     "data": {
      "text/plain": [
       "['eat', 'eats', 'eating']"
      ]
     },
     "execution_count": 67,
     "metadata": {},
     "output_type": "execute_result"
    }
   ],
   "source": [
    "refinedWordWholeList"
   ]
  },
  {
   "cell_type": "code",
   "execution_count": 85,
   "metadata": {
    "collapsed": false
   },
   "outputs": [
    {
     "data": {
      "text/plain": [
       "'happier'"
      ]
     },
     "execution_count": 85,
     "metadata": {},
     "output_type": "execute_result"
    }
   ],
   "source": [
    "from nltk.stem import WordNetLemmatizer\n",
    "wordnet_lemmatizer = WordNetLemmatizer()\n",
    "wordnet_lemmatizer.lemmatize('happier')\n"
   ]
  },
  {
   "cell_type": "code",
   "execution_count": 86,
   "metadata": {
    "collapsed": true
   },
   "outputs": [],
   "source": [
    "from nltk.stem import PorterStemmer"
   ]
  },
  {
   "cell_type": "code",
   "execution_count": 87,
   "metadata": {
    "collapsed": true
   },
   "outputs": [],
   "source": [
    "stemmer = PorterStemmer()"
   ]
  },
  {
   "cell_type": "code",
   "execution_count": 88,
   "metadata": {
    "collapsed": true
   },
   "outputs": [],
   "source": [
    "singles = [stemmer.stem(plural) for plural in words]"
   ]
  },
  {
   "cell_type": "code",
   "execution_count": 93,
   "metadata": {
    "collapsed": false
   },
   "outputs": [
    {
     "name": "stdout",
     "output_type": "stream",
     "text": [
      "['eat', 'eat', 'eat']\n",
      "['eat']\n"
     ]
    }
   ],
   "source": [
    "print(singles)\n",
    "print(list(set(singles)))"
   ]
  },
  {
   "cell_type": "code",
   "execution_count": 90,
   "metadata": {
    "collapsed": false
   },
   "outputs": [
    {
     "name": "stdout",
     "output_type": "stream",
     "text": [
      "cat\n",
      "cactus\n",
      "goose\n",
      "rock\n",
      "python\n",
      "good\n",
      "best\n",
      "run\n",
      "run\n"
     ]
    }
   ],
   "source": [
    "from nltk.stem import WordNetLemmatizer\n",
    "\n",
    "lemmatizer = WordNetLemmatizer()\n",
    "\n",
    "print(lemmatizer.lemmatize(\"cats\"))\n",
    "print(lemmatizer.lemmatize(\"cacti\"))\n",
    "print(lemmatizer.lemmatize(\"geese\"))\n",
    "print(lemmatizer.lemmatize(\"rocks\"))\n",
    "print(lemmatizer.lemmatize(\"python\"))\n",
    "print(lemmatizer.lemmatize(\"better\", pos=\"a\"))\n",
    "print(lemmatizer.lemmatize(\"best\", pos=\"a\"))\n",
    "print(lemmatizer.lemmatize(\"run\"))\n",
    "print(lemmatizer.lemmatize(\"run\",'v'))"
   ]
  },
  {
   "cell_type": "code",
   "execution_count": 106,
   "metadata": {
    "collapsed": false
   },
   "outputs": [
    {
     "ename": "AttributeError",
     "evalue": "module 'nltk' has no attribute 'word_tokenizer'",
     "output_type": "error",
     "traceback": [
      "\u001b[0;31m---------------------------------------------------------------------------\u001b[0m",
      "\u001b[0;31mAttributeError\u001b[0m                            Traceback (most recent call last)",
      "\u001b[0;32m<ipython-input-106-b67b215be87b>\u001b[0m in \u001b[0;36m<module>\u001b[0;34m()\u001b[0m\n\u001b[1;32m      1\u001b[0m \u001b[1;31m#words=['eat','eats','eating','happy','happying','cry','crying']\u001b[0m\u001b[1;33m\u001b[0m\u001b[1;33m\u001b[0m\u001b[0m\n\u001b[1;32m      2\u001b[0m \u001b[0mwords\u001b[0m\u001b[1;33m=\u001b[0m\u001b[1;33m[\u001b[0m\u001b[1;34m'i am eating apple'\u001b[0m\u001b[1;33m,\u001b[0m\u001b[1;34m'i am eat orange'\u001b[0m\u001b[1;33m]\u001b[0m\u001b[1;33m\u001b[0m\u001b[0m\n\u001b[0;32m----> 3\u001b[0;31m \u001b[0mword\u001b[0m\u001b[1;33m=\u001b[0m\u001b[0mnltk\u001b[0m\u001b[1;33m.\u001b[0m\u001b[0mword_tokenizer\u001b[0m\u001b[1;33m(\u001b[0m\u001b[0mwords\u001b[0m\u001b[1;33m)\u001b[0m\u001b[1;33m\u001b[0m\u001b[0m\n\u001b[0m\u001b[1;32m      4\u001b[0m \u001b[0mprint\u001b[0m\u001b[1;33m(\u001b[0m\u001b[0mword\u001b[0m\u001b[1;33m)\u001b[0m\u001b[1;33m\u001b[0m\u001b[0m\n\u001b[1;32m      5\u001b[0m \u001b[1;32mdef\u001b[0m \u001b[0mfindDocumentMatrix\u001b[0m\u001b[1;33m(\u001b[0m\u001b[0mtotalCVText\u001b[0m\u001b[1;33m)\u001b[0m\u001b[1;33m:\u001b[0m\u001b[1;33m\u001b[0m\u001b[0m\n",
      "\u001b[0;31mAttributeError\u001b[0m: module 'nltk' has no attribute 'word_tokenizer'"
     ]
    }
   ],
   "source": [
    "#words=['eat','eats','eating','happy','happying','cry','crying']\n",
    "words=['i am eating apple','i am eat orange']\n",
    "word=nltk.word_tokenize(words)\n",
    "print(word)\n",
    "def findDocumentMatrix(totalCVText):\n",
    "        import nltk\n",
    "        from sklearn.feature_extraction.text import CountVectorizer\n",
    "        textList=[]\n",
    "        word=nltk.word_tokenizer(words)\n",
    "        print(word)\n",
    "        textList=lemmatize(totalCVText)\n",
    "        textList=Stemmer(totalCVText)\n",
    "        vectorizer=CountVectorizer(stop_words='english')\n",
    "        documentMatrix=vectorizer.fit_transform(textList)\n",
    "        vocabulary=vectorizer.vocabulary_\n",
    "        print(documentMatrix)\n",
    "        print(vocabulary)\n",
    "        return documentMatrix,vocabulary\n",
    "def Stemmer(totalCVText):\n",
    "        from nltk.stem import PorterStemmer\n",
    "        stemmer = PorterStemmer()\n",
    "        singles = [stemmer.stem(plural) for plural in totalCVText]\n",
    "        print(singles)\n",
    "        singles=list(set(singles))\n",
    "        print(singles)\n",
    "        return singles\n",
    "def lemmatize(totalCVText):\n",
    "        from nltk.stem import WordNetLemmatizer\n",
    "        stemmer = WordNetLemmatizer()\n",
    "        singles = [stemmer.lemmatize(plural) for plural in totalCVText]\n",
    "        print(singles)\n",
    "        singles=list(set(singles))\n",
    "        print(singles)\n",
    "        return singles\n",
    "findDocumentMatrix(words)"
   ]
  },
  {
   "cell_type": "code",
   "execution_count": 115,
   "metadata": {
    "collapsed": false
   },
   "outputs": [
    {
     "name": "stdout",
     "output_type": "stream",
     "text": [
      "[['i', 'am', 'eating', 'apple'], ['i', 'am', 'eat', 'orange']]\n"
     ]
    }
   ],
   "source": [
    "#words='i am eating apple i am eat orange'\n",
    "words=['i am eating apple','i am eat orange']\n",
    "wordList=[]\n",
    "for word in words:\n",
    "    word=nltk.word_tokenize(word)\n",
    "    wordList.append(word)\n",
    "print(wordList)"
   ]
  },
  {
   "cell_type": "code",
   "execution_count": 111,
   "metadata": {
    "collapsed": true
   },
   "outputs": [],
   "source": [
    "words=['i am eating apple','i am eat orange']\n",
    "text=' '.join(words)"
   ]
  },
  {
   "cell_type": "code",
   "execution_count": 112,
   "metadata": {
    "collapsed": false
   },
   "outputs": [
    {
     "data": {
      "text/plain": [
       "'i am eating apple i am eat orange'"
      ]
     },
     "execution_count": 112,
     "metadata": {},
     "output_type": "execute_result"
    }
   ],
   "source": [
    "text"
   ]
  },
  {
   "cell_type": "code",
   "execution_count": 138,
   "metadata": {
    "collapsed": false
   },
   "outputs": [],
   "source": [
    "import json\n",
    "CVTextColl=[\"hari\",\"ram\"]\n",
    "with open(\"C:\\\\Users\\\\sagar\\\\Desktop\\\\CV coll\\\\wholeCVTextsss.json\",\"w\") as file:\n",
    "    json.dump(CVTextColl,file)\n",
    "file.close()\n",
    "CVTextColl=[]\n",
    "with open(\"C:\\\\Users\\\\sagar\\\\Desktop\\\\CV coll\\\\wholeCVTextsss.json\",\"r\") as file:\n",
    "    CVTextColl=json.load(file)\n",
    "file.close()\n"
   ]
  },
  {
   "cell_type": "code",
   "execution_count": 140,
   "metadata": {
    "collapsed": false
   },
   "outputs": [
    {
     "data": {
      "text/plain": [
       "'hari'"
      ]
     },
     "execution_count": 140,
     "metadata": {},
     "output_type": "execute_result"
    }
   ],
   "source": [
    "CVTextColl[0]"
   ]
  },
  {
   "cell_type": "code",
   "execution_count": null,
   "metadata": {
    "collapsed": true
   },
   "outputs": [],
   "source": []
  }
 ],
 "metadata": {
  "kernelspec": {
   "display_name": "Python 3",
   "language": "python",
   "name": "python3"
  },
  "language_info": {
   "codemirror_mode": {
    "name": "ipython",
    "version": 3
   },
   "file_extension": ".py",
   "mimetype": "text/x-python",
   "name": "python",
   "nbconvert_exporter": "python",
   "pygments_lexer": "ipython3",
   "version": "3.6.0"
  }
 },
 "nbformat": 4,
 "nbformat_minor": 2
}
